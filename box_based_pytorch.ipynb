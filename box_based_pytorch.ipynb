{
 "cells": [
  {
   "cell_type": "markdown",
   "metadata": {},
   "source": [
    "# Extract boxes with PyTorch"
   ]
  },
  {
   "cell_type": "code",
   "execution_count": 33,
   "metadata": {},
   "outputs": [
    {
     "name": "stdout",
     "output_type": "stream",
     "text": [
      "The autoreload extension is already loaded. To reload it, use:\n",
      "  %reload_ext autoreload\n",
      "Populating the interactive namespace from numpy and matplotlib\n"
     ]
    },
    {
     "name": "stderr",
     "output_type": "stream",
     "text": [
      "/root/.pyenv/versions/3.6.0/lib/python3.6/site-packages/IPython/core/magics/pylab.py:160: UserWarning: pylab import has clobbered these variables: ['random', 'identity']\n",
      "`%matplotlib` prevents importing * from pylab and numpy\n",
      "  \"\\n`%matplotlib` prevents importing * from pylab and numpy\"\n"
     ]
    }
   ],
   "source": [
    "%load_ext autoreload\n",
    "%autoreload 2\n",
    "\n",
    "import os, glob, json, tqdm, pandas\n",
    "import matplotlib.pyplot as plt\n",
    "%pylab inline\n",
    "\n",
    "import torch\n",
    "from torch import nn\n",
    "from torch.autograd import Variable\n",
    "from torch.nn import functional as F\n",
    "from torch.optim import Adam\n",
    "\n",
    "from imgaug import augmenters as iaa\n",
    "from imgaug import imgaug as ia\n",
    "from PIL import Image\n",
    "\n",
    "from IPython.display import display\n",
    "\n",
    "from prepare_images_utils import *\n",
    "from latex_dataset import *"
   ]
  },
  {
   "cell_type": "markdown",
   "metadata": {},
   "source": [
    "## Prepare data source"
   ]
  },
  {
   "cell_type": "code",
   "execution_count": 2,
   "metadata": {},
   "outputs": [],
   "source": [
    "SRC_DIR = '/notebook/generated/src/'"
   ]
  },
  {
   "cell_type": "code",
   "execution_count": 3,
   "metadata": {},
   "outputs": [],
   "source": [
    "all_image_ids = [os.path.basename(fname)[:-9]\n",
    "                 for fname in glob.glob(os.path.join(SRC_DIR, '*_out.json'))]\n",
    "random.shuffle(all_image_ids)\n",
    "\n",
    "TOTAL_SAMPLES = len(all_image_ids)\n",
    "TRAIN_SAMPLES = int(TOTAL_SAMPLES * 0.8)\n",
    "VAL_SAMPLES = TOTAL_SAMPLES - TRAIN_SAMPLES\n",
    "train_image_ids = all_image_ids[:TRAIN_SAMPLES]\n",
    "val_image_ids = all_image_ids[TRAIN_SAMPLES:]"
   ]
  },
  {
   "cell_type": "code",
   "execution_count": 4,
   "metadata": {},
   "outputs": [],
   "source": [
    "def load_image_with_boxes(img_id):\n",
    "    img = load_image_opaque(os.path.join(SRC_DIR, img_id + '_in.png'))\n",
    "    with open(os.path.join(SRC_DIR, img_id + '_out.json'), 'r') as f:\n",
    "        boxes = json.load(f)\n",
    "    return img, boxes\n",
    "\n",
    "\n",
    "def prepare_img_boxes_for_nn(img, boxes, shape=(600, 600)):\n",
    "    cats, just_boxes = zip(*boxes)\n",
    "    cats = numpy.array(cats)\n",
    "    just_boxes = numpy.array(just_boxes) * POINTS_TO_PIXELS_FACTOR\n",
    "    just_boxes = just_boxes[:, [1, 0, 3, 2]] # x1, y1, x2, y2\n",
    "    cropbox = numpy.array((just_boxes[:, 0].min(),\n",
    "                           just_boxes[:, 1].min(),\n",
    "                           just_boxes[:, 2].max(),\n",
    "                           just_boxes[:, 3].max()))\n",
    "\n",
    "    res_in_img = Image.new('L', shape, 255)\n",
    "    res_in_img.paste(img.crop(cropbox))\n",
    "\n",
    "    just_boxes -= cropbox[[0, 1, 0, 1]]\n",
    "    just_boxes = numpy.clip(just_boxes,\n",
    "                            (0, 0, 0, 0),\n",
    "                            (shape[0], shape[1], shape[0], shape[1]))\n",
    "    boxes_area = (just_boxes[:, 2] - just_boxes[:, 0]) * (just_boxes[:, 3] - just_boxes[:, 1])\n",
    "    good_boxes = numpy.where(boxes_area > 0)[0]\n",
    "    return (numpy.array(res_in_img).astype('float32') / 255,\n",
    "            cats[good_boxes],\n",
    "            just_boxes[good_boxes])\n",
    "\n",
    "\n",
    "TOTAL_CLASSES = 5\n",
    "def make_mask_for_nn(size, box_cats, boxes_on_image):\n",
    "    result = numpy.zeros((TOTAL_CLASSES, ) + size, dtype='float32')\n",
    "    for cat, bbox in zip(box_cats, boxes_on_image.bounding_boxes):\n",
    "        result[cat, int(bbox.y1):int(bbox.y2+1), int(bbox.x1):int(bbox.x2+1)] = 1\n",
    "    return result\n",
    "\n",
    "\n",
    "def calc_loss_weights(mask):\n",
    "arr_to_img(cv2.Laplacian(test_batch[2][0][4], cv2.CV_32F, ksize=5))\n",
    "\n",
    "\n",
    "def data_gen(image_ids, augmenter, batch_size=32):\n",
    "    while True:\n",
    "        batch_image_ids = numpy.random.choice(image_ids, size=batch_size)\n",
    "        images, box_cats, boxes = zip(*[prepare_img_boxes_for_nn(*load_image_with_boxes(img_id))\n",
    "                                        for img_id in batch_image_ids])\n",
    "\n",
    "        det = augmenter.to_deterministic() if not augmenter.deterministic else augseq\n",
    "\n",
    "        images_aug = det.augment_images(images)\n",
    "\n",
    "        boxes = [ia.BoundingBoxesOnImage([ia.BoundingBox(*box)\n",
    "                                          for box in img_boxes],\n",
    "                                         img.shape)\n",
    "                 for img, img_boxes in zip(images, boxes)]\n",
    "        boxes_aug = det.augment_bounding_boxes(boxes)\n",
    "        \n",
    "        mask = numpy.array([make_mask_for_nn(img.shape, img_box_cats, img_boxes)\n",
    "                            for img, img_box_cats, img_boxes\n",
    "                            in zip(images_aug, box_cats, boxes_aug)])\n",
    "        yield (batch_image_ids, numpy.expand_dims(numpy.array(images_aug), 1), mask, boxes_aug)"
   ]
  },
  {
   "cell_type": "code",
   "execution_count": 5,
   "metadata": {},
   "outputs": [],
   "source": [
    "imgaug_pipeline = iaa.Sequential([\n",
    "#     iaa.Fliplr(0.5), # horizontally flip 50% of the images\n",
    "#     iaa.GaussianBlur(sigma=(0, 3.0)) # blur images with a sigma of 0 to 3.0\n",
    "])"
   ]
  },
  {
   "cell_type": "markdown",
   "metadata": {},
   "source": [
    "## Define a network"
   ]
  },
  {
   "cell_type": "code",
   "execution_count": 6,
   "metadata": {},
   "outputs": [],
   "source": [
    "class ConvBlock(nn.Module):\n",
    "    def __init__(self, in_channels, out_channels, kernel_size, dilations=[1], padding=1, bn=True):\n",
    "        super(ConvBlock, self).__init__()\n",
    "        self.bn = nn.BatchNorm2d(in_channels)\n",
    "        self.convs = nn.ModuleList([nn.Conv2d(in_channels,\n",
    "                                              out_channels,\n",
    "                                              kernel_size,\n",
    "                                              padding=padding,\n",
    "                                              dilation=dil)\n",
    "                                    for dil in dilations])\n",
    "\n",
    "    def forward(self, x):\n",
    "        x = self.bn(x)\n",
    "        return F.relu(torch.cat([conv(x) for conv in self.convs], dim=1))\n",
    "\n",
    "\n",
    "class UNet(nn.Module):\n",
    "    def __init__(self, out_channels=TOTAL_CLASSES, first_conv_channels=4, depth=2, out_layers=1, conv_kernel=(3, 3),\n",
    "                 enc_dilations=[1], dec_dilations=[1]):\n",
    "        super(UNet, self).__init__()\n",
    "        enc_channels = [1] + [first_conv_channels * (2**step) for step in range(depth)]\n",
    "        self.encoder = nn.ModuleList([ConvBlock(enc_channels[i],\n",
    "                                                enc_channels[i+1],\n",
    "                                                conv_kernel,\n",
    "                                                dilations=enc_dilations)\n",
    "                                      for i in range(depth)])\n",
    "        bottleneck_channels = enc_channels[-1] * 2\n",
    "        self.bottleneck = ConvBlock(enc_channels[-1],\n",
    "                                    bottleneck_channels,\n",
    "                                    conv_kernel,\n",
    "                                    dilations=enc_dilations)\n",
    "        dec_channels = [bottleneck_channels] + enc_channels[:0:-1]\n",
    "        self.dec_conv = nn.ModuleList([ConvBlock(dec_channels[i],\n",
    "                                                 dec_channels[i+1],\n",
    "                                                 conv_kernel,\n",
    "                                                 dilations=dec_dilations)\n",
    "                                      for i in range(depth)])\n",
    "        self.dec_deconv = nn.ModuleList([nn.ConvTranspose2d(dec_channels[i],\n",
    "                                                            dec_channels[i+1],\n",
    "                                                            (2, 2),\n",
    "                                                            stride=2)\n",
    "                                         for i in range(depth)])\n",
    "        self.out_layers = nn.ModuleList([ConvBlock(dec_channels[-1],\n",
    "                                                   dec_channels[-1],\n",
    "                                                   conv_kernel,\n",
    "                                                   dilations=dec_dilations)])\n",
    "        self.out_conv = nn.Conv2d(dec_channels[-1],\n",
    "                                  out_channels,\n",
    "                                  (1, 1))\n",
    "\n",
    "    def forward(self, x):\n",
    "        enc_conv_outs = []\n",
    "        enc_pool_outs = [x]\n",
    "        enc_pool_idx = []\n",
    "        for enc_conv in self.encoder:\n",
    "            cur_conv_out = enc_conv(enc_pool_outs[-1])\n",
    "            enc_conv_outs.append(cur_conv_out)\n",
    "            cur_pool_out = F.max_pool2d(cur_conv_out, (2, 2))\n",
    "            enc_pool_outs.append(cur_pool_out)\n",
    "            enc_pool_idx.append(cur_pool_idx)\n",
    "\n",
    "        cur_out = self.bottleneck(enc_pool_outs[-1])\n",
    "\n",
    "        for dec_step, (dec_conv, dec_deconv) in enumerate(zip(self.dec_conv, self.dec_deconv)):\n",
    "            up = dec_deconv(cur_out)\n",
    "            cur_out = torch.cat([up, enc_conv_outs[-dec_step-1]], dim=1)\n",
    "            cur_out = dec_conv(cur_out)\n",
    "\n",
    "        for out_layer in self.out_layers:\n",
    "            cur_out = F.relu(out_layer(cur_out))\n",
    "\n",
    "        return F.sigmoid(self.out_conv(cur_out))"
   ]
  },
  {
   "cell_type": "markdown",
   "metadata": {},
   "source": [
    "## Train"
   ]
  },
  {
   "cell_type": "code",
   "execution_count": 44,
   "metadata": {},
   "outputs": [],
   "source": [
    "def mcuda(x, cuda):\n",
    "    return x.cuda() if cuda else x\n",
    "\n",
    "\n",
    "def npvar(arr, cuda):\n",
    "    return mcuda(Variable(torch.from_numpy(arr)), cuda)\n",
    "\n",
    "\n",
    "def dice_loss(pred, target):\n",
    "    smooth = 1.\n",
    "\n",
    "    pflat = pred.view(-1)\n",
    "    tflat = target.view(-1)\n",
    "    intersection = (pflat * tflat).sum()\n",
    "    \n",
    "    return 1 - ((2. * intersection + smooth) /\n",
    "                (pflat.sum() + tflat.sum() + smooth))\n",
    "\n",
    "\n",
    "def run_network(network, generator, num_batches, criterion=dice_loss, optimizer=None, cuda=True):\n",
    "    metrics = []\n",
    "    gen_iter = iter(generator)\n",
    "    for _ in tqdm.tqdm(range(num_batches)):\n",
    "        image_ids, images, mask, boxes = next(gen_iter)\n",
    "        mask_var = npvar(mask, cuda)\n",
    "        cur_out = network(npvar(images, cuda))\n",
    "\n",
    "        loss = criterion(cur_out, mask_var)\n",
    "\n",
    "        if optimizer:\n",
    "            optimizer.zero_grad()\n",
    "            loss.backward()\n",
    "            nn.utils.clip_grad_norm(network.parameters(), 10)\n",
    "            optimizer.step()\n",
    "\n",
    "        cur_metrics = { 'loss' : loss.data[0] }\n",
    "        metrics.append(cur_metrics)\n",
    "    return metrics"
   ]
  },
  {
   "cell_type": "code",
   "execution_count": null,
   "metadata": {
    "collapsed": true
   },
   "outputs": [
    {
     "name": "stderr",
     "output_type": "stream",
     "text": [
      "\n",
      "  0%|          | 0/200 [00:00<?, ?it/s]\u001b[A"
     ]
    },
    {
     "name": "stdout",
     "output_type": "stream",
     "text": [
      "total parameters 60423\n",
      "epoch 0\n"
     ]
    },
    {
     "name": "stderr",
     "output_type": "stream",
     "text": [
      "\n",
      "  0%|          | 1/200 [00:00<01:08,  2.91it/s]\u001b[A\n",
      "  1%|          | 2/200 [00:00<01:05,  3.04it/s]\u001b[A\n",
      "  2%|▏         | 3/200 [00:00<01:04,  3.07it/s]\u001b[A\n",
      "  2%|▏         | 4/200 [00:01<01:02,  3.13it/s]\u001b[A\n",
      "  2%|▎         | 5/200 [00:01<01:01,  3.17it/s]\u001b[A\n",
      "  3%|▎         | 6/200 [00:01<01:00,  3.20it/s]\u001b[A\n",
      "Exception in thread Thread-989:\n",
      "Traceback (most recent call last):\n",
      "  File \"/root/.pyenv/versions/3.6.0/lib/python3.6/threading.py\", line 916, in _bootstrap_inner\n",
      "    self.run()\n",
      "  File \"/root/.pyenv/versions/3.6.0/lib/python3.6/site-packages/tqdm/_tqdm.py\", line 144, in run\n",
      "    for instance in self.tqdm_cls._instances:\n",
      "  File \"/root/.pyenv/versions/3.6.0/lib/python3.6/_weakrefset.py\", line 60, in __iter__\n",
      "    for itemref in self.data:\n",
      "RuntimeError: Set changed size during iteration\n",
      "\n",
      "100%|██████████| 200/200 [00:59<00:00,  3.34it/s]\n"
     ]
    },
    {
     "data": {
      "text/html": [
       "<div>\n",
       "<style>\n",
       "    .dataframe thead tr:only-child th {\n",
       "        text-align: right;\n",
       "    }\n",
       "\n",
       "    .dataframe thead th {\n",
       "        text-align: left;\n",
       "    }\n",
       "\n",
       "    .dataframe tbody tr th {\n",
       "        vertical-align: top;\n",
       "    }\n",
       "</style>\n",
       "<table border=\"1\" class=\"dataframe\">\n",
       "  <thead>\n",
       "    <tr style=\"text-align: right;\">\n",
       "      <th></th>\n",
       "      <th>loss</th>\n",
       "    </tr>\n",
       "  </thead>\n",
       "  <tbody>\n",
       "    <tr>\n",
       "      <th>mean</th>\n",
       "      <td>0.519798</td>\n",
       "    </tr>\n",
       "    <tr>\n",
       "      <th>std</th>\n",
       "      <td>0.264356</td>\n",
       "    </tr>\n",
       "  </tbody>\n",
       "</table>\n",
       "</div>"
      ],
      "text/plain": [
       "          loss\n",
       "mean  0.519798\n",
       "std   0.264356"
      ]
     },
     "metadata": {},
     "output_type": "display_data"
    },
    {
     "name": "stderr",
     "output_type": "stream",
     "text": [
      "100%|██████████| 20/20 [00:03<00:00,  5.36it/s]\n"
     ]
    },
    {
     "data": {
      "text/html": [
       "<div>\n",
       "<style>\n",
       "    .dataframe thead tr:only-child th {\n",
       "        text-align: right;\n",
       "    }\n",
       "\n",
       "    .dataframe thead th {\n",
       "        text-align: left;\n",
       "    }\n",
       "\n",
       "    .dataframe tbody tr th {\n",
       "        vertical-align: top;\n",
       "    }\n",
       "</style>\n",
       "<table border=\"1\" class=\"dataframe\">\n",
       "  <thead>\n",
       "    <tr style=\"text-align: right;\">\n",
       "      <th></th>\n",
       "      <th>loss</th>\n",
       "    </tr>\n",
       "  </thead>\n",
       "  <tbody>\n",
       "    <tr>\n",
       "      <th>mean</th>\n",
       "      <td>0.134852</td>\n",
       "    </tr>\n",
       "    <tr>\n",
       "      <th>std</th>\n",
       "      <td>0.006579</td>\n",
       "    </tr>\n",
       "  </tbody>\n",
       "</table>\n",
       "</div>"
      ],
      "text/plain": [
       "          loss\n",
       "mean  0.134852\n",
       "std   0.006579"
      ]
     },
     "metadata": {},
     "output_type": "display_data"
    },
    {
     "name": "stderr",
     "output_type": "stream",
     "text": [
      "\r",
      "  0%|          | 0/200 [00:00<?, ?it/s]"
     ]
    },
    {
     "name": "stdout",
     "output_type": "stream",
     "text": [
      "epoch 1\n"
     ]
    },
    {
     "name": "stderr",
     "output_type": "stream",
     "text": [
      "100%|██████████| 200/200 [01:00<00:00,  3.33it/s]\n"
     ]
    },
    {
     "data": {
      "text/html": [
       "<div>\n",
       "<style>\n",
       "    .dataframe thead tr:only-child th {\n",
       "        text-align: right;\n",
       "    }\n",
       "\n",
       "    .dataframe thead th {\n",
       "        text-align: left;\n",
       "    }\n",
       "\n",
       "    .dataframe tbody tr th {\n",
       "        vertical-align: top;\n",
       "    }\n",
       "</style>\n",
       "<table border=\"1\" class=\"dataframe\">\n",
       "  <thead>\n",
       "    <tr style=\"text-align: right;\">\n",
       "      <th></th>\n",
       "      <th>loss</th>\n",
       "    </tr>\n",
       "  </thead>\n",
       "  <tbody>\n",
       "    <tr>\n",
       "      <th>mean</th>\n",
       "      <td>0.085327</td>\n",
       "    </tr>\n",
       "    <tr>\n",
       "      <th>std</th>\n",
       "      <td>0.024822</td>\n",
       "    </tr>\n",
       "  </tbody>\n",
       "</table>\n",
       "</div>"
      ],
      "text/plain": [
       "          loss\n",
       "mean  0.085327\n",
       "std   0.024822"
      ]
     },
     "metadata": {},
     "output_type": "display_data"
    },
    {
     "name": "stderr",
     "output_type": "stream",
     "text": [
      "100%|██████████| 20/20 [00:03<00:00,  5.37it/s]\n"
     ]
    },
    {
     "data": {
      "text/html": [
       "<div>\n",
       "<style>\n",
       "    .dataframe thead tr:only-child th {\n",
       "        text-align: right;\n",
       "    }\n",
       "\n",
       "    .dataframe thead th {\n",
       "        text-align: left;\n",
       "    }\n",
       "\n",
       "    .dataframe tbody tr th {\n",
       "        vertical-align: top;\n",
       "    }\n",
       "</style>\n",
       "<table border=\"1\" class=\"dataframe\">\n",
       "  <thead>\n",
       "    <tr style=\"text-align: right;\">\n",
       "      <th></th>\n",
       "      <th>loss</th>\n",
       "    </tr>\n",
       "  </thead>\n",
       "  <tbody>\n",
       "    <tr>\n",
       "      <th>mean</th>\n",
       "      <td>0.063611</td>\n",
       "    </tr>\n",
       "    <tr>\n",
       "      <th>std</th>\n",
       "      <td>0.008696</td>\n",
       "    </tr>\n",
       "  </tbody>\n",
       "</table>\n",
       "</div>"
      ],
      "text/plain": [
       "          loss\n",
       "mean  0.063611\n",
       "std   0.008696"
      ]
     },
     "metadata": {},
     "output_type": "display_data"
    },
    {
     "name": "stderr",
     "output_type": "stream",
     "text": [
      "\r",
      "  0%|          | 0/200 [00:00<?, ?it/s]"
     ]
    },
    {
     "name": "stdout",
     "output_type": "stream",
     "text": [
      "epoch 2\n"
     ]
    },
    {
     "name": "stderr",
     "output_type": "stream",
     "text": [
      "100%|██████████| 200/200 [00:59<00:00,  3.34it/s]\n"
     ]
    },
    {
     "data": {
      "text/html": [
       "<div>\n",
       "<style>\n",
       "    .dataframe thead tr:only-child th {\n",
       "        text-align: right;\n",
       "    }\n",
       "\n",
       "    .dataframe thead th {\n",
       "        text-align: left;\n",
       "    }\n",
       "\n",
       "    .dataframe tbody tr th {\n",
       "        vertical-align: top;\n",
       "    }\n",
       "</style>\n",
       "<table border=\"1\" class=\"dataframe\">\n",
       "  <thead>\n",
       "    <tr style=\"text-align: right;\">\n",
       "      <th></th>\n",
       "      <th>loss</th>\n",
       "    </tr>\n",
       "  </thead>\n",
       "  <tbody>\n",
       "    <tr>\n",
       "      <th>mean</th>\n",
       "      <td>0.062029</td>\n",
       "    </tr>\n",
       "    <tr>\n",
       "      <th>std</th>\n",
       "      <td>0.008366</td>\n",
       "    </tr>\n",
       "  </tbody>\n",
       "</table>\n",
       "</div>"
      ],
      "text/plain": [
       "          loss\n",
       "mean  0.062029\n",
       "std   0.008366"
      ]
     },
     "metadata": {},
     "output_type": "display_data"
    },
    {
     "name": "stderr",
     "output_type": "stream",
     "text": [
      "100%|██████████| 20/20 [00:03<00:00,  5.46it/s]\n"
     ]
    },
    {
     "data": {
      "text/html": [
       "<div>\n",
       "<style>\n",
       "    .dataframe thead tr:only-child th {\n",
       "        text-align: right;\n",
       "    }\n",
       "\n",
       "    .dataframe thead th {\n",
       "        text-align: left;\n",
       "    }\n",
       "\n",
       "    .dataframe tbody tr th {\n",
       "        vertical-align: top;\n",
       "    }\n",
       "</style>\n",
       "<table border=\"1\" class=\"dataframe\">\n",
       "  <thead>\n",
       "    <tr style=\"text-align: right;\">\n",
       "      <th></th>\n",
       "      <th>loss</th>\n",
       "    </tr>\n",
       "  </thead>\n",
       "  <tbody>\n",
       "    <tr>\n",
       "      <th>mean</th>\n",
       "      <td>0.059157</td>\n",
       "    </tr>\n",
       "    <tr>\n",
       "      <th>std</th>\n",
       "      <td>0.008804</td>\n",
       "    </tr>\n",
       "  </tbody>\n",
       "</table>\n",
       "</div>"
      ],
      "text/plain": [
       "          loss\n",
       "mean  0.059157\n",
       "std   0.008804"
      ]
     },
     "metadata": {},
     "output_type": "display_data"
    },
    {
     "name": "stderr",
     "output_type": "stream",
     "text": [
      "\r",
      "  0%|          | 0/200 [00:00<?, ?it/s]"
     ]
    },
    {
     "name": "stdout",
     "output_type": "stream",
     "text": [
      "epoch 3\n"
     ]
    },
    {
     "name": "stderr",
     "output_type": "stream",
     "text": [
      " 12%|█▏        | 24/200 [00:07<00:52,  3.32it/s]"
     ]
    }
   ],
   "source": [
    "%%prun\n",
    "EPOCHS_NUM = 10\n",
    "BATCHES_PER_EPOCH_TRAIN = 200\n",
    "BATCHES_PER_EPOCH_VAL = 20\n",
    "\n",
    "BATCH_SIZE = 8\n",
    "train_gen = data_gen(train_image_ids, imgaug_pipeline, batch_size=BATCH_SIZE)\n",
    "val_gen = data_gen(val_image_ids, imgaug_pipeline, batch_size=BATCH_SIZE)\n",
    "\n",
    "net = UNet(first_conv_channels=8, depth=3, enc_dilations=[1]).cuda()\n",
    "optimizer = Adam(net.parameters())\n",
    "print('total parameters', sum(numpy.product(p.size()) for p in net.parameters()))\n",
    "\n",
    "train_metrics = []\n",
    "val_metrics = []\n",
    "for epoch in range(EPOCHS_NUM):\n",
    "    print('epoch', epoch)\n",
    "    cur_train_metrics = run_network(net, train_gen, BATCHES_PER_EPOCH_TRAIN,\n",
    "                                    optimizer=optimizer)\n",
    "    train_metrics.extend(cur_train_metrics)\n",
    "    display(pandas.DataFrame(cur_train_metrics).describe().loc[['mean', 'std']])\n",
    "\n",
    "    cur_val_metrics = run_network(net, val_gen, BATCHES_PER_EPOCH_VAL)\n",
    "    val_metrics.extend(cur_val_metrics)\n",
    "    display(pandas.DataFrame(cur_val_metrics).describe().loc[['mean', 'std']])"
   ]
  },
  {
   "cell_type": "code",
   "execution_count": 46,
   "metadata": {},
   "outputs": [],
   "source": [
    "train_metrics = pandas.DataFrame(train_metrics)\n",
    "val_metrics = pandas.DataFrame(val_metrics)"
   ]
  },
  {
   "cell_type": "code",
   "execution_count": 47,
   "metadata": {},
   "outputs": [
    {
     "data": {
      "text/plain": [
       "<matplotlib.axes._subplots.AxesSubplot at 0x7f6db38c9cf8>"
      ]
     },
     "execution_count": 47,
     "metadata": {},
     "output_type": "execute_result"
    },
    {
     "data": {
      "image/png": "[encoded data removed]",
      "text/plain": [
       "<matplotlib.figure.Figure at 0x7f6db38cd160>"
      ]
     },
     "metadata": {},
     "output_type": "display_data"
    }
   ],
   "source": [
    "train_metrics.plot()"
   ]
  },
  {
   "cell_type": "code",
   "execution_count": 48,
   "metadata": {},
   "outputs": [
    {
     "data": {
      "text/plain": [
       "<matplotlib.axes._subplots.AxesSubplot at 0x7f6dd463c128>"
      ]
     },
     "execution_count": 48,
     "metadata": {},
     "output_type": "execute_result"
    },
    {
     "data": {
      "image/png": "[encoded data removed]",
      "text/plain": [
       "<matplotlib.figure.Figure at 0x7f6db4edff60>"
      ]
     },
     "metadata": {},
     "output_type": "display_data"
    }
   ],
   "source": [
    "val_metrics.plot()"
   ]
  },
  {
   "cell_type": "markdown",
   "metadata": {},
   "source": [
    "## Predict and visualize"
   ]
  },
  {
   "cell_type": "code",
   "execution_count": 63,
   "metadata": {},
   "outputs": [
    {
     "name": "stderr",
     "output_type": "stream",
     "text": [
      "/root/.pyenv/versions/3.6.0/lib/python3.6/site-packages/torch/serialization.py:147: UserWarning: Couldn't retrieve source code for container of type UNet. It won't be checked for correctness upon loading.\n",
      "  \"type \" + obj.__name__ + \". It won't be checked \"\n",
      "/root/.pyenv/versions/3.6.0/lib/python3.6/site-packages/torch/serialization.py:147: UserWarning: Couldn't retrieve source code for container of type ConvBlock. It won't be checked for correctness upon loading.\n",
      "  \"type \" + obj.__name__ + \". It won't be checked \"\n"
     ]
    }
   ],
   "source": [
    "torch.save(net, 'models/torch1')"
   ]
  },
  {
   "cell_type": "code",
   "execution_count": 64,
   "metadata": {},
   "outputs": [],
   "source": [
    "test_net = net.cpu()"
   ]
  },
  {
   "cell_type": "code",
   "execution_count": 66,
   "metadata": {},
   "outputs": [],
   "source": [
    "test_batch = next(iter(val_gen))\n",
    "test_pred = net(npvar(test_batch[1], False))\n",
    "test_pred_np = test_pred.data.numpy()"
   ]
  },
  {
   "cell_type": "code",
   "execution_count": 72,
   "metadata": {},
   "outputs": [
    {
     "data": {
      "text/plain": [
       "array([[ 1.,  1.,  1., ...,  1.,  1.,  1.],\n",
       "       [ 1.,  1.,  1., ...,  1.,  1.,  1.],\n",
       "       [ 1.,  1.,  1., ...,  1.,  1.,  1.],\n",
       "       ..., \n",
       "       [ 1.,  1.,  1., ...,  1.,  1.,  1.],\n",
       "       [ 1.,  1.,  1., ...,  1.,  1.,  1.],\n",
       "       [ 1.,  1.,  1., ...,  1.,  1.,  1.]], dtype=float32)"
      ]
     },
     "execution_count": 72,
     "metadata": {},
     "output_type": "execute_result"
    }
   ],
   "source": [
    "test_batch[1][0][0]"
   ]
  },
  {
   "cell_type": "code",
   "execution_count": 89,
   "metadata": {},
   "outputs": [
    {
     "data": {
      "text/plain": [
       "array([[ 1.,  1.,  1., ...,  0.,  0.,  0.],\n",
       "       [ 1.,  1.,  1., ...,  0.,  0.,  0.],\n",
       "       [ 1.,  1.,  1., ...,  0.,  0.,  0.],\n",
       "       ..., \n",
       "       [ 0.,  0.,  0., ...,  0.,  0.,  0.],\n",
       "       [ 0.,  0.,  0., ...,  0.,  0.,  0.],\n",
       "       [ 0.,  0.,  0., ...,  0.,  0.,  0.]], dtype=float32)"
      ]
     },
     "execution_count": 89,
     "metadata": {},
     "output_type": "execute_result"
    }
   ],
   "source": [
    "cv2.Cannytest_batch[2][0][1]"
   ]
  },
  {
   "cell_type": "code",
   "execution_count": 107,
   "metadata": {},
   "outputs": [
    {
     "data": {
      "image/png": "[encoded data removed]",
      "text/plain": [
       "<PIL.Image.Image image mode=L size=600x600 at 0x7F6DB515A390>"
      ]
     },
     "execution_count": 107,
     "metadata": {},
     "output_type": "execute_result"
    }
   ],
   "source": [
    "arr_to_img(cv2.Laplacian(test_batch[2][0][4], cv2.CV_32F, ksize=5))"
   ]
  },
  {
   "cell_type": "code",
   "execution_count": 99,
   "metadata": {},
   "outputs": [],
   "source": [
    "cv2.Laplacian?"
   ]
  },
  {
   "cell_type": "code",
   "execution_count": 73,
   "metadata": {},
   "outputs": [
    {
     "data": {
      "image/png": "[encoded data removed]",
      "text/plain": [
       "<PIL.Image.Image image mode=L size=600x600 at 0x7F6DB3D43908>"
      ]
     },
     "execution_count": 73,
     "metadata": {},
     "output_type": "execute_result"
    }
   ],
   "source": [
    "arr_to_img(test_batch[1][0][0])"
   ]
  },
  {
   "cell_type": "code",
   "execution_count": 85,
   "metadata": {},
   "outputs": [
    {
     "data": {
      "image/png": "[encoded data removed]",
      "text/plain": [
       "<PIL.Image.Image image mode=L size=600x600 at 0x7F6DD46C8D30>"
      ]
     },
     "execution_count": 85,
     "metadata": {},
     "output_type": "execute_result"
    }
   ],
   "source": [
    "arr_to_img(test_pred_np[0][3])"
   ]
  },
  {
   "cell_type": "code",
   "execution_count": null,
   "metadata": {},
   "outputs": [],
   "source": []
  }
 ],
 "metadata": {
  "kernelspec": {
   "display_name": "Python 3",
   "language": "python",
   "name": "python3"
  }
 },
 "nbformat": 4,
 "nbformat_minor": 2
}
