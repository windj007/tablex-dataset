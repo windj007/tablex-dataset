{
 "cells": [
  {
   "cell_type": "markdown",
   "metadata": {},
   "source": [
    "# Extract boxes with PyTorch"
   ]
  },
  {
   "cell_type": "code",
   "execution_count": 1,
   "metadata": {
    "ExecuteTime": {
     "end_time": "2017-11-01T15:07:47.618165Z",
     "start_time": "2017-11-01T15:07:47.614592Z"
    }
   },
   "outputs": [],
   "source": [
    "# !pip uninstall -y imgaug && pip install -U imgaug"
   ]
  },
  {
   "cell_type": "code",
   "execution_count": 2,
   "metadata": {
    "ExecuteTime": {
     "end_time": "2017-11-01T15:07:49.083569Z",
     "start_time": "2017-11-01T15:07:47.622462Z"
    }
   },
   "outputs": [
    {
     "name": "stdout",
     "output_type": "stream",
     "text": [
      "Populating the interactive namespace from numpy and matplotlib\n"
     ]
    }
   ],
   "source": [
    "%load_ext autoreload\n",
    "%autoreload 2\n",
    "\n",
    "import os, glob, json, tqdm, pandas\n",
    "import matplotlib.pyplot as plt\n",
    "%pylab inline\n",
    "\n",
    "import torch\n",
    "from torch import nn\n",
    "from torch.autograd import Variable\n",
    "from torch.nn import functional as F\n",
    "from torch.optim import Adam\n",
    "from torch.utils.data import Dataset, DataLoader\n",
    "\n",
    "from imgaug import augmenters as iaa\n",
    "from imgaug import imgaug as ia\n",
    "from PIL import Image\n",
    "\n",
    "from IPython.display import display\n",
    "\n",
    "from prepare_images_utils import *\n",
    "from latex_dataset import *"
   ]
  },
  {
   "cell_type": "markdown",
   "metadata": {},
   "source": [
    "## Prepare data source"
   ]
  },
  {
   "cell_type": "code",
   "execution_count": 3,
   "metadata": {
    "ExecuteTime": {
     "end_time": "2017-11-01T15:07:49.111646Z",
     "start_time": "2017-11-01T15:07:49.085537Z"
    }
   },
   "outputs": [],
   "source": [
    "SRC_DIR = './generated/src/'"
   ]
  },
  {
   "cell_type": "code",
   "execution_count": 4,
   "metadata": {
    "ExecuteTime": {
     "end_time": "2017-11-01T15:07:49.257269Z",
     "start_time": "2017-11-01T15:07:49.113582Z"
    }
   },
   "outputs": [],
   "source": [
    "all_image_ids = [os.path.basename(fname)[:-9]\n",
    "                 for fname in glob.glob(os.path.join(SRC_DIR, '*_out.json'))]\n",
    "random.shuffle(all_image_ids)\n",
    "\n",
    "TOTAL_SAMPLES = len(all_image_ids)\n",
    "TRAIN_SAMPLES = int(TOTAL_SAMPLES * 0.8)\n",
    "VAL_SAMPLES = TOTAL_SAMPLES - TRAIN_SAMPLES\n",
    "train_image_ids = all_image_ids[:TRAIN_SAMPLES]\n",
    "val_image_ids = all_image_ids[TRAIN_SAMPLES:]"
   ]
  },
  {
   "cell_type": "code",
   "execution_count": 5,
   "metadata": {
    "ExecuteTime": {
     "end_time": "2017-11-01T15:07:49.666790Z",
     "start_time": "2017-11-01T15:07:49.258884Z"
    }
   },
   "outputs": [],
   "source": [
    "def load_image_with_boxes(img_id):\n",
    "    img = load_image_opaque(os.path.join(SRC_DIR, img_id + '_in.png'))\n",
    "    with open(os.path.join(SRC_DIR, img_id + '_out.json'), 'r') as f:\n",
    "        boxes = json.load(f)\n",
    "    return img, boxes\n",
    "\n",
    "\n",
    "def prepare_img_boxes_for_nn(img, boxes, shape=(600, 600)):\n",
    "    cats, just_boxes = zip(*boxes)\n",
    "    cats = numpy.array(cats)\n",
    "    just_boxes = numpy.array(just_boxes) * POINTS_TO_PIXELS_FACTOR\n",
    "    just_boxes = just_boxes[:, [1, 0, 3, 2]] # x1, y1, x2, y2\n",
    "    cropbox = numpy.array((just_boxes[:, 0].min(),\n",
    "                           just_boxes[:, 1].min(),\n",
    "                           just_boxes[:, 2].max(),\n",
    "                           just_boxes[:, 3].max())).astype('int')\n",
    "\n",
    "    res_in_img = Image.new('L', shape, 255)\n",
    "    res_in_img.paste(img.crop(cropbox))\n",
    "\n",
    "    just_boxes -= cropbox[[0, 1, 0, 1]]\n",
    "    just_boxes = numpy.clip(just_boxes,\n",
    "                            (0, 0, 0, 0),\n",
    "                            (shape[0], shape[1], shape[0], shape[1]))\n",
    "    boxes_area = (just_boxes[:, 2] - just_boxes[:, 0]) * (just_boxes[:, 3] - just_boxes[:, 1])\n",
    "    good_boxes = numpy.where(boxes_area > 0)[0]\n",
    "    return (numpy.array(res_in_img).astype('float32') / 255,\n",
    "            cats[good_boxes],\n",
    "            just_boxes[good_boxes])\n",
    "\n",
    "\n",
    "TOTAL_CLASSES = 5\n",
    "def make_mask_for_nn(size, box_cats, boxes_on_image):\n",
    "    result = numpy.zeros((TOTAL_CLASSES, ) + size, dtype='float32')\n",
    "    for cat, bbox in zip(box_cats, boxes_on_image.bounding_boxes):\n",
    "        result[cat, int(bbox.y1):int(bbox.y2+1), int(bbox.x1):int(bbox.x2+1)] = 1\n",
    "    return result\n",
    "\n",
    "\n",
    "def calc_loss_weights(mask, edge_add_weight=0.5, laplacian_ksize=5):\n",
    "    result = numpy.ones_like(mask)\n",
    "    for sample_i in range(mask.shape[0]):\n",
    "        for channel_i in range(mask.shape[1]):\n",
    "            edges = numpy.absolute(cv2.Laplacian(mask[sample_i, channel_i],\n",
    "                                                 cv2.CV_32F,\n",
    "                                                 ksize=laplacian_ksize))\n",
    "            if edges.max() > 0:\n",
    "                result[sample_i, channel_i] += (edge_add_weight * edges / edges.max())\n",
    "    return result\n",
    "\n",
    "\n",
    "def prepare_batch(batch_image_ids, augmenter):\n",
    "    images, box_cats, boxes = zip(*[prepare_img_boxes_for_nn(*load_image_with_boxes(img_id))\n",
    "                                    for img_id in batch_image_ids])\n",
    "\n",
    "    det = augmenter.to_deterministic() if not augmenter.deterministic else augseq\n",
    "\n",
    "    images_aug = det.augment_images(images)\n",
    "\n",
    "    boxes = [ia.BoundingBoxesOnImage([ia.BoundingBox(*box)\n",
    "                                      for box in img_boxes],\n",
    "                                     img.shape)\n",
    "             for img, img_boxes in zip(images, boxes)]\n",
    "    boxes_aug = det.augment_bounding_boxes(boxes)\n",
    "\n",
    "    mask = numpy.array([make_mask_for_nn(img.shape, img_box_cats, img_boxes)\n",
    "                        for img, img_box_cats, img_boxes\n",
    "                        in zip(images_aug, box_cats, boxes_aug)])\n",
    "    boxes_aug_lists = [[[b.x1, b.y1, b.x2, b.y2]\n",
    "                        for b in img_boxes.bounding_boxes]\n",
    "                       for img_boxes in boxes_aug]\n",
    "    return (batch_image_ids,\n",
    "            numpy.expand_dims(numpy.array(images_aug), 1),\n",
    "            mask,\n",
    "            calc_loss_weights(mask),\n",
    "            boxes_aug_lists)\n",
    "\n",
    "\n",
    "def data_gen(image_ids, augmenter, batch_size=32):\n",
    "    while True:\n",
    "        yield prepare_batch(numpy.random.choice(image_ids, size=batch_size),\n",
    "                            augmenter)\n",
    "\n",
    "\n",
    "class SegmDataset(Dataset):\n",
    "    def __init__(self, all_image_ids, augmenter):\n",
    "        self.all_image_ids = all_image_ids\n",
    "        self.augmenter = augmenter\n",
    "\n",
    "    def __len__(self):\n",
    "        return len(self.all_image_ids)\n",
    "\n",
    "    def __getitem__(self, i):\n",
    "        (batch_image_ids,\n",
    "         in_img,\n",
    "         mask,\n",
    "         loss_weights,\n",
    "         boxes_aug) = prepare_batch([self.all_image_ids[i]],\n",
    "                                    self.augmenter)\n",
    "        return (batch_image_ids,\n",
    "                in_img[0],\n",
    "                mask[0],\n",
    "                loss_weights[0],\n",
    "                boxes_aug[0])"
   ]
  },
  {
   "cell_type": "code",
   "execution_count": 6,
   "metadata": {
    "ExecuteTime": {
     "end_time": "2017-11-01T15:07:49.753988Z",
     "start_time": "2017-11-01T15:07:49.668957Z"
    }
   },
   "outputs": [],
   "source": [
    "imgaug_pipeline = iaa.Sequential([\n",
    "#     iaa.Fliplr(0.5), # horizontally flip 50% of the images\n",
    "#     iaa.GaussianBlur(sigma=(0, 3.0)) # blur images with a sigma of 0 to 3.0\n",
    "])"
   ]
  },
  {
   "cell_type": "markdown",
   "metadata": {},
   "source": [
    "### Compare data generators"
   ]
  },
  {
   "cell_type": "code",
   "execution_count": 7,
   "metadata": {
    "ExecuteTime": {
     "end_time": "2017-11-01T15:07:49.853493Z",
     "start_time": "2017-11-01T15:07:49.755575Z"
    }
   },
   "outputs": [],
   "source": [
    "# train_gen_mt = DataLoader(SegmDataset(train_image_ids, imgaug_pipeline),\n",
    "#                           batch_size=8,\n",
    "#                           shuffle=True,\n",
    "#                           num_workers=4)\n",
    "# train_gen_mt_iter = iter(train_gen_mt)\n",
    "# _ = next(train_gen_mt_iter)"
   ]
  },
  {
   "cell_type": "code",
   "execution_count": 8,
   "metadata": {
    "ExecuteTime": {
     "end_time": "2017-11-01T15:07:49.946461Z",
     "start_time": "2017-11-01T15:07:49.855170Z"
    }
   },
   "outputs": [],
   "source": [
    "# %%prun\n",
    "# for _ in range(10):\n",
    "#     next(train_gen_mt_iter)"
   ]
  },
  {
   "cell_type": "code",
   "execution_count": 9,
   "metadata": {
    "ExecuteTime": {
     "end_time": "2017-11-01T15:07:50.046289Z",
     "start_time": "2017-11-01T15:07:49.948395Z"
    }
   },
   "outputs": [],
   "source": [
    "# train_gen_st = data_gen(train_image_ids, imgaug_pipeline, batch_size=8)\n",
    "# train_gen_st_iter = iter(train_gen_st)\n",
    "# _ = next(train_gen_st_iter)"
   ]
  },
  {
   "cell_type": "code",
   "execution_count": 10,
   "metadata": {
    "ExecuteTime": {
     "end_time": "2017-11-01T15:07:50.126487Z",
     "start_time": "2017-11-01T15:07:50.047870Z"
    }
   },
   "outputs": [],
   "source": [
    "# %%prun\n",
    "# for _ in range(10):\n",
    "#     next(train_gen_st_iter)"
   ]
  },
  {
   "cell_type": "markdown",
   "metadata": {},
   "source": [
    "## Define a network"
   ]
  },
  {
   "cell_type": "code",
   "execution_count": 11,
   "metadata": {
    "ExecuteTime": {
     "end_time": "2017-11-01T15:07:50.341351Z",
     "start_time": "2017-11-01T15:07:50.128229Z"
    }
   },
   "outputs": [],
   "source": [
    "class ConvBlock(nn.Module):\n",
    "    def __init__(self, in_channels, out_channels, kernel_size, dilations=[1], padding=1, bn=True):\n",
    "        super(ConvBlock, self).__init__()\n",
    "        self.bn = nn.BatchNorm2d(in_channels)\n",
    "        self.convs = nn.ModuleList([nn.Conv2d(in_channels,\n",
    "                                              out_channels,\n",
    "                                              kernel_size,\n",
    "                                              padding=padding,\n",
    "                                              dilation=dil)\n",
    "                                    for dil in dilations])\n",
    "\n",
    "    def forward(self, x):\n",
    "        x = self.bn(x)\n",
    "        return F.relu(torch.cat([conv(x) for conv in self.convs], dim=1))\n",
    "\n",
    "\n",
    "class UNet(nn.Module):\n",
    "    def __init__(self, out_channels=TOTAL_CLASSES, first_conv_channels=4, depth=2, out_layers=1, conv_kernel=(3, 3),\n",
    "                 enc_dilations=[1], dec_dilations=[1]):\n",
    "        super(UNet, self).__init__()\n",
    "        enc_channels = [1] + [first_conv_channels * (2**step) for step in range(depth)]\n",
    "        self.encoder = nn.ModuleList([ConvBlock(enc_channels[i],\n",
    "                                                enc_channels[i+1],\n",
    "                                                conv_kernel,\n",
    "                                                dilations=enc_dilations)\n",
    "                                      for i in range(depth)])\n",
    "        bottleneck_channels = enc_channels[-1] * 2\n",
    "        self.bottleneck = ConvBlock(enc_channels[-1],\n",
    "                                    bottleneck_channels,\n",
    "                                    conv_kernel,\n",
    "                                    dilations=enc_dilations)\n",
    "        dec_channels = [bottleneck_channels] + enc_channels[:0:-1]\n",
    "        self.dec_conv = nn.ModuleList([ConvBlock(dec_channels[i],\n",
    "                                                 dec_channels[i+1],\n",
    "                                                 conv_kernel,\n",
    "                                                 dilations=dec_dilations)\n",
    "                                      for i in range(depth)])\n",
    "        self.dec_deconv = nn.ModuleList([nn.ConvTranspose2d(dec_channels[i],\n",
    "                                                            dec_channels[i+1],\n",
    "                                                            (2, 2),\n",
    "                                                            stride=2)\n",
    "                                         for i in range(depth)])\n",
    "        self.out_layers = nn.ModuleList([ConvBlock(dec_channels[-1],\n",
    "                                                   dec_channels[-1],\n",
    "                                                   conv_kernel,\n",
    "                                                   dilations=dec_dilations)])\n",
    "        self.out_conv = nn.Conv2d(dec_channels[-1],\n",
    "                                  out_channels,\n",
    "                                  (1, 1))\n",
    "\n",
    "    def forward(self, x):\n",
    "        enc_conv_outs = []\n",
    "        enc_pool_outs = [x]\n",
    "        for enc_conv in self.encoder:\n",
    "            cur_conv_out = enc_conv(enc_pool_outs[-1])\n",
    "            enc_conv_outs.append(cur_conv_out)\n",
    "            cur_pool_out = F.max_pool2d(cur_conv_out, (2, 2))\n",
    "            enc_pool_outs.append(cur_pool_out)\n",
    "\n",
    "        cur_out = self.bottleneck(enc_pool_outs[-1])\n",
    "\n",
    "        for dec_step, (dec_conv, dec_deconv) in enumerate(zip(self.dec_conv, self.dec_deconv)):\n",
    "            up = dec_deconv(cur_out)\n",
    "            cur_out = torch.cat([up, enc_conv_outs[-dec_step-1]], dim=1)\n",
    "            cur_out = dec_conv(cur_out)\n",
    "\n",
    "        for out_layer in self.out_layers:\n",
    "            cur_out = F.relu(out_layer(cur_out))\n",
    "\n",
    "        return F.sigmoid(self.out_conv(cur_out))"
   ]
  },
  {
   "cell_type": "markdown",
   "metadata": {},
   "source": [
    "## Define losses and metrics"
   ]
  },
  {
   "cell_type": "code",
   "execution_count": 12,
   "metadata": {
    "ExecuteTime": {
     "end_time": "2017-11-01T15:07:50.523658Z",
     "start_time": "2017-11-01T15:07:50.345527Z"
    }
   },
   "outputs": [],
   "source": [
    "DICE_SMOOTH = 1.0\n",
    "def dice_coef(pred, target):\n",
    "    intersection = pred * target\n",
    "    union = pred + target\n",
    "    return ((2. * intersection.sum(3).sum(2).sum(0) + DICE_SMOOTH) /\n",
    "            (union.sum(3).sum(2).sum(0) + DICE_SMOOTH))\n",
    "\n",
    "\n",
    "def dice_loss(pred, target, weights):\n",
    "    intersection = pred * target\n",
    "    union = pred + target\n",
    "    return 1 - ((2. * intersection.sum() + DICE_SMOOTH) /\n",
    "                (union.sum() + DICE_SMOOTH))\n",
    "\n",
    "\n",
    "def dice_bce_loss(pred, target, weights):\n",
    "    return dice_loss(pred, target, weights) + F.binary_cross_entropy(pred, target, weights)\n",
    "\n",
    "\n",
    "def px_precision(pred, target, threshold=0.5):\n",
    "    pred = pred >= threshold\n",
    "    target = target >= threshold\n",
    "    tp = (pred * target).float().sum(3).sum(2).sum(0)\n",
    "    fp = ((target - pred) < 0).float().sum(3).sum(2).sum(0)\n",
    "    denum = tp + fp\n",
    "    return tp / (denum + (denum == 0).float())\n",
    "\n",
    "\n",
    "def px_recall(pred, target, threshold=0.5):\n",
    "    pred = pred >= threshold\n",
    "    target = target >= threshold\n",
    "    tp = (pred * target).float().sum(3).sum(2).sum(0)\n",
    "    fn = ((pred - target) < 0).float().sum(3).sum(2).sum(0)\n",
    "    denum = tp + fn\n",
    "    return tp / (denum + (denum == 0).float())\n",
    "\n",
    "\n",
    "def make_single_channel(f, channel):\n",
    "    def _impl(pred, target):\n",
    "        return f(pred[:, channel:channel+1], target[:, channel:channel+1])\n",
    "    return _impl\n",
    "\n",
    "\n",
    "def make_cpu(f):\n",
    "    def _impl(pred, target):\n",
    "        return f(pred.cpu(), target.cpu())\n",
    "    return _impl\n",
    "\n",
    "\n",
    "METRICS = {'d' : dice_coef,\n",
    "#            'p' : px_precision,\n",
    "#            'r' : px_recall\n",
    "           }\n",
    "# for channel in range(1, TOTAL_CLASSES):\n",
    "#     METRICS['d{}'.format(channel)] = make_single_channel(make_cpu(dice_coef), channel)\n",
    "#     METRICS['pp{}'.format(channel)] = make_single_channel(px_precision, channel)\n",
    "#     METRICS['pr{}'.format(channel)] = make_single_channel(px_recall, channel)"
   ]
  },
  {
   "cell_type": "markdown",
   "metadata": {},
   "source": [
    "## Train"
   ]
  },
  {
   "cell_type": "code",
   "execution_count": 13,
   "metadata": {
    "ExecuteTime": {
     "start_time": "2017-11-01T15:07:47.656Z"
    }
   },
   "outputs": [],
   "source": [
    "def mcuda(x, cuda):\n",
    "    return x.cuda() if cuda else x\n",
    "\n",
    "\n",
    "def npten(arr, cuda):\n",
    "    return mcuda(torch.from_numpy(arr), cuda)\n",
    "\n",
    "\n",
    "def npvar(arr, cuda):\n",
    "    if not torch.is_tensor(arr):\n",
    "        arr = torch.from_numpy(arr)\n",
    "    return mcuda(Variable(arr), cuda)\n",
    "\n",
    "\n",
    "def run_network(network, generator, num_batches, criterion=dice_bce_loss, optimizer=None, cuda=True):\n",
    "    metrics = []\n",
    "    gen_iter = iter(generator)\n",
    "    for _ in tqdm.tqdm(range(num_batches)):\n",
    "        image_ids, images, mask, loss_weights, boxes = next(gen_iter)\n",
    "        images_var = npvar(images, cuda)\n",
    "        mask_var = npvar(mask, cuda)\n",
    "        loss_weights_var = npvar(loss_weights, cuda)\n",
    "\n",
    "        cur_out = network(images_var)\n",
    "\n",
    "        loss = criterion(cur_out, mask_var, loss_weights_var)\n",
    "\n",
    "        if optimizer:\n",
    "            optimizer.zero_grad()\n",
    "            loss.backward()\n",
    "            nn.utils.clip_grad_norm(network.parameters(), 10)\n",
    "            optimizer.step()\n",
    "\n",
    "        cur_metrics = { 'loss' : loss.data[0] }\n",
    "        for name, func in METRICS.items():\n",
    "            metric_value = func(cur_out, mask_var).cpu().data.numpy()\n",
    "            cur_metrics.update((name+str(i), v) for i, v in enumerate(metric_value))\n",
    "        metrics.append(cur_metrics)\n",
    "    return metrics"
   ]
  },
  {
   "cell_type": "code",
   "execution_count": 21,
   "metadata": {
    "ExecuteTime": {
     "start_time": "2017-11-01T15:07:47.665Z"
    },
    "scrolled": false
   },
   "outputs": [
    {
     "name": "stdout",
     "output_type": "stream",
     "text": [
      "total parameters 60423\n",
      "epoch 0\n"
     ]
    },
    {
     "name": "stderr",
     "output_type": "stream",
     "text": [
      "100%|██████████| 75/75 [00:43<00:00,  1.73it/s]\n"
     ]
    },
    {
     "data": {
      "text/html": [
       "<div>\n",
       "<style>\n",
       "    .dataframe thead tr:only-child th {\n",
       "        text-align: right;\n",
       "    }\n",
       "\n",
       "    .dataframe thead th {\n",
       "        text-align: left;\n",
       "    }\n",
       "\n",
       "    .dataframe tbody tr th {\n",
       "        vertical-align: top;\n",
       "    }\n",
       "</style>\n",
       "<table border=\"1\" class=\"dataframe\">\n",
       "  <thead>\n",
       "    <tr style=\"text-align: right;\">\n",
       "      <th></th>\n",
       "      <th>d0</th>\n",
       "      <th>d1</th>\n",
       "      <th>d2</th>\n",
       "      <th>d3</th>\n",
       "      <th>d4</th>\n",
       "      <th>loss</th>\n",
       "    </tr>\n",
       "  </thead>\n",
       "  <tbody>\n",
       "    <tr>\n",
       "      <th>mean</th>\n",
       "      <td>3.374127e-07</td>\n",
       "      <td>0.359100</td>\n",
       "      <td>0.143432</td>\n",
       "      <td>0.218034</td>\n",
       "      <td>0.394024</td>\n",
       "      <td>0.766358</td>\n",
       "    </tr>\n",
       "    <tr>\n",
       "      <th>std</th>\n",
       "      <td>1.242093e-08</td>\n",
       "      <td>0.103942</td>\n",
       "      <td>0.056998</td>\n",
       "      <td>0.070101</td>\n",
       "      <td>0.113981</td>\n",
       "      <td>0.071102</td>\n",
       "    </tr>\n",
       "  </tbody>\n",
       "</table>\n",
       "</div>"
      ],
      "text/plain": [
       "                d0        d1        d2        d3        d4      loss\n",
       "mean  3.374127e-07  0.359100  0.143432  0.218034  0.394024  0.766358\n",
       "std   1.242093e-08  0.103942  0.056998  0.070101  0.113981  0.071102"
      ]
     },
     "metadata": {},
     "output_type": "display_data"
    },
    {
     "name": "stderr",
     "output_type": "stream",
     "text": [
      "100%|██████████| 18/18 [00:09<00:00,  1.83it/s]\n"
     ]
    },
    {
     "data": {
      "text/html": [
       "<div>\n",
       "<style>\n",
       "    .dataframe thead tr:only-child th {\n",
       "        text-align: right;\n",
       "    }\n",
       "\n",
       "    .dataframe thead th {\n",
       "        text-align: left;\n",
       "    }\n",
       "\n",
       "    .dataframe tbody tr th {\n",
       "        vertical-align: top;\n",
       "    }\n",
       "</style>\n",
       "<table border=\"1\" class=\"dataframe\">\n",
       "  <thead>\n",
       "    <tr style=\"text-align: right;\">\n",
       "      <th></th>\n",
       "      <th>d0</th>\n",
       "      <th>d1</th>\n",
       "      <th>d2</th>\n",
       "      <th>d3</th>\n",
       "      <th>d4</th>\n",
       "      <th>loss</th>\n",
       "    </tr>\n",
       "  </thead>\n",
       "  <tbody>\n",
       "    <tr>\n",
       "      <th>mean</th>\n",
       "      <td>3.507792e-07</td>\n",
       "      <td>0.553894</td>\n",
       "      <td>0.305354</td>\n",
       "      <td>0.406690</td>\n",
       "      <td>0.720904</td>\n",
       "      <td>0.610206</td>\n",
       "    </tr>\n",
       "    <tr>\n",
       "      <th>std</th>\n",
       "      <td>5.394165e-09</td>\n",
       "      <td>0.026763</td>\n",
       "      <td>0.010138</td>\n",
       "      <td>0.018714</td>\n",
       "      <td>0.019906</td>\n",
       "      <td>0.020961</td>\n",
       "    </tr>\n",
       "  </tbody>\n",
       "</table>\n",
       "</div>"
      ],
      "text/plain": [
       "                d0        d1        d2        d3        d4      loss\n",
       "mean  3.507792e-07  0.553894  0.305354  0.406690  0.720904  0.610206\n",
       "std   5.394165e-09  0.026763  0.010138  0.018714  0.019906  0.020961"
      ]
     },
     "metadata": {},
     "output_type": "display_data"
    },
    {
     "name": "stdout",
     "output_type": "stream",
     "text": [
      "epoch 1\n"
     ]
    },
    {
     "name": "stderr",
     "output_type": "stream",
     "text": [
      "100%|██████████| 75/75 [00:45<00:00,  1.65it/s]\n"
     ]
    },
    {
     "data": {
      "text/html": [
       "<div>\n",
       "<style>\n",
       "    .dataframe thead tr:only-child th {\n",
       "        text-align: right;\n",
       "    }\n",
       "\n",
       "    .dataframe thead th {\n",
       "        text-align: left;\n",
       "    }\n",
       "\n",
       "    .dataframe tbody tr th {\n",
       "        vertical-align: top;\n",
       "    }\n",
       "</style>\n",
       "<table border=\"1\" class=\"dataframe\">\n",
       "  <thead>\n",
       "    <tr style=\"text-align: right;\">\n",
       "      <th></th>\n",
       "      <th>d0</th>\n",
       "      <th>d1</th>\n",
       "      <th>d2</th>\n",
       "      <th>d3</th>\n",
       "      <th>d4</th>\n",
       "      <th>loss</th>\n",
       "    </tr>\n",
       "  </thead>\n",
       "  <tbody>\n",
       "    <tr>\n",
       "      <th>mean</th>\n",
       "      <td>7.332580e-07</td>\n",
       "      <td>0.756553</td>\n",
       "      <td>0.398196</td>\n",
       "      <td>0.546629</td>\n",
       "      <td>0.830876</td>\n",
       "      <td>0.457510</td>\n",
       "    </tr>\n",
       "    <tr>\n",
       "      <th>std</th>\n",
       "      <td>4.367341e-07</td>\n",
       "      <td>0.136755</td>\n",
       "      <td>0.074319</td>\n",
       "      <td>0.098725</td>\n",
       "      <td>0.086073</td>\n",
       "      <td>0.114095</td>\n",
       "    </tr>\n",
       "  </tbody>\n",
       "</table>\n",
       "</div>"
      ],
      "text/plain": [
       "                d0        d1        d2        d3        d4      loss\n",
       "mean  7.332580e-07  0.756553  0.398196  0.546629  0.830876  0.457510\n",
       "std   4.367341e-07  0.136755  0.074319  0.098725  0.086073  0.114095"
      ]
     },
     "metadata": {},
     "output_type": "display_data"
    },
    {
     "name": "stderr",
     "output_type": "stream",
     "text": [
      "100%|██████████| 18/18 [00:10<00:00,  1.75it/s]\n"
     ]
    },
    {
     "data": {
      "text/html": [
       "<div>\n",
       "<style>\n",
       "    .dataframe thead tr:only-child th {\n",
       "        text-align: right;\n",
       "    }\n",
       "\n",
       "    .dataframe thead th {\n",
       "        text-align: left;\n",
       "    }\n",
       "\n",
       "    .dataframe tbody tr th {\n",
       "        vertical-align: top;\n",
       "    }\n",
       "</style>\n",
       "<table border=\"1\" class=\"dataframe\">\n",
       "  <thead>\n",
       "    <tr style=\"text-align: right;\">\n",
       "      <th></th>\n",
       "      <th>d0</th>\n",
       "      <th>d1</th>\n",
       "      <th>d2</th>\n",
       "      <th>d3</th>\n",
       "      <th>d4</th>\n",
       "      <th>loss</th>\n",
       "    </tr>\n",
       "  </thead>\n",
       "  <tbody>\n",
       "    <tr>\n",
       "      <th>mean</th>\n",
       "      <td>2.121326e-06</td>\n",
       "      <td>0.940658</td>\n",
       "      <td>0.494240</td>\n",
       "      <td>0.667814</td>\n",
       "      <td>0.908768</td>\n",
       "      <td>0.271829</td>\n",
       "    </tr>\n",
       "    <tr>\n",
       "      <th>std</th>\n",
       "      <td>3.408192e-08</td>\n",
       "      <td>0.006691</td>\n",
       "      <td>0.010693</td>\n",
       "      <td>0.010866</td>\n",
       "      <td>0.005640</td>\n",
       "      <td>0.008189</td>\n",
       "    </tr>\n",
       "  </tbody>\n",
       "</table>\n",
       "</div>"
      ],
      "text/plain": [
       "                d0        d1        d2        d3        d4      loss\n",
       "mean  2.121326e-06  0.940658  0.494240  0.667814  0.908768  0.271829\n",
       "std   3.408192e-08  0.006691  0.010693  0.010866  0.005640  0.008189"
      ]
     },
     "metadata": {},
     "output_type": "display_data"
    },
    {
     "name": "stdout",
     "output_type": "stream",
     "text": [
      "epoch 2\n"
     ]
    },
    {
     "name": "stderr",
     "output_type": "stream",
     "text": [
      "100%|██████████| 75/75 [00:47<00:00,  1.58it/s]\n"
     ]
    },
    {
     "data": {
      "text/html": [
       "<div>\n",
       "<style>\n",
       "    .dataframe thead tr:only-child th {\n",
       "        text-align: right;\n",
       "    }\n",
       "\n",
       "    .dataframe thead th {\n",
       "        text-align: left;\n",
       "    }\n",
       "\n",
       "    .dataframe tbody tr th {\n",
       "        vertical-align: top;\n",
       "    }\n",
       "</style>\n",
       "<table border=\"1\" class=\"dataframe\">\n",
       "  <thead>\n",
       "    <tr style=\"text-align: right;\">\n",
       "      <th></th>\n",
       "      <th>d0</th>\n",
       "      <th>d1</th>\n",
       "      <th>d2</th>\n",
       "      <th>d3</th>\n",
       "      <th>d4</th>\n",
       "      <th>loss</th>\n",
       "    </tr>\n",
       "  </thead>\n",
       "  <tbody>\n",
       "    <tr>\n",
       "      <th>mean</th>\n",
       "      <td>0.000009</td>\n",
       "      <td>0.957352</td>\n",
       "      <td>0.651285</td>\n",
       "      <td>0.677010</td>\n",
       "      <td>0.911578</td>\n",
       "      <td>0.193187</td>\n",
       "    </tr>\n",
       "    <tr>\n",
       "      <th>std</th>\n",
       "      <td>0.000006</td>\n",
       "      <td>0.010017</td>\n",
       "      <td>0.160250</td>\n",
       "      <td>0.021571</td>\n",
       "      <td>0.010904</td>\n",
       "      <td>0.046581</td>\n",
       "    </tr>\n",
       "  </tbody>\n",
       "</table>\n",
       "</div>"
      ],
      "text/plain": [
       "            d0        d1        d2        d3        d4      loss\n",
       "mean  0.000009  0.957352  0.651285  0.677010  0.911578  0.193187\n",
       "std   0.000006  0.010017  0.160250  0.021571  0.010904  0.046581"
      ]
     },
     "metadata": {},
     "output_type": "display_data"
    },
    {
     "name": "stderr",
     "output_type": "stream",
     "text": [
      "100%|██████████| 18/18 [00:10<00:00,  1.70it/s]\n"
     ]
    },
    {
     "data": {
      "text/html": [
       "<div>\n",
       "<style>\n",
       "    .dataframe thead tr:only-child th {\n",
       "        text-align: right;\n",
       "    }\n",
       "\n",
       "    .dataframe thead th {\n",
       "        text-align: left;\n",
       "    }\n",
       "\n",
       "    .dataframe tbody tr th {\n",
       "        vertical-align: top;\n",
       "    }\n",
       "</style>\n",
       "<table border=\"1\" class=\"dataframe\">\n",
       "  <thead>\n",
       "    <tr style=\"text-align: right;\">\n",
       "      <th></th>\n",
       "      <th>d0</th>\n",
       "      <th>d1</th>\n",
       "      <th>d2</th>\n",
       "      <th>d3</th>\n",
       "      <th>d4</th>\n",
       "      <th>loss</th>\n",
       "    </tr>\n",
       "  </thead>\n",
       "  <tbody>\n",
       "    <tr>\n",
       "      <th>mean</th>\n",
       "      <td>9.772674e-06</td>\n",
       "      <td>0.962603</td>\n",
       "      <td>0.890376</td>\n",
       "      <td>0.674566</td>\n",
       "      <td>0.911432</td>\n",
       "      <td>0.148916</td>\n",
       "    </tr>\n",
       "    <tr>\n",
       "      <th>std</th>\n",
       "      <td>2.607379e-07</td>\n",
       "      <td>0.004966</td>\n",
       "      <td>0.003226</td>\n",
       "      <td>0.017647</td>\n",
       "      <td>0.007132</td>\n",
       "      <td>0.005897</td>\n",
       "    </tr>\n",
       "  </tbody>\n",
       "</table>\n",
       "</div>"
      ],
      "text/plain": [
       "                d0        d1        d2        d3        d4      loss\n",
       "mean  9.772674e-06  0.962603  0.890376  0.674566  0.911432  0.148916\n",
       "std   2.607379e-07  0.004966  0.003226  0.017647  0.007132  0.005897"
      ]
     },
     "metadata": {},
     "output_type": "display_data"
    },
    {
     "name": "stdout",
     "output_type": "stream",
     "text": [
      "epoch 3\n"
     ]
    },
    {
     "name": "stderr",
     "output_type": "stream",
     "text": [
      "100%|██████████| 75/75 [00:46<00:00,  1.61it/s]\n"
     ]
    },
    {
     "data": {
      "text/html": [
       "<div>\n",
       "<style>\n",
       "    .dataframe thead tr:only-child th {\n",
       "        text-align: right;\n",
       "    }\n",
       "\n",
       "    .dataframe thead th {\n",
       "        text-align: left;\n",
       "    }\n",
       "\n",
       "    .dataframe tbody tr th {\n",
       "        vertical-align: top;\n",
       "    }\n",
       "</style>\n",
       "<table border=\"1\" class=\"dataframe\">\n",
       "  <thead>\n",
       "    <tr style=\"text-align: right;\">\n",
       "      <th></th>\n",
       "      <th>d0</th>\n",
       "      <th>d1</th>\n",
       "      <th>d2</th>\n",
       "      <th>d3</th>\n",
       "      <th>d4</th>\n",
       "      <th>loss</th>\n",
       "    </tr>\n",
       "  </thead>\n",
       "  <tbody>\n",
       "    <tr>\n",
       "      <th>mean</th>\n",
       "      <td>0.000040</td>\n",
       "      <td>0.971562</td>\n",
       "      <td>0.931810</td>\n",
       "      <td>0.678212</td>\n",
       "      <td>0.914656</td>\n",
       "      <td>0.128032</td>\n",
       "    </tr>\n",
       "    <tr>\n",
       "      <th>std</th>\n",
       "      <td>0.000012</td>\n",
       "      <td>0.006705</td>\n",
       "      <td>0.014093</td>\n",
       "      <td>0.025874</td>\n",
       "      <td>0.009219</td>\n",
       "      <td>0.009109</td>\n",
       "    </tr>\n",
       "  </tbody>\n",
       "</table>\n",
       "</div>"
      ],
      "text/plain": [
       "            d0        d1        d2        d3        d4      loss\n",
       "mean  0.000040  0.971562  0.931810  0.678212  0.914656  0.128032\n",
       "std   0.000012  0.006705  0.014093  0.025874  0.009219  0.009109"
      ]
     },
     "metadata": {},
     "output_type": "display_data"
    },
    {
     "name": "stderr",
     "output_type": "stream",
     "text": [
      "100%|██████████| 18/18 [00:10<00:00,  1.71it/s]\n"
     ]
    },
    {
     "data": {
      "text/html": [
       "<div>\n",
       "<style>\n",
       "    .dataframe thead tr:only-child th {\n",
       "        text-align: right;\n",
       "    }\n",
       "\n",
       "    .dataframe thead th {\n",
       "        text-align: left;\n",
       "    }\n",
       "\n",
       "    .dataframe tbody tr th {\n",
       "        vertical-align: top;\n",
       "    }\n",
       "</style>\n",
       "<table border=\"1\" class=\"dataframe\">\n",
       "  <thead>\n",
       "    <tr style=\"text-align: right;\">\n",
       "      <th></th>\n",
       "      <th>d0</th>\n",
       "      <th>d1</th>\n",
       "      <th>d2</th>\n",
       "      <th>d3</th>\n",
       "      <th>d4</th>\n",
       "      <th>loss</th>\n",
       "    </tr>\n",
       "  </thead>\n",
       "  <tbody>\n",
       "    <tr>\n",
       "      <th>mean</th>\n",
       "      <td>2.348060e-06</td>\n",
       "      <td>0.803467</td>\n",
       "      <td>0.712319</td>\n",
       "      <td>0.553374</td>\n",
       "      <td>0.764963</td>\n",
       "      <td>0.324822</td>\n",
       "    </tr>\n",
       "    <tr>\n",
       "      <th>std</th>\n",
       "      <td>6.312919e-08</td>\n",
       "      <td>0.024474</td>\n",
       "      <td>0.022036</td>\n",
       "      <td>0.016537</td>\n",
       "      <td>0.022239</td>\n",
       "      <td>0.023508</td>\n",
       "    </tr>\n",
       "  </tbody>\n",
       "</table>\n",
       "</div>"
      ],
      "text/plain": [
       "                d0        d1        d2        d3        d4      loss\n",
       "mean  2.348060e-06  0.803467  0.712319  0.553374  0.764963  0.324822\n",
       "std   6.312919e-08  0.024474  0.022036  0.016537  0.022239  0.023508"
      ]
     },
     "metadata": {},
     "output_type": "display_data"
    },
    {
     "name": "stdout",
     "output_type": "stream",
     "text": [
      "epoch 4\n"
     ]
    },
    {
     "name": "stderr",
     "output_type": "stream",
     "text": [
      "100%|██████████| 75/75 [00:46<00:00,  1.60it/s]\n"
     ]
    },
    {
     "data": {
      "text/html": [
       "<div>\n",
       "<style>\n",
       "    .dataframe thead tr:only-child th {\n",
       "        text-align: right;\n",
       "    }\n",
       "\n",
       "    .dataframe thead th {\n",
       "        text-align: left;\n",
       "    }\n",
       "\n",
       "    .dataframe tbody tr th {\n",
       "        vertical-align: top;\n",
       "    }\n",
       "</style>\n",
       "<table border=\"1\" class=\"dataframe\">\n",
       "  <thead>\n",
       "    <tr style=\"text-align: right;\">\n",
       "      <th></th>\n",
       "      <th>d0</th>\n",
       "      <th>d1</th>\n",
       "      <th>d2</th>\n",
       "      <th>d3</th>\n",
       "      <th>d4</th>\n",
       "      <th>loss</th>\n",
       "    </tr>\n",
       "  </thead>\n",
       "  <tbody>\n",
       "    <tr>\n",
       "      <th>mean</th>\n",
       "      <td>0.000080</td>\n",
       "      <td>0.973497</td>\n",
       "      <td>0.954135</td>\n",
       "      <td>0.685416</td>\n",
       "      <td>0.916056</td>\n",
       "      <td>0.120857</td>\n",
       "    </tr>\n",
       "    <tr>\n",
       "      <th>std</th>\n",
       "      <td>0.000022</td>\n",
       "      <td>0.005937</td>\n",
       "      <td>0.003438</td>\n",
       "      <td>0.021989</td>\n",
       "      <td>0.007748</td>\n",
       "      <td>0.006965</td>\n",
       "    </tr>\n",
       "  </tbody>\n",
       "</table>\n",
       "</div>"
      ],
      "text/plain": [
       "            d0        d1        d2        d3        d4      loss\n",
       "mean  0.000080  0.973497  0.954135  0.685416  0.916056  0.120857\n",
       "std   0.000022  0.005937  0.003438  0.021989  0.007748  0.006965"
      ]
     },
     "metadata": {},
     "output_type": "display_data"
    },
    {
     "name": "stderr",
     "output_type": "stream",
     "text": [
      "100%|██████████| 18/18 [00:10<00:00,  1.68it/s]\n"
     ]
    },
    {
     "data": {
      "text/html": [
       "<div>\n",
       "<style>\n",
       "    .dataframe thead tr:only-child th {\n",
       "        text-align: right;\n",
       "    }\n",
       "\n",
       "    .dataframe thead th {\n",
       "        text-align: left;\n",
       "    }\n",
       "\n",
       "    .dataframe tbody tr th {\n",
       "        vertical-align: top;\n",
       "    }\n",
       "</style>\n",
       "<table border=\"1\" class=\"dataframe\">\n",
       "  <thead>\n",
       "    <tr style=\"text-align: right;\">\n",
       "      <th></th>\n",
       "      <th>d0</th>\n",
       "      <th>d1</th>\n",
       "      <th>d2</th>\n",
       "      <th>d3</th>\n",
       "      <th>d4</th>\n",
       "      <th>loss</th>\n",
       "    </tr>\n",
       "  </thead>\n",
       "  <tbody>\n",
       "    <tr>\n",
       "      <th>mean</th>\n",
       "      <td>1.176645e-05</td>\n",
       "      <td>0.957121</td>\n",
       "      <td>0.935289</td>\n",
       "      <td>0.674623</td>\n",
       "      <td>0.907351</td>\n",
       "      <td>0.144409</td>\n",
       "    </tr>\n",
       "    <tr>\n",
       "      <th>std</th>\n",
       "      <td>2.202265e-07</td>\n",
       "      <td>0.004910</td>\n",
       "      <td>0.003221</td>\n",
       "      <td>0.015489</td>\n",
       "      <td>0.006097</td>\n",
       "      <td>0.005719</td>\n",
       "    </tr>\n",
       "  </tbody>\n",
       "</table>\n",
       "</div>"
      ],
      "text/plain": [
       "                d0        d1        d2        d3        d4      loss\n",
       "mean  1.176645e-05  0.957121  0.935289  0.674623  0.907351  0.144409\n",
       "std   2.202265e-07  0.004910  0.003221  0.015489  0.006097  0.005719"
      ]
     },
     "metadata": {},
     "output_type": "display_data"
    },
    {
     "name": "stdout",
     "output_type": "stream",
     "text": [
      "epoch 5\n"
     ]
    },
    {
     "name": "stderr",
     "output_type": "stream",
     "text": [
      "100%|██████████| 75/75 [00:43<00:00,  1.71it/s]\n"
     ]
    },
    {
     "data": {
      "text/html": [
       "<div>\n",
       "<style>\n",
       "    .dataframe thead tr:only-child th {\n",
       "        text-align: right;\n",
       "    }\n",
       "\n",
       "    .dataframe thead th {\n",
       "        text-align: left;\n",
       "    }\n",
       "\n",
       "    .dataframe tbody tr th {\n",
       "        vertical-align: top;\n",
       "    }\n",
       "</style>\n",
       "<table border=\"1\" class=\"dataframe\">\n",
       "  <thead>\n",
       "    <tr style=\"text-align: right;\">\n",
       "      <th></th>\n",
       "      <th>d0</th>\n",
       "      <th>d1</th>\n",
       "      <th>d2</th>\n",
       "      <th>d3</th>\n",
       "      <th>d4</th>\n",
       "      <th>loss</th>\n",
       "    </tr>\n",
       "  </thead>\n",
       "  <tbody>\n",
       "    <tr>\n",
       "      <th>mean</th>\n",
       "      <td>0.000098</td>\n",
       "      <td>0.970401</td>\n",
       "      <td>0.959330</td>\n",
       "      <td>0.711839</td>\n",
       "      <td>0.915395</td>\n",
       "      <td>0.112383</td>\n",
       "    </tr>\n",
       "    <tr>\n",
       "      <th>std</th>\n",
       "      <td>0.000020</td>\n",
       "      <td>0.007193</td>\n",
       "      <td>0.003937</td>\n",
       "      <td>0.035006</td>\n",
       "      <td>0.008650</td>\n",
       "      <td>0.010280</td>\n",
       "    </tr>\n",
       "  </tbody>\n",
       "</table>\n",
       "</div>"
      ],
      "text/plain": [
       "            d0        d1        d2        d3        d4      loss\n",
       "mean  0.000098  0.970401  0.959330  0.711839  0.915395  0.112383\n",
       "std   0.000020  0.007193  0.003937  0.035006  0.008650  0.010280"
      ]
     },
     "metadata": {},
     "output_type": "display_data"
    },
    {
     "name": "stderr",
     "output_type": "stream",
     "text": [
      "100%|██████████| 18/18 [00:10<00:00,  1.74it/s]\n"
     ]
    },
    {
     "data": {
      "text/html": [
       "<div>\n",
       "<style>\n",
       "    .dataframe thead tr:only-child th {\n",
       "        text-align: right;\n",
       "    }\n",
       "\n",
       "    .dataframe thead th {\n",
       "        text-align: left;\n",
       "    }\n",
       "\n",
       "    .dataframe tbody tr th {\n",
       "        vertical-align: top;\n",
       "    }\n",
       "</style>\n",
       "<table border=\"1\" class=\"dataframe\">\n",
       "  <thead>\n",
       "    <tr style=\"text-align: right;\">\n",
       "      <th></th>\n",
       "      <th>d0</th>\n",
       "      <th>d1</th>\n",
       "      <th>d2</th>\n",
       "      <th>d3</th>\n",
       "      <th>d4</th>\n",
       "      <th>loss</th>\n",
       "    </tr>\n",
       "  </thead>\n",
       "  <tbody>\n",
       "    <tr>\n",
       "      <th>mean</th>\n",
       "      <td>0.000350</td>\n",
       "      <td>0.964356</td>\n",
       "      <td>0.957059</td>\n",
       "      <td>0.788552</td>\n",
       "      <td>0.908782</td>\n",
       "      <td>0.091056</td>\n",
       "    </tr>\n",
       "    <tr>\n",
       "      <th>std</th>\n",
       "      <td>0.000044</td>\n",
       "      <td>0.006713</td>\n",
       "      <td>0.001799</td>\n",
       "      <td>0.011272</td>\n",
       "      <td>0.010450</td>\n",
       "      <td>0.005939</td>\n",
       "    </tr>\n",
       "  </tbody>\n",
       "</table>\n",
       "</div>"
      ],
      "text/plain": [
       "            d0        d1        d2        d3        d4      loss\n",
       "mean  0.000350  0.964356  0.957059  0.788552  0.908782  0.091056\n",
       "std   0.000044  0.006713  0.001799  0.011272  0.010450  0.005939"
      ]
     },
     "metadata": {},
     "output_type": "display_data"
    },
    {
     "name": "stdout",
     "output_type": "stream",
     "text": [
      "epoch 6\n"
     ]
    },
    {
     "name": "stderr",
     "output_type": "stream",
     "text": [
      "100%|██████████| 75/75 [00:48<00:00,  1.55it/s]\n"
     ]
    },
    {
     "data": {
      "text/html": [
       "<div>\n",
       "<style>\n",
       "    .dataframe thead tr:only-child th {\n",
       "        text-align: right;\n",
       "    }\n",
       "\n",
       "    .dataframe thead th {\n",
       "        text-align: left;\n",
       "    }\n",
       "\n",
       "    .dataframe tbody tr th {\n",
       "        vertical-align: top;\n",
       "    }\n",
       "</style>\n",
       "<table border=\"1\" class=\"dataframe\">\n",
       "  <thead>\n",
       "    <tr style=\"text-align: right;\">\n",
       "      <th></th>\n",
       "      <th>d0</th>\n",
       "      <th>d1</th>\n",
       "      <th>d2</th>\n",
       "      <th>d3</th>\n",
       "      <th>d4</th>\n",
       "      <th>loss</th>\n",
       "    </tr>\n",
       "  </thead>\n",
       "  <tbody>\n",
       "    <tr>\n",
       "      <th>mean</th>\n",
       "      <td>0.000159</td>\n",
       "      <td>0.975115</td>\n",
       "      <td>0.958463</td>\n",
       "      <td>0.854018</td>\n",
       "      <td>0.916007</td>\n",
       "      <td>0.071449</td>\n",
       "    </tr>\n",
       "    <tr>\n",
       "      <th>std</th>\n",
       "      <td>0.000040</td>\n",
       "      <td>0.006729</td>\n",
       "      <td>0.007113</td>\n",
       "      <td>0.031057</td>\n",
       "      <td>0.010060</td>\n",
       "      <td>0.010377</td>\n",
       "    </tr>\n",
       "  </tbody>\n",
       "</table>\n",
       "</div>"
      ],
      "text/plain": [
       "            d0        d1        d2        d3        d4      loss\n",
       "mean  0.000159  0.975115  0.958463  0.854018  0.916007  0.071449\n",
       "std   0.000040  0.006729  0.007113  0.031057  0.010060  0.010377"
      ]
     },
     "metadata": {},
     "output_type": "display_data"
    },
    {
     "name": "stderr",
     "output_type": "stream",
     "text": [
      "100%|██████████| 18/18 [00:10<00:00,  1.70it/s]\n"
     ]
    },
    {
     "data": {
      "text/html": [
       "<div>\n",
       "<style>\n",
       "    .dataframe thead tr:only-child th {\n",
       "        text-align: right;\n",
       "    }\n",
       "\n",
       "    .dataframe thead th {\n",
       "        text-align: left;\n",
       "    }\n",
       "\n",
       "    .dataframe tbody tr th {\n",
       "        vertical-align: top;\n",
       "    }\n",
       "</style>\n",
       "<table border=\"1\" class=\"dataframe\">\n",
       "  <thead>\n",
       "    <tr style=\"text-align: right;\">\n",
       "      <th></th>\n",
       "      <th>d0</th>\n",
       "      <th>d1</th>\n",
       "      <th>d2</th>\n",
       "      <th>d3</th>\n",
       "      <th>d4</th>\n",
       "      <th>loss</th>\n",
       "    </tr>\n",
       "  </thead>\n",
       "  <tbody>\n",
       "    <tr>\n",
       "      <th>mean</th>\n",
       "      <td>0.000364</td>\n",
       "      <td>0.976525</td>\n",
       "      <td>0.965132</td>\n",
       "      <td>0.886661</td>\n",
       "      <td>0.915190</td>\n",
       "      <td>0.063050</td>\n",
       "    </tr>\n",
       "    <tr>\n",
       "      <th>std</th>\n",
       "      <td>0.000010</td>\n",
       "      <td>0.006500</td>\n",
       "      <td>0.002065</td>\n",
       "      <td>0.007506</td>\n",
       "      <td>0.008753</td>\n",
       "      <td>0.006184</td>\n",
       "    </tr>\n",
       "  </tbody>\n",
       "</table>\n",
       "</div>"
      ],
      "text/plain": [
       "            d0        d1        d2        d3        d4      loss\n",
       "mean  0.000364  0.976525  0.965132  0.886661  0.915190  0.063050\n",
       "std   0.000010  0.006500  0.002065  0.007506  0.008753  0.006184"
      ]
     },
     "metadata": {},
     "output_type": "display_data"
    },
    {
     "name": "stdout",
     "output_type": "stream",
     "text": [
      "epoch 7\n"
     ]
    },
    {
     "name": "stderr",
     "output_type": "stream",
     "text": [
      "100%|██████████| 75/75 [00:46<00:00,  1.61it/s]\n"
     ]
    },
    {
     "data": {
      "text/html": [
       "<div>\n",
       "<style>\n",
       "    .dataframe thead tr:only-child th {\n",
       "        text-align: right;\n",
       "    }\n",
       "\n",
       "    .dataframe thead th {\n",
       "        text-align: left;\n",
       "    }\n",
       "\n",
       "    .dataframe tbody tr th {\n",
       "        vertical-align: top;\n",
       "    }\n",
       "</style>\n",
       "<table border=\"1\" class=\"dataframe\">\n",
       "  <thead>\n",
       "    <tr style=\"text-align: right;\">\n",
       "      <th></th>\n",
       "      <th>d0</th>\n",
       "      <th>d1</th>\n",
       "      <th>d2</th>\n",
       "      <th>d3</th>\n",
       "      <th>d4</th>\n",
       "      <th>loss</th>\n",
       "    </tr>\n",
       "  </thead>\n",
       "  <tbody>\n",
       "    <tr>\n",
       "      <th>mean</th>\n",
       "      <td>0.000251</td>\n",
       "      <td>0.977478</td>\n",
       "      <td>0.966371</td>\n",
       "      <td>0.895765</td>\n",
       "      <td>0.917319</td>\n",
       "      <td>0.060382</td>\n",
       "    </tr>\n",
       "    <tr>\n",
       "      <th>std</th>\n",
       "      <td>0.000044</td>\n",
       "      <td>0.005196</td>\n",
       "      <td>0.003061</td>\n",
       "      <td>0.009930</td>\n",
       "      <td>0.009258</td>\n",
       "      <td>0.005480</td>\n",
       "    </tr>\n",
       "  </tbody>\n",
       "</table>\n",
       "</div>"
      ],
      "text/plain": [
       "            d0        d1        d2        d3        d4      loss\n",
       "mean  0.000251  0.977478  0.966371  0.895765  0.917319  0.060382\n",
       "std   0.000044  0.005196  0.003061  0.009930  0.009258  0.005480"
      ]
     },
     "metadata": {},
     "output_type": "display_data"
    },
    {
     "name": "stderr",
     "output_type": "stream",
     "text": [
      "100%|██████████| 18/18 [00:10<00:00,  1.70it/s]\n"
     ]
    },
    {
     "data": {
      "text/html": [
       "<div>\n",
       "<style>\n",
       "    .dataframe thead tr:only-child th {\n",
       "        text-align: right;\n",
       "    }\n",
       "\n",
       "    .dataframe thead th {\n",
       "        text-align: left;\n",
       "    }\n",
       "\n",
       "    .dataframe tbody tr th {\n",
       "        vertical-align: top;\n",
       "    }\n",
       "</style>\n",
       "<table border=\"1\" class=\"dataframe\">\n",
       "  <thead>\n",
       "    <tr style=\"text-align: right;\">\n",
       "      <th></th>\n",
       "      <th>d0</th>\n",
       "      <th>d1</th>\n",
       "      <th>d2</th>\n",
       "      <th>d3</th>\n",
       "      <th>d4</th>\n",
       "      <th>loss</th>\n",
       "    </tr>\n",
       "  </thead>\n",
       "  <tbody>\n",
       "    <tr>\n",
       "      <th>mean</th>\n",
       "      <td>0.000625</td>\n",
       "      <td>0.978265</td>\n",
       "      <td>0.96887</td>\n",
       "      <td>0.888686</td>\n",
       "      <td>0.916627</td>\n",
       "      <td>0.060451</td>\n",
       "    </tr>\n",
       "    <tr>\n",
       "      <th>std</th>\n",
       "      <td>0.000020</td>\n",
       "      <td>0.005291</td>\n",
       "      <td>0.00168</td>\n",
       "      <td>0.009905</td>\n",
       "      <td>0.007957</td>\n",
       "      <td>0.004310</td>\n",
       "    </tr>\n",
       "  </tbody>\n",
       "</table>\n",
       "</div>"
      ],
      "text/plain": [
       "            d0        d1       d2        d3        d4      loss\n",
       "mean  0.000625  0.978265  0.96887  0.888686  0.916627  0.060451\n",
       "std   0.000020  0.005291  0.00168  0.009905  0.007957  0.004310"
      ]
     },
     "metadata": {},
     "output_type": "display_data"
    },
    {
     "name": "stdout",
     "output_type": "stream",
     "text": [
      "epoch 8\n"
     ]
    },
    {
     "name": "stderr",
     "output_type": "stream",
     "text": [
      "100%|██████████| 75/75 [00:46<00:00,  1.61it/s]\n"
     ]
    },
    {
     "data": {
      "text/html": [
       "<div>\n",
       "<style>\n",
       "    .dataframe thead tr:only-child th {\n",
       "        text-align: right;\n",
       "    }\n",
       "\n",
       "    .dataframe thead th {\n",
       "        text-align: left;\n",
       "    }\n",
       "\n",
       "    .dataframe tbody tr th {\n",
       "        vertical-align: top;\n",
       "    }\n",
       "</style>\n",
       "<table border=\"1\" class=\"dataframe\">\n",
       "  <thead>\n",
       "    <tr style=\"text-align: right;\">\n",
       "      <th></th>\n",
       "      <th>d0</th>\n",
       "      <th>d1</th>\n",
       "      <th>d2</th>\n",
       "      <th>d3</th>\n",
       "      <th>d4</th>\n",
       "      <th>loss</th>\n",
       "    </tr>\n",
       "  </thead>\n",
       "  <tbody>\n",
       "    <tr>\n",
       "      <th>mean</th>\n",
       "      <td>0.000334</td>\n",
       "      <td>0.977207</td>\n",
       "      <td>0.970065</td>\n",
       "      <td>0.905407</td>\n",
       "      <td>0.917222</td>\n",
       "      <td>0.058090</td>\n",
       "    </tr>\n",
       "    <tr>\n",
       "      <th>std</th>\n",
       "      <td>0.000065</td>\n",
       "      <td>0.005209</td>\n",
       "      <td>0.002227</td>\n",
       "      <td>0.007930</td>\n",
       "      <td>0.007108</td>\n",
       "      <td>0.004607</td>\n",
       "    </tr>\n",
       "  </tbody>\n",
       "</table>\n",
       "</div>"
      ],
      "text/plain": [
       "            d0        d1        d2        d3        d4      loss\n",
       "mean  0.000334  0.977207  0.970065  0.905407  0.917222  0.058090\n",
       "std   0.000065  0.005209  0.002227  0.007930  0.007108  0.004607"
      ]
     },
     "metadata": {},
     "output_type": "display_data"
    },
    {
     "name": "stderr",
     "output_type": "stream",
     "text": [
      "100%|██████████| 18/18 [00:10<00:00,  1.68it/s]\n"
     ]
    },
    {
     "data": {
      "text/html": [
       "<div>\n",
       "<style>\n",
       "    .dataframe thead tr:only-child th {\n",
       "        text-align: right;\n",
       "    }\n",
       "\n",
       "    .dataframe thead th {\n",
       "        text-align: left;\n",
       "    }\n",
       "\n",
       "    .dataframe tbody tr th {\n",
       "        vertical-align: top;\n",
       "    }\n",
       "</style>\n",
       "<table border=\"1\" class=\"dataframe\">\n",
       "  <thead>\n",
       "    <tr style=\"text-align: right;\">\n",
       "      <th></th>\n",
       "      <th>d0</th>\n",
       "      <th>d1</th>\n",
       "      <th>d2</th>\n",
       "      <th>d3</th>\n",
       "      <th>d4</th>\n",
       "      <th>loss</th>\n",
       "    </tr>\n",
       "  </thead>\n",
       "  <tbody>\n",
       "    <tr>\n",
       "      <th>mean</th>\n",
       "      <td>0.001224</td>\n",
       "      <td>0.972221</td>\n",
       "      <td>0.971857</td>\n",
       "      <td>0.892904</td>\n",
       "      <td>0.911467</td>\n",
       "      <td>0.063251</td>\n",
       "    </tr>\n",
       "    <tr>\n",
       "      <th>std</th>\n",
       "      <td>0.000087</td>\n",
       "      <td>0.005942</td>\n",
       "      <td>0.001657</td>\n",
       "      <td>0.009220</td>\n",
       "      <td>0.009180</td>\n",
       "      <td>0.006199</td>\n",
       "    </tr>\n",
       "  </tbody>\n",
       "</table>\n",
       "</div>"
      ],
      "text/plain": [
       "            d0        d1        d2        d3        d4      loss\n",
       "mean  0.001224  0.972221  0.971857  0.892904  0.911467  0.063251\n",
       "std   0.000087  0.005942  0.001657  0.009220  0.009180  0.006199"
      ]
     },
     "metadata": {},
     "output_type": "display_data"
    },
    {
     "name": "stdout",
     "output_type": "stream",
     "text": [
      "epoch 9\n"
     ]
    },
    {
     "name": "stderr",
     "output_type": "stream",
     "text": [
      "100%|██████████| 75/75 [00:46<00:00,  1.61it/s]\n"
     ]
    },
    {
     "data": {
      "text/html": [
       "<div>\n",
       "<style>\n",
       "    .dataframe thead tr:only-child th {\n",
       "        text-align: right;\n",
       "    }\n",
       "\n",
       "    .dataframe thead th {\n",
       "        text-align: left;\n",
       "    }\n",
       "\n",
       "    .dataframe tbody tr th {\n",
       "        vertical-align: top;\n",
       "    }\n",
       "</style>\n",
       "<table border=\"1\" class=\"dataframe\">\n",
       "  <thead>\n",
       "    <tr style=\"text-align: right;\">\n",
       "      <th></th>\n",
       "      <th>d0</th>\n",
       "      <th>d1</th>\n",
       "      <th>d2</th>\n",
       "      <th>d3</th>\n",
       "      <th>d4</th>\n",
       "      <th>loss</th>\n",
       "    </tr>\n",
       "  </thead>\n",
       "  <tbody>\n",
       "    <tr>\n",
       "      <th>mean</th>\n",
       "      <td>0.000450</td>\n",
       "      <td>0.977397</td>\n",
       "      <td>0.972207</td>\n",
       "      <td>0.908769</td>\n",
       "      <td>0.91669</td>\n",
       "      <td>0.057186</td>\n",
       "    </tr>\n",
       "    <tr>\n",
       "      <th>std</th>\n",
       "      <td>0.000079</td>\n",
       "      <td>0.005382</td>\n",
       "      <td>0.001955</td>\n",
       "      <td>0.008381</td>\n",
       "      <td>0.00864</td>\n",
       "      <td>0.005449</td>\n",
       "    </tr>\n",
       "  </tbody>\n",
       "</table>\n",
       "</div>"
      ],
      "text/plain": [
       "            d0        d1        d2        d3       d4      loss\n",
       "mean  0.000450  0.977397  0.972207  0.908769  0.91669  0.057186\n",
       "std   0.000079  0.005382  0.001955  0.008381  0.00864  0.005449"
      ]
     },
     "metadata": {},
     "output_type": "display_data"
    },
    {
     "name": "stderr",
     "output_type": "stream",
     "text": [
      "100%|██████████| 18/18 [00:10<00:00,  1.65it/s]\n"
     ]
    },
    {
     "data": {
      "text/html": [
       "<div>\n",
       "<style>\n",
       "    .dataframe thead tr:only-child th {\n",
       "        text-align: right;\n",
       "    }\n",
       "\n",
       "    .dataframe thead th {\n",
       "        text-align: left;\n",
       "    }\n",
       "\n",
       "    .dataframe tbody tr th {\n",
       "        vertical-align: top;\n",
       "    }\n",
       "</style>\n",
       "<table border=\"1\" class=\"dataframe\">\n",
       "  <thead>\n",
       "    <tr style=\"text-align: right;\">\n",
       "      <th></th>\n",
       "      <th>d0</th>\n",
       "      <th>d1</th>\n",
       "      <th>d2</th>\n",
       "      <th>d3</th>\n",
       "      <th>d4</th>\n",
       "      <th>loss</th>\n",
       "    </tr>\n",
       "  </thead>\n",
       "  <tbody>\n",
       "    <tr>\n",
       "      <th>mean</th>\n",
       "      <td>0.000948</td>\n",
       "      <td>0.976863</td>\n",
       "      <td>0.972981</td>\n",
       "      <td>0.904906</td>\n",
       "      <td>0.917468</td>\n",
       "      <td>0.057272</td>\n",
       "    </tr>\n",
       "    <tr>\n",
       "      <th>std</th>\n",
       "      <td>0.000051</td>\n",
       "      <td>0.005567</td>\n",
       "      <td>0.001729</td>\n",
       "      <td>0.008343</td>\n",
       "      <td>0.009473</td>\n",
       "      <td>0.005952</td>\n",
       "    </tr>\n",
       "  </tbody>\n",
       "</table>\n",
       "</div>"
      ],
      "text/plain": [
       "            d0        d1        d2        d3        d4      loss\n",
       "mean  0.000948  0.976863  0.972981  0.904906  0.917468  0.057272\n",
       "std   0.000051  0.005567  0.001729  0.008343  0.009473  0.005952"
      ]
     },
     "metadata": {},
     "output_type": "display_data"
    }
   ],
   "source": [
    "train_gen = None\n",
    "val_gen = None\n",
    "\n",
    "EPOCHS_NUM = 10\n",
    "BATCH_SIZE = 16\n",
    "PART_PER_EPOCH = 0.5\n",
    "BATCHES_PER_EPOCH_TRAIN = int(len(train_image_ids) * PART_PER_EPOCH / BATCH_SIZE)\n",
    "BATCHES_PER_EPOCH_VAL = int(len(val_image_ids) * PART_PER_EPOCH // BATCH_SIZE)\n",
    "\n",
    "# train_gen = data_gen(train_image_ids, imgaug_pipeline, batch_size=BATCH_SIZE)\n",
    "# val_gen = data_gen(val_image_ids, imgaug_pipeline, batch_size=BATCH_SIZE)\n",
    "\n",
    "\n",
    "net = UNet(first_conv_channels=\n",
    "           8, depth=3, enc_dilations=[1]).cuda()\n",
    "optimizer = Adam(net.parameters())\n",
    "# LOSS = dice_bce_loss\n",
    "LOSS = dice_loss\n",
    "print('total parameters', sum(numpy.product(p.size()) for p in net.parameters()))\n",
    "\n",
    "train_metrics = []\n",
    "val_metrics = []\n",
    "for epoch in range(EPOCHS_NUM):\n",
    "    try:\n",
    "        train_gen = DataLoader(SegmDataset(train_image_ids, imgaug_pipeline),\n",
    "                       batch_size=BATCH_SIZE,\n",
    "                       shuffle=True,\n",
    "                       num_workers=4)\n",
    "        val_gen = DataLoader(SegmDataset(val_image_ids, imgaug_pipeline),\n",
    "                             batch_size=BATCH_SIZE,\n",
    "                             shuffle=True,\n",
    "                             num_workers=2)\n",
    "        print('epoch', epoch)\n",
    "        net.train()\n",
    "        cur_train_metrics = run_network(net, train_gen, BATCHES_PER_EPOCH_TRAIN,\n",
    "                                        criterion=LOSS,\n",
    "                                        optimizer=optimizer)\n",
    "        train_metrics.extend(cur_train_metrics)\n",
    "        display(pandas.DataFrame(cur_train_metrics).describe().loc[['mean', 'std']])\n",
    "\n",
    "        net.eval()\n",
    "        cur_val_metrics = run_network(net, val_gen, BATCHES_PER_EPOCH_VAL,\n",
    "                                      criterion=LOSS)\n",
    "        val_metrics.extend(cur_val_metrics)\n",
    "        display(pandas.DataFrame(cur_val_metrics).describe().loc[['mean', 'std']])\n",
    "    finally:\n",
    "        if train_gen:\n",
    "            del train_gen\n",
    "        if val_gen:\n",
    "            del val_gen"
   ]
  },
  {
   "cell_type": "code",
   "execution_count": 22,
   "metadata": {
    "ExecuteTime": {
     "start_time": "2017-11-01T15:07:47.669Z"
    }
   },
   "outputs": [],
   "source": [
    "train_metrics = pandas.DataFrame(train_metrics)\n",
    "val_metrics = pandas.DataFrame(val_metrics)"
   ]
  },
  {
   "cell_type": "code",
   "execution_count": 23,
   "metadata": {
    "ExecuteTime": {
     "start_time": "2017-11-01T15:07:47.673Z"
    },
    "scrolled": false
   },
   "outputs": [
    {
     "data": {
      "text/plain": [
       "<matplotlib.axes._subplots.AxesSubplot at 0x7f7a71557940>"
      ]
     },
     "execution_count": 23,
     "metadata": {},
     "output_type": "execute_result"
    },
    {
     "data": {
      "image/png": "[encoded data removed]",
      "text/plain": [
       "<matplotlib.figure.Figure at 0x7f7aa001f780>"
      ]
     },
     "metadata": {},
     "output_type": "display_data"
    }
   ],
   "source": [
    "train_metrics.plot(figsize=(13, 8))"
   ]
  },
  {
   "cell_type": "code",
   "execution_count": 24,
   "metadata": {
    "ExecuteTime": {
     "start_time": "2017-11-01T15:07:47.678Z"
    }
   },
   "outputs": [
    {
     "data": {
      "text/plain": [
       "<matplotlib.axes._subplots.AxesSubplot at 0x7f7a7151e5f8>"
      ]
     },
     "execution_count": 24,
     "metadata": {},
     "output_type": "execute_result"
    },
    {
     "data": {
      "image/png": "[encoded data removed]",
      "text/plain": [
       "<matplotlib.figure.Figure at 0x7f7a715ae4a8>"
      ]
     },
     "metadata": {},
     "output_type": "display_data"
    }
   ],
   "source": [
    "val_metrics.plot(figsize=(13, 8))"
   ]
  },
  {
   "cell_type": "markdown",
   "metadata": {},
   "source": [
    "## Predict and visualize"
   ]
  },
  {
   "cell_type": "code",
   "execution_count": 18,
   "metadata": {
    "ExecuteTime": {
     "start_time": "2017-11-01T15:07:47.687Z"
    }
   },
   "outputs": [
    {
     "name": "stderr",
     "output_type": "stream",
     "text": [
      "/root/.pyenv/versions/3.6.0/lib/python3.6/site-packages/torch/serialization.py:147: UserWarning: Couldn't retrieve source code for container of type UNet. It won't be checked for correctness upon loading.\n",
      "  \"type \" + obj.__name__ + \". It won't be checked \"\n",
      "/root/.pyenv/versions/3.6.0/lib/python3.6/site-packages/torch/serialization.py:147: UserWarning: Couldn't retrieve source code for container of type ConvBlock. It won't be checked for correctness upon loading.\n",
      "  \"type \" + obj.__name__ + \". It won't be checked \"\n"
     ]
    }
   ],
   "source": [
    "torch.save(net, 'models/torch1')"
   ]
  },
  {
   "cell_type": "code",
   "execution_count": 19,
   "metadata": {
    "ExecuteTime": {
     "start_time": "2017-11-01T15:07:47.692Z"
    }
   },
   "outputs": [],
   "source": [
    "test_net = net.cpu()"
   ]
  },
  {
   "cell_type": "code",
   "execution_count": 20,
   "metadata": {
    "ExecuteTime": {
     "start_time": "2017-11-01T15:07:47.697Z"
    }
   },
   "outputs": [
    {
     "ename": "NameError",
     "evalue": "name 'val_gen' is not defined",
     "output_type": "error",
     "traceback": [
      "\u001b[0;31m---------------------------------------------------------------------------\u001b[0m",
      "\u001b[0;31mNameError\u001b[0m                                 Traceback (most recent call last)",
      "\u001b[0;32m<ipython-input-20-abcff3b6bcae>\u001b[0m in \u001b[0;36m<module>\u001b[0;34m()\u001b[0m\n\u001b[0;32m----> 1\u001b[0;31m \u001b[0mtest_batch\u001b[0m \u001b[0;34m=\u001b[0m \u001b[0mnext\u001b[0m\u001b[0;34m(\u001b[0m\u001b[0miter\u001b[0m\u001b[0;34m(\u001b[0m\u001b[0mval_gen\u001b[0m\u001b[0;34m)\u001b[0m\u001b[0;34m)\u001b[0m\u001b[0;34m\u001b[0m\u001b[0m\n\u001b[0m\u001b[1;32m      2\u001b[0m \u001b[0mtest_pred\u001b[0m \u001b[0;34m=\u001b[0m \u001b[0mnet\u001b[0m\u001b[0;34m(\u001b[0m\u001b[0mnpvar\u001b[0m\u001b[0;34m(\u001b[0m\u001b[0mtest_batch\u001b[0m\u001b[0;34m[\u001b[0m\u001b[0;36m1\u001b[0m\u001b[0;34m]\u001b[0m\u001b[0;34m,\u001b[0m \u001b[0;32mFalse\u001b[0m\u001b[0;34m)\u001b[0m\u001b[0;34m)\u001b[0m\u001b[0;34m\u001b[0m\u001b[0m\n\u001b[1;32m      3\u001b[0m \u001b[0mtest_pred_np\u001b[0m \u001b[0;34m=\u001b[0m \u001b[0mtest_pred\u001b[0m\u001b[0;34m.\u001b[0m\u001b[0mcpu\u001b[0m\u001b[0;34m(\u001b[0m\u001b[0;34m)\u001b[0m\u001b[0;34m.\u001b[0m\u001b[0mdata\u001b[0m\u001b[0;34m.\u001b[0m\u001b[0mnumpy\u001b[0m\u001b[0;34m(\u001b[0m\u001b[0;34m)\u001b[0m\u001b[0;34m\u001b[0m\u001b[0m\n",
      "\u001b[0;31mNameError\u001b[0m: name 'val_gen' is not defined"
     ]
    }
   ],
   "source": [
    "test_batch = next(iter(val_gen))\n",
    "test_pred = net(npvar(test_batch[1], False))\n",
    "test_pred_np = test_pred.cpu().data.numpy()"
   ]
  },
  {
   "cell_type": "code",
   "execution_count": null,
   "metadata": {
    "ExecuteTime": {
     "start_time": "2017-11-01T15:07:47.701Z"
    }
   },
   "outputs": [],
   "source": [
    "arr_to_img(test_batch[1][3][0])"
   ]
  },
  {
   "cell_type": "code",
   "execution_count": null,
   "metadata": {
    "ExecuteTime": {
     "start_time": "2017-11-01T15:07:47.707Z"
    }
   },
   "outputs": [],
   "source": [
    "arr_to_img(test_pred_np[3][2])"
   ]
  },
  {
   "cell_type": "code",
   "execution_count": null,
   "metadata": {},
   "outputs": [],
   "source": []
  }
 ],
 "metadata": {
  "kernelspec": {
   "display_name": "Python 3",
   "language": "python",
   "name": "python3"
  },
  "language_info": {
   "codemirror_mode": {
    "name": "ipython",
    "version": 3
   },
   "file_extension": ".py",
   "mimetype": "text/x-python",
   "name": "python",
   "nbconvert_exporter": "python",
   "pygments_lexer": "ipython3",
   "version": "3.6.0"
  },
  "toc": {
   "colors": {
    "hover_highlight": "#DAA520",
    "running_highlight": "#FF0000",
    "selected_highlight": "#FFD700"
   },
   "moveMenuLeft": true,
   "nav_menu": {
    "height": "138px",
    "width": "252px"
   },
   "navigate_menu": true,
   "number_sections": true,
   "sideBar": true,
   "threshold": 4,
   "toc_cell": false,
   "toc_section_display": "block",
   "toc_window_display": true
  }
 },
 "nbformat": 4,
 "nbformat_minor": 2
}
