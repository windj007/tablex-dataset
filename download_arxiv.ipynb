{
 "cells": [
  {
   "cell_type": "code",
   "execution_count": null,
   "metadata": {
    "collapsed": true
   },
   "outputs": [],
   "source": [
    "# !pip install -U grequests requests"
   ]
  },
  {
   "cell_type": "code",
   "execution_count": 23,
   "metadata": {},
   "outputs": [
    {
     "name": "stdout",
     "output_type": "stream",
     "text": [
      "Source proxies 961\n",
      "Number of good proxies 499\n",
      "CPU times: user 7.63 s, sys: 684 ms, total: 8.32 s\n",
      "Wall time: 47.1 s\n"
     ]
    }
   ],
   "source": [
    "# %%time\n",
    "\n",
    "# import grequests\n",
    "\n",
    "# with open('./proxies.lst', 'r') as f:\n",
    "#     src_proxy_names = list({tuple(line.strip().split('\\t')) for line in f if line.strip()})\n",
    "# print('Source proxies', len(src_proxy_names))\n",
    "\n",
    "# def make_check_req(proxy):\n",
    "#     res = grequests.get('https://arxiv.org',\n",
    "#                         proxies={ 'http': 'http://{}:{}'.format(*proxy) },\n",
    "#                         headers={'x-my-proxy' : ' '.join(proxy) },\n",
    "#                         timeout=40)\n",
    "#     return res\n",
    "\n",
    "# def get_proxy_if_good(res):\n",
    "#     if res and res.status_code == 200:\n",
    "#         return tuple(res.request.headers['x-my-proxy'].split(' '))\n",
    "#     return None\n",
    "\n",
    "# proxy_check_requests = map(make_check_req, src_proxy_names)\n",
    "# proxy_check_results = grequests.map(proxy_check_requests)\n",
    "# good_proxies = list(set(filter(None, map(get_proxy_if_good, proxy_check_results))))\n",
    "# print('Number of good proxies', len(good_proxies))\n",
    "# with open('./good_proxies.lst', 'w') as f:\n",
    "#     f.write('\\n'.join('\\t'.join(t) for t in good_proxies))"
   ]
  },
  {
   "cell_type": "code",
   "execution_count": 1,
   "metadata": {
    "collapsed": true
   },
   "outputs": [],
   "source": [
    "import grequests, re, json, random, joblib, os, datetime"
   ]
  },
  {
   "cell_type": "code",
   "execution_count": 2,
   "metadata": {},
   "outputs": [
    {
     "name": "stdout",
     "output_type": "stream",
     "text": [
      "499\n"
     ]
    }
   ],
   "source": [
    "with open('./good_proxies.lst', 'r') as f:\n",
    "    good_proxies = [line.strip().split('\\t') for line in f if line.strip()]\n",
    "print(len(good_proxies))"
   ]
  },
  {
   "cell_type": "code",
   "execution_count": 3,
   "metadata": {},
   "outputs": [
    {
     "name": "stdout",
     "output_type": "stream",
     "text": [
      "602587\n"
     ]
    }
   ],
   "source": [
    "ID_RE = re.compile('(\\d{3,}\\.\\d{3,})')\n",
    "with open('./data/2030_urls', 'r') as f:\n",
    "    ids = [ID_RE.search(line).group(1) for line in f if ID_RE.search(line)]\n",
    "print(len(ids))"
   ]
  },
  {
   "cell_type": "code",
   "execution_count": 4,
   "metadata": {
    "collapsed": true
   },
   "outputs": [],
   "source": [
    "# 1508.01991\n",
    "\n",
    "def get_sources_req(paper_id):\n",
    "    proxy = random.choice(good_proxies)\n",
    "    return grequests.get('https://arxiv.org/e-print/' + paper_id,\n",
    "                         proxies={'http': 'http://{}:{}'.format(*proxy),\n",
    "                                  'https': 'http://{}:{}'.format(*proxy) },\n",
    "                         headers={'x-paper-id': paper_id},\n",
    "                         timeout=40)\n",
    "\n",
    "def parse_get_sources(res):\n",
    "    if not (res and res.status_code == 200):\n",
    "        return False\n",
    "    paper_id = res.request.headers['x-paper-id']\n",
    "#     print(paper_id)\n",
    "    with open('./data/arxiv/sources/{}.tar.gz'.format(paper_id), 'wb') as f:\n",
    "        f.write(res.content)\n",
    "    with open('./data/arxiv/sources/{}.js'.format(paper_id), 'w') as f:\n",
    "        json.dump(dict(content_type=res.headers['content-type']),\n",
    "                  f,\n",
    "                  indent=2)\n",
    "    return True"
   ]
  },
  {
   "cell_type": "code",
   "execution_count": null,
   "metadata": {},
   "outputs": [
    {
     "name": "stdout",
     "output_type": "stream",
     "text": [
      "downloaded: 109902\n",
      "left to download: 491589\n",
      "2017-10-04 16:04:12.329892 0\n",
      "success rate: 37\n",
      "2017-10-04 16:11:11.347987 100\n",
      "success rate: 41\n",
      "2017-10-04 16:14:46.210113 200\n",
      "success rate: 48\n",
      "2017-10-04 16:17:58.465199 300\n",
      "success rate: 52\n",
      "2017-10-04 16:24:40.848049 400\n",
      "success rate: 52\n",
      "2017-10-04 16:27:56.354472 500\n",
      "success rate: 48\n",
      "2017-10-04 16:31:55.292397 600\n",
      "success rate: 44\n",
      "2017-10-04 16:34:58.703527 700\n",
      "success rate: 46\n",
      "2017-10-04 16:38:05.587787 800\n",
      "success rate: 46\n",
      "2017-10-04 16:40:00.914776 900\n",
      "success rate: 44\n",
      "2017-10-04 16:48:18.919269 1000\n",
      "success rate: 45\n",
      "2017-10-04 16:57:15.031314 1100\n",
      "success rate: 53\n",
      "2017-10-04 17:04:10.455402 1200\n",
      "success rate: 35\n",
      "2017-10-04 17:08:41.647366 1300\n",
      "success rate: 41\n",
      "2017-10-04 17:12:53.107643 1400\n",
      "success rate: 47\n",
      "2017-10-04 17:15:13.858885 1500\n",
      "success rate: 48\n",
      "2017-10-04 17:22:09.307548 1600\n",
      "success rate: 46\n",
      "2017-10-04 17:30:23.690110 1700\n",
      "success rate: 41\n",
      "2017-10-04 17:32:55.783883 1800\n",
      "success rate: 42\n",
      "2017-10-04 17:41:35.822333 1900\n",
      "success rate: 44\n",
      "2017-10-04 17:47:13.033655 2000\n",
      "success rate: 46\n",
      "2017-10-04 17:57:30.883434 2100\n",
      "success rate: 40\n",
      "2017-10-04 18:05:05.602678 2200\n",
      "success rate: 44\n",
      "2017-10-04 18:11:59.203543 2300\n",
      "success rate: 50\n",
      "2017-10-04 18:18:31.635584 2400\n",
      "success rate: 42\n",
      "2017-10-04 18:21:00.086066 2500\n",
      "success rate: 38\n",
      "2017-10-04 18:24:13.430831 2600\n",
      "success rate: 44\n",
      "2017-10-04 18:30:14.821125 2700\n",
      "success rate: 44\n",
      "2017-10-04 18:34:17.933136 2800\n",
      "success rate: 39\n",
      "2017-10-04 18:39:05.901390 2900\n",
      "success rate: 47\n",
      "2017-10-04 18:52:17.354662 3000\n",
      "success rate: 47\n",
      "2017-10-04 18:54:43.328145 3100\n",
      "success rate: 42\n",
      "2017-10-04 19:00:48.372916 3200\n",
      "success rate: 51\n",
      "2017-10-04 19:06:42.489564 3300\n",
      "success rate: 43\n",
      "2017-10-04 19:08:53.937654 3400\n",
      "success rate: 45\n",
      "2017-10-04 19:21:59.040224 3500\n",
      "success rate: 47\n",
      "2017-10-04 19:25:23.270729 3600\n",
      "success rate: 43\n",
      "2017-10-04 19:28:37.489670 3700\n",
      "success rate: 44\n",
      "2017-10-04 19:31:32.039592 3800\n",
      "success rate: 54\n",
      "2017-10-04 19:36:01.931129 3900\n",
      "success rate: 40\n",
      "2017-10-04 19:38:38.031454 4000\n",
      "success rate: 44\n",
      "2017-10-04 19:40:47.219366 4100\n",
      "success rate: 48\n",
      "2017-10-04 19:47:20.494181 4200\n",
      "success rate: 51\n",
      "2017-10-04 19:54:53.786671 4300\n",
      "success rate: 48\n",
      "2017-10-04 19:59:49.142576 4400\n",
      "success rate: 34\n",
      "2017-10-04 20:08:17.567424 4500\n",
      "success rate: 42\n",
      "2017-10-04 20:10:27.636315 4600\n",
      "success rate: 51\n",
      "2017-10-04 20:14:42.542407 4700\n",
      "success rate: 34\n",
      "2017-10-04 20:16:07.547846 4800\n"
     ]
    }
   ],
   "source": [
    "already_downloaded_papers = { ID_RE.search(fname).group(1) for fname in os.listdir('./data/arxiv/sources/') }\n",
    "print('downloaded:', len(already_downloaded_papers))\n",
    "ids_to_download = list({ paper_id for paper_id in ids if not paper_id in already_downloaded_papers })\n",
    "print('left to download:', len(ids_to_download))\n",
    "\n",
    "BATCH_SIZE = 100\n",
    "\n",
    "for batch_start in range(0, len(ids_to_download), BATCH_SIZE):\n",
    "    print(datetime.datetime.now(), batch_start)\n",
    "    batch_ids = ids_to_download[batch_start:batch_start+BATCH_SIZE]\n",
    "    reqs = map(get_sources_req, batch_ids)\n",
    "\n",
    "    success = 0\n",
    "    for resp in grequests.map(reqs, size=BATCH_SIZE):\n",
    "        if parse_get_sources(resp):\n",
    "            success += 1\n",
    "    print('success rate:', success)\n",
    "\n",
    "    if success == 0:\n",
    "        print('Update proxies!!!')\n",
    "        break"
   ]
  },
  {
   "cell_type": "code",
   "execution_count": null,
   "metadata": {
    "collapsed": true
   },
   "outputs": [],
   "source": []
  }
 ],
 "metadata": {
  "kernelspec": {
   "display_name": "Python 3",
   "language": "python",
   "name": "python3"
  },
  "language_info": {
   "codemirror_mode": {
    "name": "ipython",
    "version": 3
   },
   "file_extension": ".py",
   "mimetype": "text/x-python",
   "name": "python",
   "nbconvert_exporter": "python",
   "pygments_lexer": "ipython3",
   "version": "3.6.0"
  }
 },
 "nbformat": 4,
 "nbformat_minor": 2
}
