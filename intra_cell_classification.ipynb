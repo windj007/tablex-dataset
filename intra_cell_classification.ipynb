{
 "cells": [
  {
   "cell_type": "markdown",
   "metadata": {},
   "source": [
    "# Extract boxes with PyTorch"
   ]
  },
  {
   "cell_type": "code",
   "execution_count": 1,
   "metadata": {
    "ExecuteTime": {
     "end_time": "2017-12-18T15:29:57.704263Z",
     "start_time": "2017-12-18T15:29:56.508682Z"
    }
   },
   "outputs": [
    {
     "name": "stdout",
     "output_type": "stream",
     "text": [
      "Requirement already up-to-date: toposort in /root/.pyenv/versions/3.6.0/lib/python3.6/site-packages\r\n"
     ]
    }
   ],
   "source": [
    "# !pip install -U toposort\n",
    "# !pip uninstall -y torch\n",
    "# !pip install -U http://download.pytorch.org/whl/cu80/torch-0.2.0.post3-cp36-cp36m-manylinux1_x86_64.whl"
   ]
  },
  {
   "cell_type": "code",
   "execution_count": 2,
   "metadata": {
    "ExecuteTime": {
     "end_time": "2017-12-18T15:29:59.717093Z",
     "start_time": "2017-12-18T15:29:57.708281Z"
    }
   },
   "outputs": [
    {
     "name": "stdout",
     "output_type": "stream",
     "text": [
      "Populating the interactive namespace from numpy and matplotlib\n"
     ]
    }
   ],
   "source": [
    "%load_ext autoreload\n",
    "%autoreload 2\n",
    "\n",
    "import os, glob, json, tqdm, pandas, pickle, rtree, gc, toposort, joblib\n",
    "import matplotlib.pyplot as plt\n",
    "%pylab inline\n",
    "\n",
    "import torch\n",
    "from torch import nn\n",
    "from torch.autograd import Variable\n",
    "from torch.nn import functional as F\n",
    "from torch.optim import Adam\n",
    "from torch.utils.data import Dataset, DataLoader\n",
    "\n",
    "from imgaug import augmenters as iaa\n",
    "from imgaug import imgaug as ia\n",
    "from PIL import Image\n",
    "\n",
    "from IPython.display import display\n",
    "\n",
    "from prepare_images_utils import *\n",
    "from latex_dataset import *"
   ]
  },
  {
   "cell_type": "markdown",
   "metadata": {},
   "source": [
    "## Prepare data source"
   ]
  },
  {
   "cell_type": "code",
   "execution_count": 3,
   "metadata": {
    "ExecuteTime": {
     "end_time": "2017-12-18T15:30:08.316107Z",
     "start_time": "2017-12-18T15:29:59.723077Z"
    }
   },
   "outputs": [],
   "source": [
    "IN_IMG_SUFFIX = '_in.png'\n",
    "OUT_JSON_SUFFIX = '_out.json'\n",
    "\n",
    "\n",
    "def load_image_with_boxes(img_id):\n",
    "    img = load_image_opaque(img_id + IN_IMG_SUFFIX)\n",
    "    with open(img_id + OUT_JSON_SUFFIX, 'r') as f:\n",
    "        boxes = json.load(f)\n",
    "    return img, boxes\n",
    "\n",
    "\n",
    "def prepare_img_boxes_for_nn(img, boxes, shape=(800, 400)):\n",
    "    cats, just_boxes = zip(*boxes)\n",
    "    cats = numpy.array(cats)\n",
    "    just_boxes = numpy.array(just_boxes) * POINTS_TO_PIXELS_FACTOR\n",
    "    just_boxes = just_boxes[:, [1, 0, 3, 2]] # x1, y1, x2, y2\n",
    "    cropbox = numpy.array((just_boxes[:, 0].min(),\n",
    "                           just_boxes[:, 1].min(),\n",
    "                           just_boxes[:, 2].max(),\n",
    "                           just_boxes[:, 3].max())).astype('int')\n",
    "\n",
    "    res_in_img = Image.new('L', shape, 255)\n",
    "    res_in_img.paste(img.crop(cropbox))\n",
    "\n",
    "    just_boxes -= cropbox[[0, 1, 0, 1]]\n",
    "    just_boxes = numpy.clip(just_boxes,\n",
    "                            (0, 0, 0, 0),\n",
    "                            (shape[0], shape[1], shape[0], shape[1]))\n",
    "    boxes_area = (just_boxes[:, 2] - just_boxes[:, 0]) * (just_boxes[:, 3] - just_boxes[:, 1])\n",
    "    good_boxes = numpy.where(boxes_area > 0)[0]\n",
    "    return (numpy.array(res_in_img).astype('float32'),\n",
    "            cats[good_boxes],\n",
    "            just_boxes[good_boxes])\n",
    "\n",
    "\n",
    "def filter_by_intersection(big_box, boxes_to_filter, threshold=0.97):\n",
    "    return [i for i, b in enumerate(boxes_to_filter)\n",
    "            if box_inter_area(big_box, b) / box_area(b) >= threshold]\n",
    "\n",
    "\n",
    "def group_by_intersection(criterion_boxes, boxes_to_group, threshold=0.97):\n",
    "    result = collections.defaultdict(set)\n",
    "    for group_i, big_box in enumerate(criterion_boxes):\n",
    "        box_idx = filter_by_intersection(big_box, boxes_to_group)\n",
    "        for box_i in box_idx:\n",
    "            result[box_i].add(group_i)\n",
    "    return result\n",
    "\n",
    "\n",
    "def get_biggest_box(boxes):\n",
    "    return boxes[numpy.argmax(list(map(box_area, boxes)))]\n",
    "\n",
    "\n",
    "def make_grid(boxes):\n",
    "    if len(boxes) == 0:\n",
    "        return []\n",
    "\n",
    "    rindex = rtree.index.Index(interleaved=True)\n",
    "    for box_i, box in enumerate(boxes):\n",
    "        rindex.insert(box_i, box)\n",
    "\n",
    "    y1s, x1s, y2s, x2s = zip(*boxes)\n",
    "    min_y, min_x, max_y, max_x = min(y1s), min(x1s), max(y2s), max(x2s)\n",
    "\n",
    "    neighborhood = []\n",
    "    for box_i, box in enumerate(boxes):\n",
    "        box_y1, box_x1, box_y2, box_x2 = box\n",
    "\n",
    "        immediate_left_neigh_border = max((boxes[i][1] for i in\n",
    "                                           rindex.intersection((box_y1, min_x-1e-3, box_y2, box_x1-1e-3))),\n",
    "                                          default=min_x)\n",
    "        immediate_right_neigh_border = min((boxes[i][3] for i in\n",
    "                                            rindex.intersection((box_y1, box_x2+1e-3, box_y2, max_x+1e-3))),\n",
    "                                           default=max_x)\n",
    "        immediate_upper_neigh_border = max((boxes[i][0] for i in\n",
    "                                            rindex.intersection((min_y-1e-3, box_x1, box_y1-1e-3, box_x2))),\n",
    "                                           default=min_y)\n",
    "        immediate_lower_neigh_border = min((boxes[i][2] for i in\n",
    "                                            rindex.intersection((box_y2+1e-3, box_x1, max_y+1e-3, box_x2))),\n",
    "                                           default=max_y)\n",
    "\n",
    "        cur_box_neighborhood = {}\n",
    "\n",
    "        cur_box_neighborhood['lower'] = list(rindex.intersection((box_y2+1e-3,\n",
    "                                                                  immediate_left_neigh_border,\n",
    "                                                                  immediate_lower_neigh_border+1e-3,\n",
    "                                                                  immediate_right_neigh_border)))\n",
    "\n",
    "        cur_box_neighborhood['right'] = list(rindex.intersection((immediate_upper_neigh_border,\n",
    "                                                                  box_x2+1e-3,\n",
    "                                                                  immediate_lower_neigh_border,\n",
    "                                                                  immediate_right_neigh_border+1e-3)))\n",
    "\n",
    "        neighborhood.append(cur_box_neighborhood)\n",
    "    return neighborhood\n",
    "\n",
    "\n",
    "def get_axis_inter(a, b, axis):\n",
    "    return max(a[axis], b[axis]), min(a[axis+2], b[axis+2])\n",
    "\n",
    "\n",
    "def get_interbox_space_overlapping(a, b):\n",
    "    ay1, ax1, ay2, ax2 = a\n",
    "    by1, bx1, by2, bx2 = b\n",
    "    iy1, iy2 = get_axis_inter(a, b, 0)\n",
    "    ix1, ix2 = get_axis_inter(a, b, 1)\n",
    "    if iy1 <= iy2: # intersect vertically\n",
    "        if ax2 < bx1: # a is to the left of b\n",
    "            return (iy1, ax2, iy2, bx1)\n",
    "        else: # b is to the right a\n",
    "            return (iy1, bx2, iy2, ax1)\n",
    "    elif ix1 <= ix2: # intersect horizontally\n",
    "        if ay2 < by1: # a is upper than b\n",
    "            return (ay2, ix1, by1, ix2)\n",
    "        else:\n",
    "            return (by2, ix1, ay1, ix2)\n",
    "    else:\n",
    "        print(a, b)\n",
    "        print(iy1, iy2)\n",
    "        print(ix1, ix2)\n",
    "        raise Exception('WAT?!?!? we must not have got here!')\n",
    "\n",
    "\n",
    "def just_box_union(boxes):\n",
    "    y1s, x1s, y2s, x2s = zip(*boxes)\n",
    "    return [min(y1s), min(x1s), max(y2s), max(x2s)]\n",
    "\n",
    "\n",
    "def get_interbox_space_fuzzy(a, b):\n",
    "    return just_box_union((a, b))\n",
    "\n",
    "\n",
    "def make_bi_slope(width):\n",
    "    even = width % 2 == 0\n",
    "    slope = numpy.arange(1, 0, -2 / width)[::-1][-width//2:]\n",
    "    return numpy.concatenate([(slope if even else slope[:-1]), slope[::-1]])\n",
    "\n",
    "\n",
    "def make_diagonal_mask(box, is_left):\n",
    "    y1, x1, y2, x2 = box\n",
    "    width = x2 - x1\n",
    "    height = y2 - y1\n",
    "    if height > width:\n",
    "        width, height = height, width\n",
    "        transposed = True\n",
    "    else:\n",
    "        transposed = False\n",
    "    x_steps = numpy.round(width / float(height) * numpy.arange(0, height, 1)).astype('int')\n",
    "    line_filler = numpy.arange(1, 0, -1 / width)[:width]\n",
    "    rows = ([line_filler] + \n",
    "        [numpy.concatenate([line_filler[1:x+1][::-1], line_filler[:-x]])\n",
    "         for x in x_steps[1:]])\n",
    "    result = numpy.array(rows)\n",
    "    if transposed:\n",
    "        result = result.T\n",
    "    if is_left:\n",
    "        result = result[:, ::-1]\n",
    "    return result\n",
    "\n",
    "\n",
    "def get_interbox_mask_direction(a, b):\n",
    "    ay1, ax1, ay2, ax2 = a\n",
    "    by1, bx1, by2, bx2 = b\n",
    "    return (ay1 - by1) * (ax1 - bx1) < 0\n",
    "\n",
    "\n",
    "def make_fill_const(box, value=1):\n",
    "    return value\n",
    "\n",
    "\n",
    "def bbox_center_cv2(box):\n",
    "    y1, x1, y2, x2 = box\n",
    "    return (int((x2 + x1) / 2), int((y2 + y1) / 2))\n",
    "\n",
    "\n",
    "MIN_THICKNESS = 6\n",
    "MAX_THICKNESS = 40\n",
    "def calc_intercell_line_mask_params(cell1, cell2, direction):\n",
    "    center1 = bbox_center_cv2(cell1)\n",
    "    center2 = bbox_center_cv2(cell2)\n",
    "    if direction in ('same_row', 'right'):\n",
    "        thickness = min(cell1[2] - cell1[0],\n",
    "                        cell2[2] - cell2[0])\n",
    "    elif direction in ('same_col', 'lower'):\n",
    "        thickness = min(cell1[3] - cell1[1],\n",
    "                        cell2[3] - cell2[1])\n",
    "    else:\n",
    "        raise Exception('We must not get here! {}'.format(direction))\n",
    "    thickness = int(max(MIN_THICKNESS,\n",
    "                        min(thickness * 0.7,\n",
    "                            scipy.spatial.distance.euclidean(center1, center2),\n",
    "                            MAX_THICKNESS)))\n",
    "    return center1, center2, thickness\n",
    "\n",
    "\n",
    "def get_intercell_line_bbox(cell1, cell2, direction):\n",
    "#     (c1x, c1y), (c2x, c2y), thickness = calc_intercell_line_mask_params(cell1, cell2, direction)\n",
    "#     return min(c1y, c2y), min(c1x, c2x), max(c1y, c2y), max(c1x, c2x)\n",
    "    return just_box_union([cell1, cell2])\n",
    "\n",
    "\n",
    "def draw_intercell_mask(output, cell1, cell2, direction, value=1.0):\n",
    "    center1, center2, thickness = calc_intercell_line_mask_params(cell1, cell2, direction)\n",
    "    cv2.line(output, center1, center2, (value,),\n",
    "             thickness=thickness, lineType=cv2.LINE_AA)\n",
    "\n",
    "\n",
    "MASK_CHANNELS = ['body', 'cell', 'same_row_other_col', 'same_col_other_row']\n",
    "TOTAL_CLASSES = len(MASK_CHANNELS)\n",
    "INTERCELL_LINE_WIDTH = 10\n",
    "def make_mask_for_nn_intracell(size, box_cats, boxes_on_image):\n",
    "    result = numpy.zeros((TOTAL_CLASSES, ) + size, dtype='float32')\n",
    "\n",
    "    boxes_by_cat = collections.defaultdict(list)\n",
    "    for cat, bbox in zip(box_cats, boxes_on_image.bounding_boxes):\n",
    "        boxes_by_cat[cat].append((bbox.y1, bbox.x1, bbox.y2, bbox.x2))\n",
    "\n",
    "    if len(boxes_by_cat[1]) == 0:\n",
    "        return result\n",
    "\n",
    "    body = get_biggest_box(boxes_by_cat[1])\n",
    "    cells = boxes_by_cat[2]\n",
    "    rows = boxes_by_cat[3]\n",
    "    cols = boxes_by_cat[4]\n",
    "\n",
    "    cell2rows = group_by_intersection(rows, cells)\n",
    "    cell2cols = group_by_intersection(cols, cells)\n",
    "\n",
    "    boxes_by_channel = [[body], cells]\n",
    "    \n",
    "    for channel, boxes in enumerate(boxes_by_channel):\n",
    "        for box in boxes:\n",
    "            y1, x1, y2, x2 = (int(math.floor(box[0])),\n",
    "                              int(math.floor(box[1])),\n",
    "                              int(math.ceil(box[2])),\n",
    "                              int(math.ceil(box[3])))\n",
    "            result[channel, y1:y2, x1:x2] = 1\n",
    "\n",
    "    grid = make_grid(cells)\n",
    "    for i, cur_box in enumerate(cells):\n",
    "        cur_rows = cell2rows[i]\n",
    "        cur_cols = cell2cols[i]\n",
    "        for direction, neigh_boxes_idx in grid[i].items():\n",
    "            for neigh_box_i in neigh_boxes_idx:\n",
    "                neigh_box = cells[neigh_box_i]\n",
    "                # here we assume that we are going to the right and bottom\n",
    "                same_rows = cur_rows <= cell2rows[neigh_box_i]\n",
    "                same_cols = cur_cols <= cell2cols[neigh_box_i]\n",
    "                if same_rows and same_cols:\n",
    "#                     print('same_rows and same_cols')\n",
    "#                     print(i, neigh_box_i)\n",
    "#                     print(cur_box, cells[neigh_box_i])\n",
    "#                     print(cur_rows, cur_cols)\n",
    "#                     print(cell2rows[neigh_box_i], cell2cols[neigh_box_i])\n",
    "#                     continue\n",
    "                    raise Exception('Different cells but same row and col?!?!?!?!?!')\n",
    "                if not (same_rows or same_cols):\n",
    "                    continue\n",
    "                channel = 2 if same_rows else 3\n",
    "                draw_intercell_mask(result[channel],\n",
    "                                    cur_box,\n",
    "                                    neigh_box,\n",
    "                                    'same_row' if same_rows else 'same_col',\n",
    "                                    1)\n",
    "\n",
    "    return result\n",
    "\n",
    "\n",
    "MASK_COLORS = numpy.array([\n",
    "    [255,   0,   0],\n",
    "    [  0, 255,   0],\n",
    "    [  0,   0, 255],\n",
    "    [255, 255,   0],\n",
    "    [255,   0, 255],\n",
    "])\n",
    "def mask_to_img(mask, color_offset=0, fixed_norm=True):\n",
    "    norm = float(mask.shape[0]) if fixed_norm else numpy.expand_dims(mask.sum(0), -1)\n",
    "    colored = numpy.tensordot(mask, MASK_COLORS[color_offset:color_offset+mask.shape[0]], (0, 0))\n",
    "    avg = numpy.nan_to_num(colored / norm)\n",
    "    return avg / 255.0\n",
    "\n",
    "\n",
    "def calc_loss_weights(mask, channels=None, edge_add_weight=0.2, laplacian_ksize=9, edge_th=1.1):\n",
    "    result = numpy.ones_like(mask)\n",
    "    if channels is None:\n",
    "        channels = list(range(mask.shape[1]))\n",
    "    for sample_i in range(mask.shape[0]):\n",
    "        for channel_i in channels:\n",
    "            edges = numpy.absolute(cv2.Laplacian(mask[sample_i, channel_i],\n",
    "                                                 cv2.CV_32F,\n",
    "                                                 ksize=laplacian_ksize))\n",
    "            edges = numpy.where(edges > edge_th, 1, 0)\n",
    "            if edges.max() > 0:\n",
    "                result[sample_i, channel_i] += edge_add_weight * edges\n",
    "    return result\n",
    "\n",
    "\n",
    "def my_augment_bounding_boxes(augmenter, bounding_boxes_on_images, boxes_cats_by_image):\n",
    "    kps_ois = []\n",
    "    for bbs_oi in bounding_boxes_on_images:\n",
    "        kps = []\n",
    "        for bb in bbs_oi.bounding_boxes:\n",
    "            kps.extend(bb.to_keypoints())\n",
    "        kps_ois.append(ia.KeypointsOnImage(kps, shape=bbs_oi.shape))\n",
    "\n",
    "    kps_ois_aug = augmenter.augment_keypoints(kps_ois)\n",
    "\n",
    "    result = []\n",
    "    for img_idx, kps_oi_aug in enumerate(kps_ois_aug):\n",
    "        img_cats = boxes_cats_by_image[img_idx]\n",
    "        bbs_aug = []\n",
    "        aug_cats = []\n",
    "        for i in range(len(kps_oi_aug.keypoints) // 4):\n",
    "            bb_kps = kps_oi_aug.keypoints[i*4:i*4+4]\n",
    "            x1 = numpy.clip(min([kp.x for kp in bb_kps]), 0, None)\n",
    "            x2 = numpy.clip(max([kp.x for kp in bb_kps]), 0, None)\n",
    "            y1 = numpy.clip(min([kp.y for kp in bb_kps]), 0, None)\n",
    "            y2 = numpy.clip(max([kp.y for kp in bb_kps]), 0, None)\n",
    "            area = (x2 - x1) * (y2 - y1)\n",
    "            if area > 0 and x1 >= 0 and y1 >= 0:\n",
    "                bbs_aug.append(\n",
    "                    bounding_boxes_on_images[img_idx].bounding_boxes[i].copy(\n",
    "                        x1=x1,\n",
    "                        y1=y1,\n",
    "                        x2=x2,\n",
    "                        y2=y2\n",
    "                    )\n",
    "                )\n",
    "                aug_cats.append(img_cats[i])\n",
    "        result.append((ia.BoundingBoxesOnImage(bbs_aug,\n",
    "                                               shape=kps_oi_aug.shape),\n",
    "                       aug_cats))\n",
    "    return result\n",
    "\n",
    "\n",
    "def prepare_batch(batch_image_ids, augmenter):\n",
    "    images, box_cats, boxes = zip(*[prepare_img_boxes_for_nn(*load_image_with_boxes(img_id))\n",
    "                                    for img_id in batch_image_ids])\n",
    "\n",
    "    det = augmenter.to_deterministic() if not augmenter.deterministic else augseq\n",
    "\n",
    "    images_aug = det.augment_images(numpy.array(images).astype('uint8')).astype('float32') / 255\n",
    "\n",
    "    boxes = [ia.BoundingBoxesOnImage([ia.BoundingBox(*box)\n",
    "                                      for box in img_boxes],\n",
    "                                     img.shape)\n",
    "             for img, img_boxes in zip(images, boxes)]\n",
    "    boxes_aug_with_cats = my_augment_bounding_boxes(det, boxes, box_cats)\n",
    "\n",
    "    mask = numpy.array([make_mask_for_nn_intracell(img.shape, img_box_cats, img_boxes)\n",
    "                        for img_name, img, (img_boxes, img_box_cats)\n",
    "                        in zip(batch_image_ids, images_aug, boxes_aug_with_cats)])\n",
    "\n",
    "    boxes_aug_lists_with_cats = []\n",
    "    for img_boxes, img_box_cats in boxes_aug_with_cats:\n",
    "        img_boxes_with_cats = collections.defaultdict(list)\n",
    "        for b, c in zip(img_boxes.bounding_boxes, img_box_cats):\n",
    "            img_boxes_with_cats[c-1].append((b.y1, b.x1, b.y2, b.x2)) # we throw away 0 category\n",
    "        boxes_aug_lists_with_cats.append(img_boxes_with_cats)\n",
    "\n",
    "    return (batch_image_ids,\n",
    "            numpy.expand_dims(numpy.array(images_aug), 1),\n",
    "            mask,\n",
    "            calc_loss_weights(mask, channels=[1]),\n",
    "            boxes_aug_lists_with_cats)\n",
    "\n",
    "\n",
    "def data_gen(image_ids, augmenter, batch_size=32):\n",
    "    while True:\n",
    "        yield prepare_batch(numpy.random.choice(image_ids, size=batch_size),\n",
    "                            augmenter)\n",
    "\n",
    "\n",
    "class SegmDataset(Dataset):\n",
    "    def __init__(self, all_image_ids, augmenter):\n",
    "        self.all_image_ids = all_image_ids\n",
    "        self.augmenter = augmenter\n",
    "\n",
    "    def __len__(self):\n",
    "        return len(self.all_image_ids)\n",
    "\n",
    "    def __getitem__(self, i):\n",
    "        (batch_image_ids,\n",
    "         in_img,\n",
    "         mask,\n",
    "         loss_weights,\n",
    "         boxes_aug) = prepare_batch([self.all_image_ids[i]],\n",
    "                                    self.augmenter)\n",
    "        boxes_aug_str = pickle.dumps(boxes_aug[0])\n",
    "        return (batch_image_ids,\n",
    "                in_img[0],\n",
    "                mask[0],\n",
    "                loss_weights[0],\n",
    "                boxes_aug_str)\n",
    "\n",
    "\n",
    "def check_image_functor(img, augmenter):\n",
    "    try:\n",
    "        prepare_batch([img], augmenter)\n",
    "        return True, img\n",
    "    except:\n",
    "        return False, img\n",
    "\n",
    "\n",
    "def leave_only_valid_samples(image_ids, augmenter, n_jobs=-1):\n",
    "    valid = []\n",
    "    errors = []\n",
    "    for is_valid, img in joblib.Parallel(n_jobs=n_jobs)(joblib.delayed(check_image_functor)(img, augmenter)\n",
    "                                                        for img in image_ids):\n",
    "        if is_valid:\n",
    "            valid.append(img)\n",
    "        else:\n",
    "            errors.append(img)\n",
    "    return valid, errors\n",
    "\n",
    "\n",
    "imgaug_pipeline = iaa.Sequential([\n",
    "#     iaa.Fliplr(0.5),\n",
    "#     iaa.Flipud(0.5),\n",
    "#     iaa.Affine(rotate=iap.DiscreteUniform(0, 3) * 90, cval=(0, 0, 255)),\n",
    "    iaa.GaussianBlur(sigma=(0.0, 2.0)),\n",
    "#     iaa.CropAndPad(px=20, pad_cval=255),\n",
    "#     iaa.CropAndPad(percent=(-0.20, 0.20), pad_cval=255),\n",
    "])\n",
    "\n",
    "fake_imgaug_pipeline = iaa.Sequential([])"
   ]
  },
  {
   "cell_type": "markdown",
   "metadata": {},
   "source": [
    "### Table detection"
   ]
  },
  {
   "cell_type": "code",
   "execution_count": 4,
   "metadata": {
    "ExecuteTime": {
     "end_time": "2017-12-18T15:30:08.383388Z",
     "start_time": "2017-12-18T15:30:08.318346Z"
    }
   },
   "outputs": [],
   "source": [
    "DET_SRC_DIR = './data/arxiv/inout_pairs/'\n",
    "all_det_image_ids = [fname[:-9]\n",
    "                     for fname in glob.glob(os.path.join(DET_SRC_DIR, '*_out.json'))]\n",
    "random.shuffle(all_det_image_ids)"
   ]
  },
  {
   "cell_type": "code",
   "execution_count": 5,
   "metadata": {
    "ExecuteTime": {
     "end_time": "2017-12-18T15:30:19.107906Z",
     "start_time": "2017-12-18T15:30:08.385687Z"
    }
   },
   "outputs": [],
   "source": [
    "all_det_image_ids, strange_det_images = leave_only_valid_samples(all_det_image_ids, fake_imgaug_pipeline)\n",
    "TOTAL_DET_SAMPLES = len(all_det_image_ids)\n",
    "TRAIN_DET_SAMPLES = int(TOTAL_DET_SAMPLES * 0.8)\n",
    "VAL_DET_SAMPLES = TOTAL_DET_SAMPLES - TRAIN_DET_SAMPLES\n",
    "train_det_image_ids = all_det_image_ids[:TRAIN_DET_SAMPLES]\n",
    "val_det_image_ids = all_det_image_ids[TRAIN_DET_SAMPLES:]"
   ]
  },
  {
   "cell_type": "markdown",
   "metadata": {},
   "source": [
    "### Internal table structure segmentation"
   ]
  },
  {
   "cell_type": "code",
   "execution_count": 6,
   "metadata": {
    "ExecuteTime": {
     "end_time": "2017-12-18T15:30:19.202068Z",
     "start_time": "2017-12-18T15:30:19.110053Z"
    }
   },
   "outputs": [
    {
     "data": {
      "text/plain": [
       "3000"
      ]
     },
     "execution_count": 6,
     "metadata": {},
     "output_type": "execute_result"
    }
   ],
   "source": [
    "INT_SRC_DIR = './data/generated/complex_clean/src/'\n",
    "all_int_image_ids = [fname[:-9]\n",
    "                     for fname in glob.glob(os.path.join(INT_SRC_DIR, '*_out.json'))]\n",
    "random.shuffle(all_int_image_ids)\n",
    "len(all_int_image_ids)"
   ]
  },
  {
   "cell_type": "code",
   "execution_count": 7,
   "metadata": {
    "ExecuteTime": {
     "end_time": "2017-12-18T15:30:52.443499Z",
     "start_time": "2017-12-18T15:30:19.204501Z"
    }
   },
   "outputs": [
    {
     "name": "stdout",
     "output_type": "stream",
     "text": [
      "2980 20\n"
     ]
    }
   ],
   "source": [
    "all_int_image_ids, strange_int_images = leave_only_valid_samples(all_int_image_ids, fake_imgaug_pipeline)\n",
    "print(len(all_int_image_ids), len(strange_int_images))\n",
    "TOTAL_INT_SAMPLES = len(all_int_image_ids)\n",
    "TRAIN_INT_SAMPLES = int(TOTAL_INT_SAMPLES * 0.8)\n",
    "VAL_INT_SAMPLES = TOTAL_INT_SAMPLES - TRAIN_INT_SAMPLES\n",
    "train_int_image_ids = all_int_image_ids[:TRAIN_INT_SAMPLES]\n",
    "val_int_image_ids = all_int_image_ids[TRAIN_INT_SAMPLES:]"
   ]
  },
  {
   "cell_type": "markdown",
   "metadata": {},
   "source": [
    "### Generators playground"
   ]
  },
  {
   "cell_type": "code",
   "execution_count": 8,
   "metadata": {
    "ExecuteTime": {
     "end_time": "2017-12-18T15:30:53.276439Z",
     "start_time": "2017-12-18T15:30:52.448587Z"
    },
    "scrolled": true
   },
   "outputs": [],
   "source": [
    "qq = prepare_batch(train_int_image_ids[:10], imgaug_pipeline)"
   ]
  },
  {
   "cell_type": "code",
   "execution_count": 9,
   "metadata": {
    "ExecuteTime": {
     "end_time": "2017-12-18T15:30:53.321978Z",
     "start_time": "2017-12-18T15:30:53.278246Z"
    }
   },
   "outputs": [
    {
     "data": {
      "image/png": "[encoded data removed]",
      "text/plain": [
       "<PIL.Image.Image image mode=L size=800x400 at 0x7F31BC80F400>"
      ]
     },
     "execution_count": 9,
     "metadata": {},
     "output_type": "execute_result"
    }
   ],
   "source": [
    "arr_to_img(qq[1][9][0])"
   ]
  },
  {
   "cell_type": "code",
   "execution_count": 10,
   "metadata": {
    "ExecuteTime": {
     "end_time": "2017-12-18T15:30:53.400495Z",
     "start_time": "2017-12-18T15:30:53.328831Z"
    }
   },
   "outputs": [
    {
     "data": {
      "image/png": "[encoded data removed]",
      "text/plain": [
       "<PIL.Image.Image image mode=RGB size=800x400 at 0x7F31BC80F518>"
      ]
     },
     "execution_count": 10,
     "metadata": {},
     "output_type": "execute_result"
    }
   ],
   "source": [
    "arr_to_img(mask_to_img(qq[2][9]))"
   ]
  },
  {
   "cell_type": "markdown",
   "metadata": {},
   "source": [
    "### Compare data generators"
   ]
  },
  {
   "cell_type": "code",
   "execution_count": 11,
   "metadata": {
    "ExecuteTime": {
     "end_time": "2017-12-18T15:30:53.427073Z",
     "start_time": "2017-12-18T15:30:53.402341Z"
    }
   },
   "outputs": [],
   "source": [
    "# train_gen_mt = DataLoader(SegmDataset(train_image_ids, imgaug_pipeline),\n",
    "#                           batch_size=8,\n",
    "#                           shuffle=True,\n",
    "#                           num_workers=4)\n",
    "# train_gen_mt_iter = iter(train_gen_mt)\n",
    "# _ = next(train_gen_mt_iter)"
   ]
  },
  {
   "cell_type": "code",
   "execution_count": 12,
   "metadata": {
    "ExecuteTime": {
     "end_time": "2017-12-18T15:30:53.473008Z",
     "start_time": "2017-12-18T15:30:53.428881Z"
    }
   },
   "outputs": [],
   "source": [
    "# %%prun\n",
    "# for _ in range(10):\n",
    "#     next(train_gen_mt_iter)"
   ]
  },
  {
   "cell_type": "code",
   "execution_count": 13,
   "metadata": {
    "ExecuteTime": {
     "end_time": "2017-12-18T15:30:53.506366Z",
     "start_time": "2017-12-18T15:30:53.476777Z"
    }
   },
   "outputs": [],
   "source": [
    "# train_gen_st = data_gen(train_image_ids, imgaug_pipeline, batch_size=8)\n",
    "# train_gen_st_iter = iter(train_gen_st)\n",
    "# _ = next(train_gen_st_iter)"
   ]
  },
  {
   "cell_type": "code",
   "execution_count": 14,
   "metadata": {
    "ExecuteTime": {
     "end_time": "2017-12-18T15:30:53.567767Z",
     "start_time": "2017-12-18T15:30:53.512793Z"
    }
   },
   "outputs": [],
   "source": [
    "# %%prun\n",
    "# for _ in range(10):\n",
    "#     next(train_gen_st_iter)"
   ]
  },
  {
   "cell_type": "markdown",
   "metadata": {},
   "source": [
    "## Define losses and metrics"
   ]
  },
  {
   "cell_type": "markdown",
   "metadata": {},
   "source": [
    "### Discrete"
   ]
  },
  {
   "cell_type": "code",
   "execution_count": 15,
   "metadata": {
    "ExecuteTime": {
     "end_time": "2017-12-18T15:30:54.210519Z",
     "start_time": "2017-12-18T15:30:53.575313Z"
    }
   },
   "outputs": [],
   "source": [
    "def get_all_boxes(mask, min_area=100, min_size=(10, 10), threshold=0.5):\n",
    "# def get_all_boxes(mask, min_area=0, min_size=(0, 0), threshold=0.5):\n",
    "    result = []\n",
    "    contours = cv2.findContours((mask > threshold).astype('uint8'),\n",
    "                                cv2.RETR_LIST,\n",
    "                                cv2.CHAIN_APPROX_SIMPLE)[1]\n",
    "    for cnt in contours:\n",
    "        if cv2.contourArea(cnt) < min_area:\n",
    "            continue\n",
    "        x, y, w, h = cv2.boundingRect(cnt)\n",
    "        if h < min_size[0] or w < min_size[1]:\n",
    "            continue\n",
    "        result.append((y, x, y+h, x+w))\n",
    "    result.sort()\n",
    "    return result\n",
    "\n",
    "\n",
    "def get_boxes_by_channel(pred):\n",
    "    pred_boxes = collections.defaultdict(list)\n",
    "    pred_boxes[1] = get_all_boxes(pred[1])\n",
    "    pred_body = get_biggest_box(pred_boxes[1])\n",
    "    for ch in range(2, TOTAL_CLASSES):\n",
    "        cand_boxes = get_all_boxes(pred[ch])\n",
    "        cand_idx = filter_by_intersection(pred_body, cand_boxes)\n",
    "        pred_boxes[ch] = [cand_boxes[i] for i in cand_idx]\n",
    "    return pred_boxes\n",
    "\n",
    "\n",
    "def calc_dice(box, other):\n",
    "    return 2 * box_inter_area(box, other) / (box_area(box) + box_area(other))\n",
    "\n",
    "\n",
    "def calc_inter_over_other_area(box, other):\n",
    "    return box_inter_area(box, other) / box_area(other)\n",
    "\n",
    "\n",
    "def find_closest_box(box, others, min_overlap=0.8, calc_overlap=calc_dice):\n",
    "    best_overlap = 0\n",
    "    best_idx = None\n",
    "    for i, other in enumerate(others):\n",
    "        overlap = calc_overlap(box, other)\n",
    "        if overlap > best_overlap:\n",
    "            best_idx = i\n",
    "            best_overlap = overlap\n",
    "    return best_idx\n",
    "\n",
    "\n",
    "def classify_boxes(pred_boxes, gold_boxes, strictness=0.8, calc_overlap=calc_dice):\n",
    "    true_positive = []\n",
    "    false_positive = []\n",
    "\n",
    "    found_gold = set()\n",
    "    pred_i_to_gold_i = {}\n",
    "    for i, box in enumerate(pred_boxes):\n",
    "        closest_gold_i = find_closest_box(box, gold_boxes, min_overlap=strictness, calc_overlap=calc_overlap)\n",
    "        if not closest_gold_i is None:\n",
    "            pred_i_to_gold_i[i] = closest_gold_i\n",
    "            true_positive.append(i)\n",
    "            found_gold.add(closest_gold_i)\n",
    "        else:\n",
    "            false_positive.append(i)\n",
    "\n",
    "    false_negative = set(range(len(gold_boxes))) - found_gold\n",
    "    return (true_positive, false_positive, false_negative, pred_i_to_gold_i)\n",
    "\n",
    "\n",
    "def calc_precision(tp, fp, fn):\n",
    "    denom = float(tp + fp)\n",
    "    return (tp / denom) if denom > 1e-4 else 0\n",
    "\n",
    "\n",
    "def calc_recall(tp, fp, fn):\n",
    "    denom = float(tp + fn)\n",
    "    return (tp / denom) if denom > 1e-4 else 0\n",
    "\n",
    "\n",
    "def calc_metric_over_boxes(pred_boxes, gold_boxes, metric, strictness=0.8, calc_overlap=calc_dice):\n",
    "    result = []\n",
    "    for ch in range(len(gold_boxes)):\n",
    "        tp, fp, fn, _ = classify_boxes(pred_boxes.get(ch, []),\n",
    "                                       gold_boxes.get(ch, []),\n",
    "                                       strictness=strictness,\n",
    "                                       calc_overlap=calc_overlap)\n",
    "        tp, fp, fn = len(tp), len(fp), len(fn)\n",
    "        result.append(metric(tp, fp, fn))\n",
    "    return result\n",
    "\n",
    "\n",
    "def box_match_single_image(pred, gold_boxes, metric, strictness=0.8, calc_overlap=calc_dice):\n",
    "    pred_boxes = get_boxes_by_channel(pred)\n",
    "    return calc_metric_over_boxes(pred_boxes,\n",
    "                                  gold_boxes,\n",
    "                                  metric,\n",
    "                                  strictness=strictness,\n",
    "                                  calc_overlap=calc_overlap)\n",
    "\n",
    "\n",
    "def box_match_batch(pred, gold_boxes, metric, strictness=0.8, calc_overlap=calc_dice):\n",
    "    if not isinstance(pred, numpy.ndarray):\n",
    "        pred = pred.data.cpu().numpy()\n",
    "    image_metrics = [box_match_single_image(pred[i],\n",
    "                                            gold_boxes[i],\n",
    "                                            metric,\n",
    "                                            strictness=strictness,\n",
    "                                            calc_overlap=calc_overlap)\n",
    "                     for i in range(pred.shape[0])]\n",
    "    return numpy.array(image_metrics).mean(0)\n",
    "\n",
    "\n",
    "def box_match_precision(pred, target, gold_boxes, strictness=0.95):\n",
    "    return box_match_batch(pred, gold_boxes, calc_precision,\n",
    "                           strictness=strictness,\n",
    "                           calc_overlap=calc_dice)\n",
    "\n",
    "\n",
    "def box_match_recall(pred, target, gold_boxes, strictness=0.95):\n",
    "    return box_match_batch(pred, gold_boxes, calc_recall,\n",
    "                           strictness=strictness,\n",
    "                           calc_overlap=calc_inter_over_other_area)\n",
    "\n",
    "# box_match_precision(numpy.tile(numpy.array([[[[1, 1, 1, 1], [1, 1, 1, 1]]]]), (1, 5, 1, 1)),\n",
    "#                     None,\n",
    "#                     [{2 : [[0, 0, 2, 4]]}])"
   ]
  },
  {
   "cell_type": "markdown",
   "metadata": {},
   "source": [
    "### Table level"
   ]
  },
  {
   "cell_type": "code",
   "execution_count": 16,
   "metadata": {
    "ExecuteTime": {
     "end_time": "2017-12-18T15:30:54.869101Z",
     "start_time": "2017-12-18T15:30:54.216664Z"
    }
   },
   "outputs": [],
   "source": [
    "def flatten_cell_dependencies(grid):\n",
    "    full_deps = { i : set(itertools.chain.from_iterable(neighbors.values()))\n",
    "                 for i, neighbors in enumerate(grid) }\n",
    "    for cell_i, neigbors in full_deps.items():\n",
    "        neighs_to_remove = set()\n",
    "        for neigh in neigbors:\n",
    "            if cell_i in full_deps[neigh]:\n",
    "                neighs_to_remove.add(neigh)\n",
    "        neigbors -= neighs_to_remove\n",
    "    return full_deps\n",
    "        \n",
    "\n",
    "NO_GRID = (None, (), (), (), {})\n",
    "def table_grid_from_intracell_mask(mask):\n",
    "    body_candidates = get_all_boxes(mask[0])\n",
    "    if len(body_candidates) == 0:\n",
    "        return NO_GRID\n",
    "    body = get_biggest_box(body_candidates)\n",
    "    cells = get_all_boxes(mask[1])\n",
    "    if len(cells) == 0:\n",
    "        return NO_GRID\n",
    "    cells = [cells[i] for i in filter_by_intersection(body, cells)]\n",
    "    grid = make_grid(cells)\n",
    "    full_deps = flatten_cell_dependencies(grid)\n",
    "    cell_idx = list(full_deps.keys()) # toposort.toposort_flatten(full_deps)\n",
    "    intracell_relations = {}\n",
    "    for cur_cell_i in cell_idx:\n",
    "        cur_cell = cells[cur_cell_i]\n",
    "        for direction, dir_neighbors in grid[cur_cell_i].items():\n",
    "            for neigh_cell_i in dir_neighbors:\n",
    "                intracell_relations[(cur_cell_i, neigh_cell_i)] = direction\n",
    "    return (body, cells, grid, cell_idx, intracell_relations)\n",
    "\n",
    "\n",
    "def reconstruct_table_from_grid(body, cells, grid, cell_idx, intracell_space_classes):\n",
    "    cell2row = collections.defaultdict(set)\n",
    "    cell2col = collections.defaultdict(set)\n",
    "\n",
    "    for cur_cell_i in cell_idx:\n",
    "        cur_cell = cells[cur_cell_i]\n",
    "        lower_neighbors = grid[cur_cell_i]['lower']\n",
    "        if len(lower_neighbors) == 0:\n",
    "            cell2col[cur_cell_i] = { len(cell2col) }\n",
    "        right_neighbors = grid[cur_cell_i]['right']\n",
    "        if len(right_neighbors) == 0:\n",
    "            cell2row[cur_cell_i] = { len(cell2row) }\n",
    "\n",
    "        for neigh_cell_i in lower_neighbors + right_neighbors:\n",
    "            intracell_cls_proba = intracell_space_classes[(cur_cell_i, neigh_cell_i)]\n",
    "            if intracell_cls_proba[0] > 0.5:\n",
    "                cell2row[cur_cell_i].update(cell2row[neigh_cell_i])\n",
    "            elif intracell_cls_proba[1] > 0.5:\n",
    "                cell2col[cur_cell_i].update(cell2col[neigh_cell_i])\n",
    "            else:\n",
    "                pass # they are not linked\n",
    "\n",
    "    rows = collections.defaultdict(set)\n",
    "    for cell_i, cell_rows_idx in cell2row.items():\n",
    "        for row_i in cell_rows_idx:\n",
    "            rows[row_i].add(cell_i)\n",
    "\n",
    "    cols = collections.defaultdict(set)\n",
    "    for cell_i, cell_cols_idx in cell2col.items():\n",
    "        for col_i in cell_cols_idx:\n",
    "            cols[col_i].add(cell_i)\n",
    "\n",
    "    row_boxes = [just_box_union([cells[i] for i in row_idx])\n",
    "                 for row_idx in rows.values()]\n",
    "    row_boxes.sort(key=lambda b: b[0])\n",
    "\n",
    "    col_boxes = [just_box_union([cells[i] for i in col_idx])\n",
    "                 for col_idx in cols.values()]\n",
    "    col_boxes.sort(key=lambda b: b[1])\n",
    "    return (body,\n",
    "            cells,\n",
    "            row_boxes,\n",
    "            col_boxes)\n",
    "\n",
    "\n",
    "def reconstruct_table_from_intracell_mask(mask, interbox_classifier):\n",
    "    body, cells, grid, cell_idx, intracell_relations = table_grid_from_intracell_mask(mask)\n",
    "    intracell_space_classes = { k : interbox_classifier([mask], [pair])\n",
    "                               for pair in intracell_relations }\n",
    "    return reconstruct_table_from_grid(body, cells, grid, cell_idx, intracell_space_classes)\n",
    "\n",
    "\n",
    "def boxes_by_channel_from_reconstructed_table(mask):\n",
    "    table_info = reconstruct_table_from_intracell_mask(mask)\n",
    "    if table_info is None:\n",
    "        return {}\n",
    "    body, cells, rows, cols = table_info\n",
    "    result = { 1 : [body] }\n",
    "    result[2] = cells\n",
    "    result[3] = rows\n",
    "    result[4] = cols\n",
    "    return result\n",
    "\n",
    "\n",
    "def table_level_metric_single_image(pred, gold_boxes, metric, strictness=0.5):\n",
    "    pred_boxes = boxes_by_channel_from_reconstructed_table(pred)\n",
    "    return calc_metric_over_boxes(pred_boxes, gold_boxes, calc_precision, strictness=strictness)\n",
    "\n",
    "\n",
    "def table_level_metric_by_batch(pred, gold_boxes, metric, strictness=0.5):\n",
    "    if not isinstance(pred, numpy.ndarray):\n",
    "        pred = pred.data.cpu().numpy()\n",
    "    image_metrics = [table_level_metric_single_image(pred[i],\n",
    "                                                     gold_boxes[i],\n",
    "                                                     metric,\n",
    "                                                     strictness=strictness)\n",
    "                     for i in range(pred.shape[0])]\n",
    "    return numpy.array(image_metrics).mean(0)\n",
    "\n",
    "def table_level_precision(pred, target, gold_boxes, strictness=0.5):\n",
    "    return table_level_metric_by_batch(pred, gold_boxes, calc_precision, strictness=strictness)\n",
    "\n",
    "\n",
    "def table_level_recall(pred, target, gold_boxes, strictness=0.5):\n",
    "    return table_level_metric_by_batch(pred, gold_boxes, calc_recall, strictness=strictness)"
   ]
  },
  {
   "cell_type": "markdown",
   "metadata": {},
   "source": [
    "### Fuzzy\n",
    "\n",
    "$Dice(p, t, w) = 1 - \\frac{ p \\cdot t + 1 }{ p + t + 1 }$\n",
    "\n",
    "$WDice(p, t, w) = 1 - \\frac{ p \\cdot t \\cdot w^{-1} + 1 }{ p + t + p \\cdot (1 - t) \\cdot w + 1 }$"
   ]
  },
  {
   "cell_type": "code",
   "execution_count": 17,
   "metadata": {
    "ExecuteTime": {
     "end_time": "2017-12-18T15:30:55.011954Z",
     "start_time": "2017-12-18T15:30:54.872944Z"
    }
   },
   "outputs": [],
   "source": [
    "DICE_SMOOTH = 1.0\n",
    "def dice_coef(pred, target, gold_boxes):\n",
    "    intersection = pred * target\n",
    "    union = pred + target\n",
    "    return ((2. * intersection.sum(3).sum(2).sum(0) + DICE_SMOOTH) /\n",
    "            (union.sum(3).sum(2).sum(0) + DICE_SMOOTH))\n",
    "\n",
    "\n",
    "def px_precision(pred, target, threshold=0.5):\n",
    "    pred = pred >= threshold\n",
    "    target = target >= threshold\n",
    "    tp = (pred * target).float().sum(3).sum(2).sum(0)\n",
    "    fp = ((target - pred) < 0).float().sum(3).sum(2).sum(0)\n",
    "    denum = tp + fp\n",
    "    return tp / (denum + (denum == 0).float())\n",
    "\n",
    "\n",
    "def px_recall(pred, target, threshold=0.5):\n",
    "    pred = pred >= threshold\n",
    "    target = target >= threshold\n",
    "    tp = (pred * target).float().sum(3).sum(2).sum(0)\n",
    "    fn = ((pred - target) < 0).float().sum(3).sum(2).sum(0)\n",
    "    denum = tp + fn\n",
    "    return tp / (denum + (denum == 0).float())\n",
    "\n",
    "\n",
    "def make_single_channel(f, channel):\n",
    "    def _impl(pred, target):\n",
    "        return f(pred[:, channel:channel+1], target[:, channel:channel+1])\n",
    "    return _impl\n",
    "\n",
    "\n",
    "def make_cpu(f):\n",
    "    def _impl(pred, target):\n",
    "        return f(pred.cpu(), target.cpu())\n",
    "    return _impl\n",
    "\n",
    "\n",
    "TRAIN_METRICS = {'d' : (dice_coef, MASK_CHANNELS),\n",
    "#                  'tp' : (table_level_precision, MASK_CHANNELS),\n",
    "#                  'tr' : (table_level_recall, MASK_CHANNELS)\n",
    "                }\n",
    "VAL_METRICS = {'d' : (dice_coef, MASK_CHANNELS),\n",
    "#                'bp' : (box_match_precision, MASK_CHANNELS),\n",
    "#                'br' : (box_match_recall, MASK_CHANNELS)\n",
    "#                'tp' : (table_level_precision, MASK_CHANNELS),\n",
    "#                'tr' : (table_level_recall, MASK_CHANNELS),\n",
    "              }"
   ]
  },
  {
   "cell_type": "markdown",
   "metadata": {},
   "source": [
    "### IID Classification"
   ]
  },
  {
   "cell_type": "code",
   "execution_count": 18,
   "metadata": {
    "ExecuteTime": {
     "end_time": "2017-12-18T15:30:55.150618Z",
     "start_time": "2017-12-18T15:30:55.018597Z"
    }
   },
   "outputs": [],
   "source": [
    "def prepare_metric_data_by_columns(pred, target):\n",
    "    pred = (pred.data.cpu().numpy() > 0.5).astype('int')\n",
    "    target = (target.data.cpu().numpy() > 0.5).astype('int')\n",
    "    tp = numpy.array([(pred[:, col] == target[:, col]).sum()\n",
    "                      for col in range(pred.shape[1])]).astype('float32')\n",
    "    fp = numpy.array([((pred[:, col] - target[:, col]) > 0).sum()\n",
    "                      for col in range(pred.shape[1])]).astype('float32')\n",
    "    fn = numpy.array([((target[:, col] - pred[:, col]) > 0).sum()\n",
    "                      for col in range(pred.shape[1])]).astype('float32')\n",
    "    return tp, fp, fn\n",
    "\n",
    "\n",
    "def precision_by_col(pred, target):\n",
    "    tp, fp, fn = prepare_metric_data_by_columns(pred, target)\n",
    "    return numpy.nan_to_num(tp / (tp + fp))\n",
    "\n",
    "\n",
    "def recall_by_col(pred, target):\n",
    "    tp, fp, fn = prepare_metric_data_by_columns(pred, target)\n",
    "    return numpy.nan_to_num(tp / (tp + fn))\n",
    "\n",
    "\n",
    "def f1_by_col(pred, target):\n",
    "    tp, fp, fn = prepare_metric_data_by_columns(pred, target)\n",
    "    p = tp / (tp + fp)\n",
    "    r = tp / (tp + fn)\n",
    "    return numpy.nan_to_num(2 * p * r / (p + r))\n",
    "\n",
    "\n",
    "CELL_CLASSES = ('same_row', 'same_col')\n",
    "CELL_TRAIN_METRICS = {'f1' : (f1_by_col, CELL_CLASSES),\n",
    "                      'p' : (precision_by_col, CELL_CLASSES),\n",
    "                      'r' : (recall_by_col, CELL_CLASSES) }\n",
    "CELL_VAL_METRICS = {'f1' : (f1_by_col, CELL_CLASSES),\n",
    "                    'p' : (precision_by_col, CELL_CLASSES),\n",
    "                    'r' : (recall_by_col, CELL_CLASSES) }"
   ]
  },
  {
   "cell_type": "markdown",
   "metadata": {},
   "source": [
    "### Losses"
   ]
  },
  {
   "cell_type": "code",
   "execution_count": 19,
   "metadata": {
    "ExecuteTime": {
     "end_time": "2017-12-18T15:30:55.227363Z",
     "start_time": "2017-12-18T15:30:55.157533Z"
    }
   },
   "outputs": [],
   "source": [
    "def dice_loss(pred, target, weights):\n",
    "    intersection = pred * target\n",
    "    union = pred + target\n",
    "    return 1 - ((2. * intersection.sum() + DICE_SMOOTH) /\n",
    "                (union.sum() + DICE_SMOOTH))\n",
    "\n",
    "\n",
    "def weighted_dice_loss(pred, target, weights):\n",
    "    # the idea is to lower actual intersection in important areas\n",
    "    inv_weights = 1 / weights\n",
    "    intersection = pred * inv_weights * target\n",
    "    \n",
    "    # the idea is to increase actual predicted values\n",
    "    # where they have to be zero\n",
    "    inv_target = 1 - target\n",
    "    inv_intersection = pred * inv_target * weights\n",
    "    union = pred + target + inv_intersection\n",
    "\n",
    "    return 1 - ((2. * intersection.sum() + DICE_SMOOTH) /\n",
    "                (union.sum() + DICE_SMOOTH))\n",
    "\n",
    "\n",
    "def dice_bce_loss(pred, target, weights):\n",
    "    return dice_loss(pred, target, weights) + F.binary_cross_entropy(pred, target, weights)"
   ]
  },
  {
   "cell_type": "markdown",
   "metadata": {},
   "source": [
    "## Define a network"
   ]
  },
  {
   "cell_type": "markdown",
   "metadata": {},
   "source": [
    "### Basic"
   ]
  },
  {
   "cell_type": "code",
   "execution_count": 20,
   "metadata": {
    "ExecuteTime": {
     "end_time": "2017-12-18T15:30:56.794587Z",
     "start_time": "2017-12-18T15:30:55.230440Z"
    }
   },
   "outputs": [],
   "source": [
    "def mcuda(x, cuda):\n",
    "    return x.cuda() if cuda else x\n",
    "\n",
    "\n",
    "def npten(arr, cuda):\n",
    "    return mcuda(torch.from_numpy(arr), cuda)\n",
    "\n",
    "\n",
    "def npvar(arr, cuda):\n",
    "    if not torch.is_tensor(arr):\n",
    "        arr = torch.from_numpy(arr)\n",
    "    return mcuda(Variable(arr), cuda)\n",
    "\n",
    "\n",
    "def is_module_on_cuda(m):\n",
    "    return next(m.parameters()).is_cuda\n",
    "\n",
    "\n",
    "class LocalAttention(nn.Module):\n",
    "    def __init__(self, in_channels):\n",
    "        super(LocalAttention, self).__init__()\n",
    "        self.att = nn.Conv2d(in_channels, 1, (1, 1))\n",
    "\n",
    "    def forward(self, x):\n",
    "        unnorm = self.att(x)\n",
    "        norm = F.softmax(unnorm.view(unnorm.size()[0], -1)).view(*unnorm.size())\n",
    "        return x * norm\n",
    "\n",
    "\n",
    "def masked_average(x, masks):\n",
    "    return (x * masks).mean(3).mean(2)\n",
    "\n",
    "\n",
    "class ConvBlock(nn.Module):\n",
    "    def __init__(self, in_channels, out_channels, kernel_size, dilations=[1], bn=True):\n",
    "        super(ConvBlock, self).__init__()\n",
    "        self.bn = nn.BatchNorm2d(in_channels)\n",
    "        assert out_channels % len(dilations) == 0\n",
    "        channels_per_dilation = out_channels // len(dilations)\n",
    "        self.convs = nn.ModuleList([nn.Conv2d(in_channels,\n",
    "                                              channels_per_dilation,\n",
    "                                              kernel_size,\n",
    "                                              padding=dil,\n",
    "                                              dilation=dil)\n",
    "                                    for dil in dilations])\n",
    "\n",
    "    def forward(self, x):\n",
    "        x = self.bn(x)\n",
    "        return F.relu(torch.cat([conv(x) for conv in self.convs], dim=1))\n",
    "\n",
    "    @property\n",
    "    def receptive_field(self):\n",
    "        dils = numpy.array([c.dilation for c in self.convs])\n",
    "        kernels = numpy.array([c.kernel_size for c in self.convs])\n",
    "        kernels_odd = kernels % 2\n",
    "        return (dils * (kernels - 1) + kernels_odd).max(axis=0)\n",
    "\n",
    "\n",
    "class UNet(nn.Module):\n",
    "    def __init__(self, out_channels=TOTAL_CLASSES, first_conv_channels=4, depth=2, out_layers=1, conv_kernel=(3, 3),\n",
    "                 enc_dilations=[1], dec_dilations=[1]):\n",
    "        super(UNet, self).__init__()\n",
    "        self.out_channels = out_channels\n",
    "        enc_channels = [1] + [first_conv_channels * (2**step) for step in range(depth)]\n",
    "        self.encoder = nn.ModuleList([ConvBlock(enc_channels[i],\n",
    "                                                enc_channels[i+1],\n",
    "                                                conv_kernel,\n",
    "                                                dilations=enc_dilations)\n",
    "                                      for i in range(depth)])\n",
    "        bottleneck_channels = enc_channels[-1] * 2\n",
    "        self.bottleneck = ConvBlock(enc_channels[-1],\n",
    "                                    bottleneck_channels,\n",
    "                                    conv_kernel,\n",
    "                                    dilations=enc_dilations)\n",
    "        dec_channels = [bottleneck_channels] + enc_channels[:0:-1]\n",
    "        self.dec_conv = nn.ModuleList([ConvBlock(dec_channels[i],\n",
    "                                                 dec_channels[i+1],\n",
    "                                                 conv_kernel,\n",
    "                                                 dilations=dec_dilations)\n",
    "                                      for i in range(depth)])\n",
    "        self.dec_deconv = nn.ModuleList([nn.ConvTranspose2d(dec_channels[i],\n",
    "                                                            dec_channels[i+1],\n",
    "                                                            (2, 2),\n",
    "                                                            stride=2)\n",
    "                                         for i in range(depth)])\n",
    "        self.out_layers = nn.ModuleList([ConvBlock(dec_channels[-1],\n",
    "                                                   dec_channels[-1],\n",
    "                                                   conv_kernel,\n",
    "                                                   dilations=dec_dilations)])\n",
    "        self.out_conv = nn.Conv2d(dec_channels[-1],\n",
    "                                  out_channels,\n",
    "                                  (1, 1))\n",
    "\n",
    "    def forward(self, x):\n",
    "        enc_conv_outs = []\n",
    "        enc_pool_outs = [x]\n",
    "        for enc_conv in self.encoder:\n",
    "            cur_conv_out = enc_conv(enc_pool_outs[-1])\n",
    "            enc_conv_outs.append(cur_conv_out)\n",
    "            cur_pool_out = F.max_pool2d(cur_conv_out, (2, 2))\n",
    "            enc_pool_outs.append(cur_pool_out)\n",
    "\n",
    "        cur_out = self.bottleneck(enc_pool_outs[-1])\n",
    "\n",
    "        for dec_step, (dec_conv, dec_deconv) in enumerate(zip(self.dec_conv, self.dec_deconv)):\n",
    "            up = dec_deconv(cur_out)\n",
    "            cur_out = torch.cat([up, enc_conv_outs[-dec_step-1]], dim=1)\n",
    "            cur_out = dec_conv(cur_out)\n",
    "\n",
    "        for out_layer in self.out_layers:\n",
    "            cur_out = F.relu(out_layer(cur_out))\n",
    "\n",
    "        return F.sigmoid(self.out_conv(cur_out))\n",
    "\n",
    "\n",
    "class DenseNetWrapper(nn.Module):\n",
    "    def __init__(self, *blocks):\n",
    "        super(DenseNetWrapper, self).__init__()\n",
    "        self.blocks = nn.ModuleList(blocks)\n",
    "\n",
    "    def forward(self, x):\n",
    "        last_out = x\n",
    "        for block in self.blocks:\n",
    "            last_out = block(x)\n",
    "            x = torch.cat([x, last_out], 1)\n",
    "        return last_out\n",
    "\n",
    "\n",
    "class DenseStack(nn.Module):\n",
    "    def __init__(self, *blocks):\n",
    "        super(DenseStack, self).__init__()\n",
    "        self.blocks = nn.ModuleList(blocks)\n",
    "\n",
    "    def forward(self, x):\n",
    "        outs = []\n",
    "        for block in self.blocks:\n",
    "            last_out = block(x)\n",
    "            outs.append(last_out)\n",
    "            x = torch.cat([x, last_out], 1)\n",
    "        return torch.cat([t.unsqueeze(0) for t in outs]).mean(0)\n",
    "\n",
    "\n",
    "class StackedUNet1(DenseStack):\n",
    "    def __init__(self):\n",
    "        super(StackedUNet2, self).__init__(\n",
    "            UNet(first_conv_channels=6,\n",
    "                 depth=4,\n",
    "                 enc_dilations=[1, 2, 4, 8, 16, 32]),\n",
    "            ConvBlock(TOTAL_CLASSES+1,\n",
    "                      TOTAL_CLASSES,\n",
    "                      (3, 3),\n",
    "                      dilations=[1, 2, 4, 8, 16])\n",
    "        )\n",
    "\n",
    "\n",
    "def run_network(network, generator, num_batches, criterion=dice_bce_loss, optimizer=None, metrics=TRAIN_METRICS, cuda=True):\n",
    "    metric_values = []\n",
    "    gen_iter = iter(generator)\n",
    "    for _ in tqdm.tqdm(range(num_batches)):\n",
    "        image_ids, images, mask, loss_weights, boxes = next(gen_iter)\n",
    "        images_var = npvar(images, cuda)\n",
    "        mask_var = npvar(mask, cuda)\n",
    "        loss_weights_var = npvar(loss_weights, cuda)\n",
    "        boxes = [pickle.loads(b) for b in boxes]\n",
    "\n",
    "        cur_out = network(images_var)\n",
    "\n",
    "        loss = criterion(cur_out, mask_var, loss_weights_var)\n",
    "\n",
    "        if optimizer:\n",
    "            optimizer.zero_grad()\n",
    "            loss.backward()\n",
    "            nn.utils.clip_grad_norm(network.parameters(), 10)\n",
    "            optimizer.step()\n",
    "\n",
    "        cur_metrics = { 'loss' : loss.data[0] }\n",
    "        for name, (func, elem_names) in metrics.items():\n",
    "            metric_value = func(cur_out, mask_var, boxes)\n",
    "            if not isinstance(metric_value, (list, numpy.ndarray)):\n",
    "                metric_value = metric_value.cpu().data.numpy()\n",
    "            cur_metrics.update(('\\n'.join((name, n)), v) for n, v in zip(elem_names, metric_value) if n)\n",
    "        metric_values.append(cur_metrics)\n",
    "    return metric_values"
   ]
  },
  {
   "cell_type": "markdown",
   "metadata": {},
   "source": [
    "### Structured End-to-End"
   ]
  },
  {
   "cell_type": "code",
   "execution_count": 21,
   "metadata": {
    "ExecuteTime": {
     "end_time": "2017-12-18T15:30:58.710405Z",
     "start_time": "2017-12-18T15:30:56.801852Z"
    }
   },
   "outputs": [],
   "source": [
    "def bbox_shift(box, y, x):\n",
    "    y1, x1, y2, x2 = box\n",
    "    return (y1 + y, x1 + x, y2 + y, x2 + x)\n",
    "\n",
    "\n",
    "class ConvFCNClassifier(nn.Module):\n",
    "    def __init__(self, in_channels, out_channels, conv_layers=1, conv_kernel=(3, 3), dilations=[1, 2, 4], conv_block_class=ConvBlock):\n",
    "        super(ConvFCNClassifier, self).__init__()\n",
    "        conv_channels = [in_channels] + [len(dilations) * (2 ** (i + 1)) for i in range(conv_layers)]\n",
    "        self.convs = nn.ModuleList([conv_block_class(conv_channels[i],\n",
    "                                                     conv_channels[i+1],\n",
    "                                                     conv_kernel,\n",
    "                                                     dilations=dilations)\n",
    "                                    for i in range(conv_layers)])\n",
    "        self.attention = LocalAttention(conv_channels[-1])\n",
    "        self.output = nn.Linear(conv_channels[-1], out_channels)\n",
    "\n",
    "    def forward(self, x):\n",
    "        for conv in self.convs:\n",
    "            x = conv(x)\n",
    "        x = self.attention(x).mean(-1).mean(-1)\n",
    "        return F.sigmoid(self.output(x))\n",
    "\n",
    "    @property\n",
    "    def receptive_field(self):\n",
    "        conv_fields = [c.receptive_field for c in self.convs]\n",
    "        result = conv_fields[0]\n",
    "        for i in range(1, len(conv_fields)):\n",
    "            result += numpy.clip(conv_fields[i] // 2, 1, None)\n",
    "        return result\n",
    "\n",
    "\n",
    "class CellRelConvFCNClassifier(nn.Module):\n",
    "    def __init__(self, base_classifier):\n",
    "        super(CellRelConvAttention, self).__init__()\n",
    "        self.base_classifier = base_classifier\n",
    "\n",
    "    def forward(self, table_masks, relations_by_image):\n",
    "        out = self.make_batch(table_masks, relations_by_image)\n",
    "        if out is None:\n",
    "            return mcuda(Variable(torch.DoubleTensor()), table_masks.data.is_cuda)\n",
    "        return self.base_classifier(out)\n",
    "\n",
    "    @staticmethod\n",
    "    def make_batch(table_masks, relations_by_image):\n",
    "        assert table_masks.size()[0] == len(relations_by_image)\n",
    "        samples_num = sum(len(img_rels) for img_rels in relations_by_image)\n",
    "        if samples_num == 0:\n",
    "            return None\n",
    "\n",
    "        rel_boxes = [get_intercell_line_bbox(cell1, cell2, direction)\n",
    "                     for img_rels in relations_by_image\n",
    "                     for (cell1, cell2, direction) in img_rels]\n",
    "        max_rel_width = max(x2 - x1 for _, x1, _, x2 in rel_boxes) + 1\n",
    "        max_rel_height = max(y2 - y1 for y1, _, y2, _ in rel_boxes) + 1\n",
    "\n",
    "        table_masks_for_samples = npvar(numpy.zeros((len(rel_boxes),\n",
    "                                                     table_masks.size()[1],\n",
    "                                                     max_rel_height,\n",
    "                                                     max_rel_width),\n",
    "                                                    dtype='float32'),\n",
    "                                        table_masks.data.is_cuda)\n",
    "        relation_masks_for_samples = numpy.zeros((table_masks_for_samples.size()[0],\n",
    "                                                  max_rel_height,\n",
    "                                                  max_rel_width),\n",
    "                                                 dtype='float32')\n",
    "        sample_i = 0\n",
    "        for img_i, img_rels in enumerate(relations_by_image):\n",
    "            for cell1, cell2, direction in img_rels:\n",
    "                by1, bx1, by2, bx2 = rel_boxes[sample_i]\n",
    "                cur_table_mask = table_masks[img_i, :, by1:by2+1, bx1:bx2+1]\n",
    "                mask_size = cur_table_mask.size()\n",
    "                table_masks_for_samples[sample_i, :, :mask_size[1], :mask_size[2]] = cur_table_mask\n",
    "\n",
    "                draw_intercell_mask(relation_masks_for_samples[sample_i],\n",
    "                                    bbox_shift(cell1, -by1, -bx1),\n",
    "                                    bbox_shift(cell2, -by1, -bx1),\n",
    "                                    direction)\n",
    "                sample_i += 1\n",
    "\n",
    "        out = torch.cat([table_masks_for_samples,\n",
    "                         npvar(relation_masks_for_samples, table_masks.data.is_cuda).unsqueeze(1)],\n",
    "                        dim=1)\n",
    "        return out\n",
    "\n",
    "\n",
    "class CellRelationsClassifier(nn.Module):\n",
    "    def __init__(self, base_classifier, return_grids=False):\n",
    "        super(CellRelationsClassifier, self).__init__()\n",
    "        self.base_classifier = base_classifier\n",
    "        self.return_grids = return_grids\n",
    "\n",
    "    def forward(self, simple_mask):\n",
    "        simple_mask_np = simple_mask.data.cpu().numpy()\n",
    "        grids = list(map(table_grid_from_intracell_mask, simple_mask_np))\n",
    "        intracell_relation_by_image = [[(cells[i1], cells[i2], direction)\n",
    "                                        for (i1, i2), direction in rels.items()]\n",
    "                                       for body, cells, grid, cell_idx, rels in grids]\n",
    "        intracell_classes_flat = self.base_classifier(simple_mask, intracell_relation_by_image)\n",
    "        if self.return_grids:\n",
    "            return intracell_classes_flat, grids\n",
    "        else:\n",
    "            return intracell_classes_flat\n",
    "\n",
    "\n",
    "class TableSegmenter(nn.Module):\n",
    "    def __init__(self):\n",
    "        super(TableSegmenter, self).__init__()\n",
    "        self.unet = UNet(first_conv_channels=12,\n",
    "                         depth=2,\n",
    "                         enc_dilations=[1, 2, 4, 8])\n",
    "        self.intra_cls = CellRelationsClassifier(CellRelConvAttention(self.unet.out_channels, 2, conv_layers=1),\n",
    "                                                 return_grids=True)\n",
    "\n",
    "    def forward(self, x):\n",
    "        simple_mask = self.unet(x)\n",
    "        intracell_classes_flat, grids = self.intra_cls(simple_mask, intracell_relation_by_image)\n",
    "        return simple_mask, grids, intracell_classes_flat\n",
    "\n",
    "\n",
    "STRUCT_SAME_ROWS_I = 0\n",
    "STRUCT_SAME_COLS_I = 1\n",
    "def make_structured_gold_single_image(gold_boxes, grid_info, cell_strictness=0.5):\n",
    "    body, pred_cells, grid, cell_idx, rels = grid_info\n",
    "    gold_cells = gold_boxes[1]\n",
    "    gold_rows = gold_boxes[2]\n",
    "    gold_cols = gold_boxes[3]\n",
    "    gold_cell2rows = group_by_intersection(gold_rows, gold_cells)\n",
    "    gold_cell2cols = group_by_intersection(gold_cols, gold_cells)\n",
    "    \n",
    "    cell_tp, cell_fp, cell_fn, pred_cell_to_gold = classify_boxes(pred_cells,\n",
    "                                                                  gold_cells,\n",
    "                                                                  strictness=cell_strictness)\n",
    "    gold_intracell_classes = numpy.zeros((len(rels), 2),\n",
    "                                         dtype='float32')\n",
    "    for row_i, (pred_i1, pred_i2) in enumerate(rels.keys()):\n",
    "        gold_i1 = pred_cell_to_gold.get(pred_i1, None)\n",
    "        gold_i2 = pred_cell_to_gold.get(pred_i2, None)\n",
    "        if gold_i1 is None or gold_i2 is None:\n",
    "            continue\n",
    "        same_rows = gold_cell2rows[gold_i1] <= gold_cell2rows[gold_i2]\n",
    "        if same_rows:\n",
    "            gold_intracell_classes[row_i, STRUCT_SAME_ROWS_I] = 1\n",
    "        same_cols = gold_cell2cols[gold_i1] <= gold_cell2cols[gold_i2]\n",
    "        if same_cols:\n",
    "            gold_intracell_classes[row_i, STRUCT_SAME_COLS_I] = 1\n",
    "    return gold_intracell_classes\n",
    "\n",
    "\n",
    "def make_structured_gold_batch(gold_boxes_by_image, grid_info_by_image, cell_strictness=0.5):\n",
    "    result = [make_structured_gold_single_image(gold_boxes, grid_info)\n",
    "              for gold_boxes, grid_info in zip(gold_boxes_by_image, grid_info_by_image)]\n",
    "    return numpy.concatenate(result)\n",
    "\n",
    "\n",
    "def run_network_structured(network, generator, num_batches,\n",
    "                           raw_criterion=dice_loss, structured_criterion=F.binary_cross_entropy,\n",
    "                           optimizer=None, metrics=TRAIN_METRICS, cuda=True):\n",
    "    metric_values = []\n",
    "    gen_iter = iter(generator)\n",
    "    for _ in tqdm.tqdm(range(num_batches)):\n",
    "        image_ids, images, mask, loss_weights, boxes = next(gen_iter)\n",
    "        images_var = npvar(images, cuda)\n",
    "        mask_var = npvar(mask, cuda)\n",
    "        loss_weights_var = npvar(loss_weights, cuda)\n",
    "        boxes = [pickle.loads(b) for b in boxes]\n",
    "\n",
    "        cur_out, pred_grids, pred_intracell_classes = network(images_var)\n",
    "\n",
    "        raw_loss = raw_criterion(cur_out, mask_var, loss_weights_var)\n",
    "        gold_intracell_classes = make_structured_gold_batch(boxes, pred_grids)\n",
    "        if gold_intracell_classes.shape[0] > 0:\n",
    "            gold_intracell_classes = npvar(gold_intracell_classes,\n",
    "                                           pred_intracell_classes.data.is_cuda)\n",
    "            structured_loss = structured_criterion(pred_intracell_classes,\n",
    "                                                   gold_intracell_classes)\n",
    "        else:\n",
    "            structured_loss = npvar(numpy.zeros(1).astype('float32'), raw_loss.data.is_cuda)\n",
    "        full_loss = raw_loss.contiguous() + structured_loss.contiguous()\n",
    "\n",
    "        if optimizer:\n",
    "            optimizer.zero_grad()\n",
    "            full_loss.backward()\n",
    "            nn.utils.clip_grad_norm(network.parameters(), 10)\n",
    "            optimizer.step()\n",
    "\n",
    "        cur_metrics = {'raw_loss' : raw_loss.data[0],\n",
    "                       'structured_loss' : structured_loss.data[0],\n",
    "                       'full_loss' : full_loss.data[0] }\n",
    "        for name, (func, elem_names) in metrics.items():\n",
    "            metric_value = func(cur_out, mask_var, boxes)\n",
    "            if not isinstance(metric_value, (list, numpy.ndarray)):\n",
    "                metric_value = metric_value.cpu().data.numpy()\n",
    "            cur_metrics.update(('\\n'.join((name, n)), v) for n, v in zip(elem_names, metric_value) if n)\n",
    "        metric_values.append(cur_metrics)\n",
    "    return metric_values"
   ]
  },
  {
   "cell_type": "markdown",
   "metadata": {},
   "source": [
    "### Structured Two-step"
   ]
  },
  {
   "cell_type": "code",
   "execution_count": 22,
   "metadata": {
    "ExecuteTime": {
     "end_time": "2017-12-18T15:30:59.108186Z",
     "start_time": "2017-12-18T15:30:58.717784Z"
    }
   },
   "outputs": [],
   "source": [
    "def pad_and_concat(tensors):\n",
    "    max_height = max(t.size()[2] for t in tensors)\n",
    "    max_width = max(t.size()[3] for t in tensors)\n",
    "    return torch.cat([F.pad(t, (0, max_width-t.size()[3], 0, max_height-t.size()[2]))\n",
    "                      for t in tensors])\n",
    "\n",
    "\n",
    "def structured_two_step_datagen(orig_datagen, model=None, cuda=True, batch_size=32, tamper_channels=[]):\n",
    "    batch_input = []\n",
    "    batch_output = []\n",
    "    out_i = 0\n",
    "    for image_ids, in_img, mask, loss_weights, boxes_aug in orig_datagen:\n",
    "        if model:\n",
    "            mask = model(npvar(in_img, cuda)).data\n",
    "        mask = mask.cpu().numpy()\n",
    "        for table_mask, gold_boxes in zip(mask, boxes_aug):\n",
    "            gold_boxes = pickle.loads(gold_boxes)\n",
    "\n",
    "            body, cells, grid, cell_idx, rels = table_grid_from_intracell_mask(table_mask)\n",
    "            intracell_relation_keys = list(rels.keys())\n",
    "\n",
    "            in_i = 0\n",
    "            while in_i < len(intracell_relation_keys):\n",
    "                step = min(batch_size - out_i, len(intracell_relation_keys) - in_i)\n",
    "\n",
    "                batch_relation_keys = intracell_relation_keys[in_i:in_i+step]\n",
    "                batch_relations = [(cells[i1], cells[i2], rels[(i1, i2)])\n",
    "                                   for (i1, i2) in batch_relation_keys]\n",
    "                batch_input.append(CellRelConvFCNClassifier.make_batch(npvar(table_mask, cuda).unsqueeze(0),\n",
    "                                                                       [batch_relations]))\n",
    "                gold_cls = make_structured_gold_single_image(gold_boxes,\n",
    "                                                             (body, cells, grid, cell_idx,\n",
    "                                                              { k : rels[k] for k in batch_relation_keys }))\n",
    "                batch_output.append(npvar(gold_cls, cuda))\n",
    "                in_i += step\n",
    "                out_i += step\n",
    "\n",
    "                if out_i >= batch_size:\n",
    "                    out_input = pad_and_concat(batch_input)\n",
    "                    if tamper_channels:\n",
    "                        out_input[:, tamper_channels] = 0\n",
    "                    yield out_input, torch.cat(batch_output)\n",
    "                    batch_input = []\n",
    "                    batch_output = []\n",
    "                    out_i = 0\n",
    "\n",
    "\n",
    "def run_cell_network(network, generator, num_batches, criterion=F.binary_cross_entropy, optimizer=None, metrics=CELL_TRAIN_METRICS):\n",
    "    metric_values = []\n",
    "    gen_iter = iter(generator)\n",
    "    for _ in tqdm.tqdm(range(num_batches)):\n",
    "        inp, gold = next(gen_iter)\n",
    "\n",
    "        pred = network(inp)\n",
    "\n",
    "        loss = criterion(pred, gold)\n",
    "\n",
    "        if optimizer:\n",
    "            optimizer.zero_grad()\n",
    "            loss.backward()\n",
    "            nn.utils.clip_grad_norm(network.parameters(), 10)\n",
    "            optimizer.step()\n",
    "\n",
    "        cur_metrics = { 'loss' : loss.data[0] }\n",
    "        for name, (func, elem_names) in metrics.items():\n",
    "            metric_value = func(pred, gold)\n",
    "            if not isinstance(metric_value, (list, numpy.ndarray)):\n",
    "                metric_value = metric_value.cpu().data.numpy()\n",
    "            cur_metrics.update(('\\n'.join((name, n)), v) for n, v in zip(elem_names, metric_value) if n)\n",
    "        metric_values.append(cur_metrics)\n",
    "    return metric_values"
   ]
  },
  {
   "cell_type": "markdown",
   "metadata": {},
   "source": [
    "## Train"
   ]
  },
  {
   "cell_type": "code",
   "execution_count": 23,
   "metadata": {
    "ExecuteTime": {
     "end_time": "2017-12-18T15:30:59.402406Z",
     "start_time": "2017-12-18T15:30:59.109955Z"
    }
   },
   "outputs": [
    {
     "data": {
      "text/plain": [
       "<matplotlib.axes._subplots.AxesSubplot at 0x7f31bc823c50>"
      ]
     },
     "execution_count": 23,
     "metadata": {},
     "output_type": "execute_result"
    },
    {
     "data": {
      "image/png": "[encoded data removed]",
      "text/plain": [
       "<matplotlib.figure.Figure at 0x7f31bc823898>"
      ]
     },
     "metadata": {},
     "output_type": "display_data"
    }
   ],
   "source": [
    "def clean_pytorch_dataloadergen(gen_iter):\n",
    "    try:\n",
    "        gen_iter._shutdown_workers()\n",
    "        for _ in range(100):\n",
    "            gen_iter.index_queue.put(None)\n",
    "#         while not gen_iter.data_queue.empty():\n",
    "#             b = gen_iter.data_queue.get()\n",
    "        for w in gen_iter.workers:\n",
    "            w.terminate()\n",
    "        del gen_iter\n",
    "    except ex:\n",
    "        print(ex)\n",
    "\n",
    "\n",
    "def const_lr(epoch, value=1e-3):\n",
    "    return value\n",
    "\n",
    "\n",
    "def step_annealed_lr(epoch, start=1e-3, step_epochs=20, decay_factor=0.5):\n",
    "    lr_factor = decay_factor ** (epoch // step_epochs)\n",
    "    return start * lr_factor\n",
    "\n",
    "\n",
    "def sin_annealed_lr(epoch, freq=0.5, start=1e-3, sin_amp=5e-4, amp_decay_factor=0.97, mean_decay_factor=0.98, min_lr=1e-5):\n",
    "    base = (numpy.sin(epoch * freq) + 1) * sin_amp * (amp_decay_factor ** epoch)\n",
    "    mean = start * (mean_decay_factor ** epoch)\n",
    "    return numpy.clip(base + mean, min_lr, None)\n",
    "\n",
    "\n",
    "lr_vis_x = numpy.arange(0, 60, 1)\n",
    "pandas.DataFrame(data=dict(const=const_lr(lr_vis_x),\n",
    "                           step=step_annealed_lr(lr_vis_x),\n",
    "                           sin=sin_annealed_lr(lr_vis_x))).plot()"
   ]
  },
  {
   "cell_type": "markdown",
   "metadata": {},
   "source": [
    "### Run"
   ]
  },
  {
   "cell_type": "markdown",
   "metadata": {},
   "source": [
    "#### Detect tables"
   ]
  },
  {
   "cell_type": "code",
   "execution_count": 24,
   "metadata": {
    "ExecuteTime": {
     "end_time": "2017-12-18T15:30:59.452730Z",
     "start_time": "2017-12-18T15:30:59.408330Z"
    }
   },
   "outputs": [],
   "source": [
    "# train_gen = None\n",
    "# val_gen = None\n",
    "\n",
    "# EPOCHS_NUM = 30\n",
    "# BATCH_SIZE = 2\n",
    "# PART_PER_EPOCH = 0.5\n",
    "# BATCHES_PER_EPOCH_TRAIN = int(len(train_image_ids) * PART_PER_EPOCH // BATCH_SIZE)\n",
    "# BATCHES_PER_EPOCH_VAL = int(len(val_image_ids) * PART_PER_EPOCH // BATCH_SIZE)\n",
    "\n",
    "# net = UNet(first_conv_channels=6,\n",
    "#            depth=4,\n",
    "#            enc_dilations=[1, 2, 4, 8, 16, 32]).cuda()\n",
    "# # LOSS = dice_bce_loss\n",
    "# # LOSS = dice_loss\n",
    "# LOSS = weighted_dice_loss\n",
    "\n",
    "# LR_SCHEDULE = step_annealed_lr\n",
    "# # LR_SCHEDULE = sin_annealed_lr\n",
    "\n",
    "# print('total parameters', sum(numpy.product(p.size()) for p in net.parameters()))\n",
    "\n",
    "# train_metrics = []\n",
    "# val_metrics = []\n",
    "# for epoch in range(EPOCHS_NUM):\n",
    "#     try:\n",
    "#         train_gen = iter(DataLoader(SegmDataset(train_image_ids, imgaug_pipeline),\n",
    "#                                     batch_size=BATCH_SIZE,\n",
    "#                                     shuffle=True,\n",
    "#                                     num_workers=4))\n",
    "#         val_gen = iter(DataLoader(SegmDataset(val_image_ids, imgaug_pipeline),\n",
    "#                                   batch_size=BATCH_SIZE,\n",
    "#                                   shuffle=True,\n",
    "#                                   num_workers=2))\n",
    "#         print('epoch', epoch)\n",
    "\n",
    "#         lr = LR_SCHEDULE(epoch)\n",
    "#         print('lr', lr)\n",
    "#         optimizer = Adam(net.parameters(), lr=lr)\n",
    "\n",
    "#         net.train()\n",
    "#         cur_train_metrics = run_network(net, train_gen, BATCHES_PER_EPOCH_TRAIN,\n",
    "#                                         criterion=LOSS,\n",
    "#                                         metrics=TRAIN_METRICS,\n",
    "#                                         optimizer=optimizer)\n",
    "#         train_metrics.extend(cur_train_metrics)\n",
    "#         display(pandas.DataFrame(cur_train_metrics).describe().loc[['mean', 'std']])\n",
    "\n",
    "#         net.eval()\n",
    "#         cur_val_metrics = run_network(net, val_gen, BATCHES_PER_EPOCH_VAL,\n",
    "#                                       criterion=LOSS,\n",
    "#                                       metrics=VAL_METRICS)\n",
    "#         val_metrics.extend(cur_val_metrics)\n",
    "#         display(pandas.DataFrame(cur_val_metrics).describe().loc[['mean', 'std']])\n",
    "#     finally:\n",
    "#         if train_gen:\n",
    "#             clean_pytorch_dataloadergen(train_gen)\n",
    "#         if val_gen:\n",
    "#             clean_pytorch_dataloadergen(val_gen)\n",
    "\n",
    "#         gc.collect()"
   ]
  },
  {
   "cell_type": "markdown",
   "metadata": {},
   "source": [
    "#### Segment structure"
   ]
  },
  {
   "cell_type": "code",
   "execution_count": 26,
   "metadata": {
    "ExecuteTime": {
     "end_time": "2017-12-18T15:35:41.780061Z",
     "start_time": "2017-12-18T15:35:33.268434Z"
    }
   },
   "outputs": [
    {
     "name": "stdout",
     "output_type": "stream",
     "text": [
      "total parameters 135972\n"
     ]
    },
    {
     "name": "stderr",
     "output_type": "stream",
     "text": [
      "\r",
      "  0%|          | 0/596 [00:00<?, ?it/s]"
     ]
    },
    {
     "name": "stdout",
     "output_type": "stream",
     "text": [
      "epoch 0\n",
      "lr 0.001\n"
     ]
    },
    {
     "name": "stderr",
     "output_type": "stream",
     "text": [
      "  7%|▋         | 40/596 [00:05<01:14,  7.42it/s]\n"
     ]
    },
    {
     "ename": "KeyboardInterrupt",
     "evalue": "",
     "output_type": "error",
     "traceback": [
      "\u001b[0;31m---------------------------------------------------------------------------\u001b[0m",
      "\u001b[0;31mKeyboardInterrupt\u001b[0m                         Traceback (most recent call last)",
      "\u001b[0;32m<ipython-input-26-f77e67073d7b>\u001b[0m in \u001b[0;36m<module>\u001b[0;34m()\u001b[0m\n\u001b[1;32m     45\u001b[0m                                         \u001b[0mcriterion\u001b[0m\u001b[0;34m=\u001b[0m\u001b[0mLOSS\u001b[0m\u001b[0;34m,\u001b[0m\u001b[0;34m\u001b[0m\u001b[0m\n\u001b[1;32m     46\u001b[0m                                         \u001b[0mmetrics\u001b[0m\u001b[0;34m=\u001b[0m\u001b[0mTRAIN_METRICS\u001b[0m\u001b[0;34m,\u001b[0m\u001b[0;34m\u001b[0m\u001b[0m\n\u001b[0;32m---> 47\u001b[0;31m                                         optimizer=optimizer)\n\u001b[0m\u001b[1;32m     48\u001b[0m         \u001b[0mtrain_metrics\u001b[0m\u001b[0;34m.\u001b[0m\u001b[0mextend\u001b[0m\u001b[0;34m(\u001b[0m\u001b[0mcur_train_metrics\u001b[0m\u001b[0;34m)\u001b[0m\u001b[0;34m\u001b[0m\u001b[0m\n\u001b[1;32m     49\u001b[0m         \u001b[0mdisplay\u001b[0m\u001b[0;34m(\u001b[0m\u001b[0mpandas\u001b[0m\u001b[0;34m.\u001b[0m\u001b[0mDataFrame\u001b[0m\u001b[0;34m(\u001b[0m\u001b[0mcur_train_metrics\u001b[0m\u001b[0;34m)\u001b[0m\u001b[0;34m.\u001b[0m\u001b[0mdescribe\u001b[0m\u001b[0;34m(\u001b[0m\u001b[0;34m)\u001b[0m\u001b[0;34m.\u001b[0m\u001b[0mloc\u001b[0m\u001b[0;34m[\u001b[0m\u001b[0;34m[\u001b[0m\u001b[0;34m'mean'\u001b[0m\u001b[0;34m,\u001b[0m \u001b[0;34m'std'\u001b[0m\u001b[0;34m]\u001b[0m\u001b[0;34m]\u001b[0m\u001b[0;34m)\u001b[0m\u001b[0;34m\u001b[0m\u001b[0m\n",
      "\u001b[0;32m<ipython-input-20-de76f4a018b8>\u001b[0m in \u001b[0;36mrun_network\u001b[0;34m(network, generator, num_batches, criterion, optimizer, metrics, cuda)\u001b[0m\n\u001b[1;32m    171\u001b[0m             \u001b[0moptimizer\u001b[0m\u001b[0;34m.\u001b[0m\u001b[0mzero_grad\u001b[0m\u001b[0;34m(\u001b[0m\u001b[0;34m)\u001b[0m\u001b[0;34m\u001b[0m\u001b[0m\n\u001b[1;32m    172\u001b[0m             \u001b[0mloss\u001b[0m\u001b[0;34m.\u001b[0m\u001b[0mbackward\u001b[0m\u001b[0;34m(\u001b[0m\u001b[0;34m)\u001b[0m\u001b[0;34m\u001b[0m\u001b[0m\n\u001b[0;32m--> 173\u001b[0;31m             \u001b[0mnn\u001b[0m\u001b[0;34m.\u001b[0m\u001b[0mutils\u001b[0m\u001b[0;34m.\u001b[0m\u001b[0mclip_grad_norm\u001b[0m\u001b[0;34m(\u001b[0m\u001b[0mnetwork\u001b[0m\u001b[0;34m.\u001b[0m\u001b[0mparameters\u001b[0m\u001b[0;34m(\u001b[0m\u001b[0;34m)\u001b[0m\u001b[0;34m,\u001b[0m \u001b[0;36m10\u001b[0m\u001b[0;34m)\u001b[0m\u001b[0;34m\u001b[0m\u001b[0m\n\u001b[0m\u001b[1;32m    174\u001b[0m             \u001b[0moptimizer\u001b[0m\u001b[0;34m.\u001b[0m\u001b[0mstep\u001b[0m\u001b[0;34m(\u001b[0m\u001b[0;34m)\u001b[0m\u001b[0;34m\u001b[0m\u001b[0m\n\u001b[1;32m    175\u001b[0m \u001b[0;34m\u001b[0m\u001b[0m\n",
      "\u001b[0;32m~/.pyenv/versions/3.6.0/lib/python3.6/site-packages/torch/nn/utils/clip_grad.py\u001b[0m in \u001b[0;36mclip_grad_norm\u001b[0;34m(parameters, max_norm, norm_type)\u001b[0m\n\u001b[1;32m     24\u001b[0m         \u001b[0mtotal_norm\u001b[0m \u001b[0;34m=\u001b[0m \u001b[0;36m0\u001b[0m\u001b[0;34m\u001b[0m\u001b[0m\n\u001b[1;32m     25\u001b[0m         \u001b[0;32mfor\u001b[0m \u001b[0mp\u001b[0m \u001b[0;32min\u001b[0m \u001b[0mparameters\u001b[0m\u001b[0;34m:\u001b[0m\u001b[0;34m\u001b[0m\u001b[0m\n\u001b[0;32m---> 26\u001b[0;31m             \u001b[0mparam_norm\u001b[0m \u001b[0;34m=\u001b[0m \u001b[0mp\u001b[0m\u001b[0;34m.\u001b[0m\u001b[0mgrad\u001b[0m\u001b[0;34m.\u001b[0m\u001b[0mdata\u001b[0m\u001b[0;34m.\u001b[0m\u001b[0mnorm\u001b[0m\u001b[0;34m(\u001b[0m\u001b[0mnorm_type\u001b[0m\u001b[0;34m)\u001b[0m\u001b[0;34m\u001b[0m\u001b[0m\n\u001b[0m\u001b[1;32m     27\u001b[0m             \u001b[0mtotal_norm\u001b[0m \u001b[0;34m+=\u001b[0m \u001b[0mparam_norm\u001b[0m \u001b[0;34m**\u001b[0m \u001b[0mnorm_type\u001b[0m\u001b[0;34m\u001b[0m\u001b[0m\n\u001b[1;32m     28\u001b[0m         \u001b[0mtotal_norm\u001b[0m \u001b[0;34m=\u001b[0m \u001b[0mtotal_norm\u001b[0m \u001b[0;34m**\u001b[0m \u001b[0;34m(\u001b[0m\u001b[0;36m1.\u001b[0m \u001b[0;34m/\u001b[0m \u001b[0mnorm_type\u001b[0m\u001b[0;34m)\u001b[0m\u001b[0;34m\u001b[0m\u001b[0m\n",
      "\u001b[0;31mKeyboardInterrupt\u001b[0m: "
     ]
    }
   ],
   "source": [
    "train_gen = None\n",
    "val_gen = None\n",
    "\n",
    "EPOCHS_NUM = 30\n",
    "BATCH_SIZE = 2\n",
    "PART_PER_EPOCH = 0.5\n",
    "BATCHES_PER_EPOCH_TRAIN = int(len(train_int_image_ids) * PART_PER_EPOCH // BATCH_SIZE)\n",
    "BATCHES_PER_EPOCH_VAL = int(len(val_int_image_ids) * PART_PER_EPOCH // BATCH_SIZE)\n",
    "\n",
    "\n",
    "# net = StackedUNet1()\n",
    "\n",
    "net = UNet(first_conv_channels=6,\n",
    "           depth=4,\n",
    "           enc_dilations=[1, 2, 4, 8, 16, 32]).cuda()\n",
    "# LOSS = dice_bce_loss\n",
    "# LOSS = dice_loss\n",
    "LOSS = weighted_dice_loss\n",
    "\n",
    "LR_SCHEDULE = step_annealed_lr\n",
    "# LR_SCHEDULE = sin_annealed_lr\n",
    "\n",
    "print('total parameters', sum(numpy.product(p.size()) for p in net.parameters()))\n",
    "\n",
    "train_metrics = []\n",
    "val_metrics = []\n",
    "for epoch in range(EPOCHS_NUM):\n",
    "    try:\n",
    "        train_gen = iter(DataLoader(SegmDataset(train_int_image_ids, imgaug_pipeline),\n",
    "                                    batch_size=BATCH_SIZE,\n",
    "                                    shuffle=True,\n",
    "                                    num_workers=4))\n",
    "        val_gen = iter(DataLoader(SegmDataset(val_int_image_ids, imgaug_pipeline),\n",
    "                                  batch_size=BATCH_SIZE,\n",
    "                                  shuffle=True,\n",
    "                                  num_workers=2))\n",
    "        print('epoch', epoch)\n",
    "\n",
    "        lr = LR_SCHEDULE(epoch)\n",
    "        print('lr', lr)\n",
    "        optimizer = Adam(net.parameters(), lr=lr)\n",
    "\n",
    "        net.train()\n",
    "        cur_train_metrics = run_network(net, train_gen, BATCHES_PER_EPOCH_TRAIN,\n",
    "                                        criterion=LOSS,\n",
    "                                        metrics=TRAIN_METRICS,\n",
    "                                        optimizer=optimizer)\n",
    "        train_metrics.extend(cur_train_metrics)\n",
    "        display(pandas.DataFrame(cur_train_metrics).describe().loc[['mean', 'std']])\n",
    "\n",
    "        net.eval()\n",
    "        cur_val_metrics = run_network(net, val_gen, BATCHES_PER_EPOCH_VAL,\n",
    "                                      criterion=LOSS,\n",
    "                                      metrics=VAL_METRICS)\n",
    "        val_metrics.extend(cur_val_metrics)\n",
    "        display(pandas.DataFrame(cur_val_metrics).describe().loc[['mean', 'std']])\n",
    "    finally:\n",
    "        if train_gen:\n",
    "            clean_pytorch_dataloadergen(train_gen)\n",
    "        if val_gen:\n",
    "            clean_pytorch_dataloadergen(val_gen)\n",
    "\n",
    "        gc.collect()"
   ]
  },
  {
   "cell_type": "markdown",
   "metadata": {},
   "source": [
    "#### Structured End-to-End"
   ]
  },
  {
   "cell_type": "code",
   "execution_count": 26,
   "metadata": {
    "ExecuteTime": {
     "end_time": "2017-12-15T11:35:25.622863Z",
     "start_time": "2017-12-15T11:35:25.576368Z"
    },
    "scrolled": false
   },
   "outputs": [],
   "source": [
    "# train_gen = None\n",
    "# val_gen = None\n",
    "\n",
    "# EPOCHS_NUM = 30\n",
    "# BATCH_SIZE = 1\n",
    "# PART_PER_EPOCH = 0.5\n",
    "# BATCHES_PER_EPOCH_TRAIN = int(len(train_image_ids) * PART_PER_EPOCH // BATCH_SIZE)\n",
    "# BATCHES_PER_EPOCH_VAL = int(len(val_image_ids) * PART_PER_EPOCH // BATCH_SIZE)\n",
    "\n",
    "# net = TableSegmenter().cuda()\n",
    "# RAW_LOSS = dice_loss\n",
    "# print('total parameters', sum(numpy.product(p.size()) for p in net.parameters()))\n",
    "\n",
    "# train_metrics = []\n",
    "# val_metrics = []\n",
    "# for epoch in range(EPOCHS_NUM):\n",
    "#     try:\n",
    "#         train_gen = iter(DataLoader(SegmDataset(train_image_ids, imgaug_pipeline),\n",
    "#                                     batch_size=BATCH_SIZE,\n",
    "#                                     shuffle=True,\n",
    "#                                     num_workers=4))\n",
    "#         val_gen = iter(DataLoader(SegmDataset(val_image_ids, imgaug_pipeline),\n",
    "#                                   batch_size=BATCH_SIZE,\n",
    "#                                   shuffle=True,\n",
    "#                                   num_workers=2))\n",
    "#         print('epoch', epoch)\n",
    "\n",
    "#         lr_factor = 0.5 ** (epoch // 20)\n",
    "#         lr = 1e-3 * lr_factor\n",
    "#         print('lr', lr)\n",
    "#         optimizer = Adam(net.parameters(), lr=lr)\n",
    "\n",
    "#         net.train()\n",
    "#         cur_train_metrics = run_network_structured(net, train_gen,\n",
    "#                                                    BATCHES_PER_EPOCH_TRAIN,\n",
    "#                                                    raw_criterion=RAW_LOSS,\n",
    "#                                                    metrics=TRAIN_METRICS,\n",
    "#                                                    optimizer=optimizer)\n",
    "#         train_metrics.extend(cur_train_metrics)\n",
    "#         display(pandas.DataFrame(cur_train_metrics).describe().loc[['mean', 'std']])\n",
    "\n",
    "#         net.eval()\n",
    "#         cur_val_metrics = run_network_structured(net, val_gen,\n",
    "#                                                  BATCHES_PER_EPOCH_VAL,\n",
    "#                                                  raw_criterion=RAW_LOSS,\n",
    "#                                                  metrics=VAL_METRICS)\n",
    "#         val_metrics.extend(cur_val_metrics)\n",
    "#         display(pandas.DataFrame(cur_val_metrics).describe().loc[['mean', 'std']])\n",
    "#     finally:\n",
    "#         if train_gen:\n",
    "#             clean_pytorch_dataloadergen(train_gen)\n",
    "#         if val_gen:\n",
    "#             clean_pytorch_dataloadergen(val_gen)\n",
    "\n",
    "#         gc.collect()"
   ]
  },
  {
   "cell_type": "markdown",
   "metadata": {},
   "source": [
    "#### Structured Two-step"
   ]
  },
  {
   "cell_type": "code",
   "execution_count": 27,
   "metadata": {
    "ExecuteTime": {
     "end_time": "2017-12-15T11:35:25.686927Z",
     "start_time": "2017-12-15T11:35:25.625254Z"
    }
   },
   "outputs": [],
   "source": [
    "# base_segm_model = torch.load('./models/torch4_segm').cuda()"
   ]
  },
  {
   "cell_type": "code",
   "execution_count": 28,
   "metadata": {
    "ExecuteTime": {
     "end_time": "2017-12-15T11:35:25.807442Z",
     "start_time": "2017-12-15T11:35:25.688727Z"
    },
    "scrolled": true
   },
   "outputs": [],
   "source": [
    "# base_train_gen = None\n",
    "# base_val_gen = None\n",
    "\n",
    "# EPOCHS_NUM = 60\n",
    "# BASE_BATCH_SIZE = 4\n",
    "# BATCH_SIZE = 10\n",
    "# PART_PER_EPOCH = 0.5\n",
    "# MEAN_RELS_PER_IMAGE = 2\n",
    "# BATCHES_PER_EPOCH_TRAIN = int(len(train_image_ids) * PART_PER_EPOCH // BASE_BATCH_SIZE) * MEAN_RELS_PER_IMAGE\n",
    "# BATCHES_PER_EPOCH_VAL = int(len(val_image_ids) * PART_PER_EPOCH // BASE_BATCH_SIZE) * MEAN_RELS_PER_IMAGE\n",
    "\n",
    "# cell_net = ConvFCNClassifier(5, 2,\n",
    "#                              conv_layers=3,\n",
    "#                              dilations=[1, 2, 4, 8, 16]).cuda()\n",
    "# print('receptive field', cell_net.receptive_field)\n",
    "# CELL_REL_LOSS = F.binary_cross_entropy\n",
    "# print('total parameters', sum(numpy.product(p.size()) for p in cell_net.parameters()))\n",
    "\n",
    "# # cell_tamper_channels = [0, 2, 3]\n",
    "# cell_tamper_channels = []\n",
    "\n",
    "# CELL_LR_SCHEDULE = step_annealed_lr\n",
    "\n",
    "# train_metrics = []\n",
    "# val_metrics = []\n",
    "# for epoch in range(EPOCHS_NUM):\n",
    "#     try:\n",
    "#         base_train_gen = iter(DataLoader(SegmDataset(train_image_ids, imgaug_pipeline),\n",
    "#                                          batch_size=BASE_BATCH_SIZE,\n",
    "#                                          shuffle=True,\n",
    "#                                          num_workers=4))\n",
    "#         train_gen = structured_two_step_datagen(base_train_gen,\n",
    "#                                                 model=base_segm_model,\n",
    "#                                                 cuda=True,\n",
    "#                                                 batch_size=BATCH_SIZE,\n",
    "#                                                 tamper_channels=cell_tamper_channels)\n",
    "# #         qq = next(iter(train_gen))[0].data.cpu().numpy()\n",
    "#         base_val_gen = iter(DataLoader(SegmDataset(val_image_ids, imgaug_pipeline),\n",
    "#                                        batch_size=BASE_BATCH_SIZE,\n",
    "#                                        shuffle=True,\n",
    "#                                        num_workers=2))\n",
    "#         val_gen = structured_two_step_datagen(base_val_gen,\n",
    "#                                               model=base_segm_model,\n",
    "#                                               cuda=True,\n",
    "#                                               batch_size=BATCH_SIZE,\n",
    "#                                               tamper_channels=cell_tamper_channels)\n",
    "\n",
    "#         print('epoch', epoch)\n",
    "\n",
    "#         lr = CELL_LR_SCHEDULE(epoch)\n",
    "#         print('lr', lr)\n",
    "#         optimizer = Adam(cell_net.parameters(), lr=lr)\n",
    "\n",
    "#         cell_net.train()\n",
    "#         cur_train_metrics = run_cell_network(cell_net, train_gen, BATCHES_PER_EPOCH_TRAIN,\n",
    "#                                              criterion=CELL_REL_LOSS,\n",
    "#                                              metrics=CELL_TRAIN_METRICS,\n",
    "#                                              optimizer=optimizer)\n",
    "#         train_metrics.extend(cur_train_metrics)\n",
    "#         display(pandas.DataFrame(cur_train_metrics).describe().loc[['mean', 'std']])\n",
    "\n",
    "#         cell_net.eval()\n",
    "#         cur_val_metrics = run_cell_network(cell_net, val_gen, BATCHES_PER_EPOCH_VAL,\n",
    "#                                            criterion=CELL_REL_LOSS,\n",
    "#                                            metrics=CELL_VAL_METRICS)\n",
    "#         val_metrics.extend(cur_val_metrics)\n",
    "#         display(pandas.DataFrame(cur_val_metrics).describe().loc[['mean', 'std']])\n",
    "#     finally:\n",
    "#         if base_train_gen:\n",
    "#             clean_pytorch_dataloadergen(base_train_gen)\n",
    "#         if base_val_gen:\n",
    "#             clean_pytorch_dataloadergen(base_val_gen)\n",
    "\n",
    "#         gc.collect()"
   ]
  },
  {
   "cell_type": "markdown",
   "metadata": {},
   "source": [
    "### Plot metrics"
   ]
  },
  {
   "cell_type": "code",
   "execution_count": 41,
   "metadata": {
    "ExecuteTime": {
     "end_time": "2017-12-18T10:32:57.393174Z",
     "start_time": "2017-12-18T10:32:57.360284Z"
    }
   },
   "outputs": [],
   "source": [
    "# train_metrics = pandas.DataFrame(train_metrics)\n",
    "# val_metrics = pandas.DataFrame(val_metrics)"
   ]
  },
  {
   "cell_type": "code",
   "execution_count": null,
   "metadata": {
    "ExecuteTime": {
     "end_time": "2017-12-15T11:35:26.135444Z",
     "start_time": "2017-12-15T11:34:21.863Z"
    },
    "scrolled": false
   },
   "outputs": [],
   "source": [
    "# pandas.rolling_mean(train_metrics, 100).plot(figsize=(13, 8))"
   ]
  },
  {
   "cell_type": "code",
   "execution_count": null,
   "metadata": {
    "ExecuteTime": {
     "end_time": "2017-12-15T11:35:26.140143Z",
     "start_time": "2017-12-15T11:34:21.877Z"
    },
    "scrolled": false
   },
   "outputs": [],
   "source": [
    "# pandas.rolling_mean(val_metrics[[c for c in val_metrics.columns if 'cell' in c]], 10).plot(figsize=(13, 8))\n",
    "# pandas.rolling_mean(val_metrics, 100).plot(figsize=(13, 8))"
   ]
  },
  {
   "cell_type": "markdown",
   "metadata": {},
   "source": [
    "## Predict and visualize"
   ]
  },
  {
   "cell_type": "markdown",
   "metadata": {},
   "source": [
    "### Table structure segmentation"
   ]
  },
  {
   "cell_type": "code",
   "execution_count": null,
   "metadata": {
    "ExecuteTime": {
     "end_time": "2017-12-15T11:35:26.145072Z",
     "start_time": "2017-12-15T11:34:21.894Z"
    }
   },
   "outputs": [],
   "source": [
    "# torch.save(net, 'models/torch5_segm_aug')"
   ]
  },
  {
   "cell_type": "code",
   "execution_count": 44,
   "metadata": {
    "ExecuteTime": {
     "end_time": "2017-12-15T11:42:17.722690Z",
     "start_time": "2017-12-15T11:42:17.668273Z"
    }
   },
   "outputs": [],
   "source": [
    "# test_net = torch.load('models/torch4_segm').cuda()"
   ]
  },
  {
   "cell_type": "code",
   "execution_count": 52,
   "metadata": {
    "ExecuteTime": {
     "end_time": "2017-12-15T11:51:21.315425Z",
     "start_time": "2017-12-15T11:51:21.261632Z"
    }
   },
   "outputs": [],
   "source": [
    "# test_gen = DataLoader(SegmDataset(val_int_image_ids, imgaug_pipeline),\n",
    "#                       batch_size=4,\n",
    "#                       shuffle=True,\n",
    "#                       num_workers=0)"
   ]
  },
  {
   "cell_type": "code",
   "execution_count": 63,
   "metadata": {
    "ExecuteTime": {
     "end_time": "2017-12-15T11:54:13.374623Z",
     "start_time": "2017-12-15T11:54:13.028509Z"
    }
   },
   "outputs": [
    {
     "data": {
      "text/plain": [
       "torch.Size([4, 1, 400, 800])"
      ]
     },
     "execution_count": 63,
     "metadata": {},
     "output_type": "execute_result"
    }
   ],
   "source": [
    "# next(iter(test_gen))[1].size()"
   ]
  },
  {
   "cell_type": "code",
   "execution_count": null,
   "metadata": {
    "ExecuteTime": {
     "end_time": "2017-12-15T11:35:26.160325Z",
     "start_time": "2017-12-15T11:34:21.942Z"
    }
   },
   "outputs": [],
   "source": [
    "# test_metrics = pandas.DataFrame(run_network(test_net,\n",
    "#                                             test_gen,\n",
    "#                                             100,\n",
    "#                                             metrics=VAL_METRICS))\n",
    "# test_metrics.describe().loc[['mean', 'std']]"
   ]
  },
  {
   "cell_type": "code",
   "execution_count": null,
   "metadata": {
    "ExecuteTime": {
     "end_time": "2017-12-15T11:35:26.163495Z",
     "start_time": "2017-12-15T11:34:21.956Z"
    }
   },
   "outputs": [],
   "source": [
    "# test_batch = next(iter(test_gen))\n",
    "# test_pred = test_net(npvar(test_batch[1], False))\n",
    "# test_pred_np = test_pred.cpu().data.numpy()"
   ]
  },
  {
   "cell_type": "code",
   "execution_count": null,
   "metadata": {
    "ExecuteTime": {
     "end_time": "2017-12-15T11:35:26.167497Z",
     "start_time": "2017-12-15T11:34:21.969Z"
    }
   },
   "outputs": [],
   "source": [
    "# arr_to_img(test_batch[1][5][0])"
   ]
  },
  {
   "cell_type": "code",
   "execution_count": null,
   "metadata": {
    "ExecuteTime": {
     "end_time": "2017-12-15T11:35:26.168738Z",
     "start_time": "2017-12-15T11:34:21.983Z"
    }
   },
   "outputs": [],
   "source": [
    "# arr_to_img(mask_to_img(test_batch[2][5]))"
   ]
  },
  {
   "cell_type": "code",
   "execution_count": null,
   "metadata": {
    "ExecuteTime": {
     "end_time": "2017-12-15T11:35:26.174569Z",
     "start_time": "2017-12-15T11:34:21.999Z"
    }
   },
   "outputs": [],
   "source": [
    "# arr_to_img(mask_to_img(test_pred_np[5]))"
   ]
  },
  {
   "cell_type": "markdown",
   "metadata": {},
   "source": [
    "#### Results\n",
    "\n",
    "torch4_segm - new dataset\n",
    "\n",
    "\td body\td cell\td same_col_other_row\td same_row_other_col\tloss\n",
    "    mean\t0.998203\t0.949023\t0.882075\t0.911857\t0.370951\n",
    "    std\t0.001029\t0.005394\t0.022474\t0.015409\t0.082468\n",
    "\n",
    "torch3_segm_sin_lr\n",
    "\n",
    "    d body\td cell\td same_col_other_row\td same_row_other_col\tloss\n",
    "    mean\t0.998410\t0.939392\t0.841485\t0.896262\t0.492761\n",
    "    std\t0.001119\t0.010956\t0.029930\t0.017465\t0.101767\n",
    "\n",
    "torch3_segm\n",
    "\n",
    "\td body\td cell\td same_col_other_row\td same_row_other_col\tloss\n",
    "    mean\t0.998310\t0.940712\t0.845252\t0.895659\t0.410746\n",
    "    std\t0.001132\t0.009477\t0.034629\t0.021674\t0.098735\n",
    "\n",
    "torch2_segm\n",
    "\n",
    "\td body\td cell\td same_col_other_row\td same_row_other_col\tloss\n",
    "    mean\t0.989956\t0.936836\t0.808210\t0.791179\t0.495952\n",
    "    std\t0.006291\t0.012705\t0.031203\t0.047960\t0.125360\n",
    "\n",
    "torch1_segm\n",
    "\n",
    "\td body\td cell\td same_col_other_row\td same_row_other_col\tloss\n",
    "    mean\t0.983077\t0.887751\t0.754271\t0.692168\t0.886143\n",
    "    std\t0.008379\t0.019005\t0.037087\t0.053706\t0.172175    "
   ]
  },
  {
   "cell_type": "markdown",
   "metadata": {},
   "source": [
    "### Intracell classification"
   ]
  },
  {
   "cell_type": "code",
   "execution_count": null,
   "metadata": {
    "ExecuteTime": {
     "end_time": "2017-12-15T11:35:26.176201Z",
     "start_time": "2017-12-15T11:34:22.020Z"
    }
   },
   "outputs": [],
   "source": [
    "# torch.save(cell_net, './models/torch4_cell')"
   ]
  },
  {
   "cell_type": "code",
   "execution_count": 42,
   "metadata": {
    "ExecuteTime": {
     "end_time": "2017-12-18T10:33:12.238794Z",
     "start_time": "2017-12-18T10:33:07.033851Z"
    }
   },
   "outputs": [],
   "source": [
    "cell_test_net = torch.load('models/torch4_cell').cuda()\n",
    "cell_test_base_segm_model = torch.load('models/torch4_segm').cuda()"
   ]
  },
  {
   "cell_type": "code",
   "execution_count": 43,
   "metadata": {
    "ExecuteTime": {
     "end_time": "2017-12-18T10:33:12.279655Z",
     "start_time": "2017-12-18T10:33:12.245320Z"
    }
   },
   "outputs": [],
   "source": [
    "cell_test_gen = structured_two_step_datagen(DataLoader(SegmDataset(val_int_image_ids, imgaug_pipeline),\n",
    "                                                                   batch_size=4,\n",
    "                                                                   shuffle=True,\n",
    "                                                                   num_workers=0),\n",
    "                                                       model=cell_test_base_segm_model,\n",
    "                                                       cuda=True,\n",
    "                                                       batch_size=10, \n",
    "                                                       tamper_channels=[])"
   ]
  },
  {
   "cell_type": "code",
   "execution_count": 33,
   "metadata": {
    "ExecuteTime": {
     "end_time": "2017-12-15T11:36:33.834583Z",
     "start_time": "2017-12-15T11:36:33.777865Z"
    }
   },
   "outputs": [],
   "source": [
    "# cell_test_metrics = pandas.DataFrame(run_cell_network(cell_test_net,\n",
    "#                                                       cell_test_gen,\n",
    "#                                                       1000,\n",
    "#                                                       metrics=CELL_TRAIN_METRICS))\n",
    "# cell_test_metrics.describe().loc[['mean', 'std']]"
   ]
  },
  {
   "cell_type": "code",
   "execution_count": 34,
   "metadata": {
    "ExecuteTime": {
     "end_time": "2017-12-15T11:36:34.031013Z",
     "start_time": "2017-12-15T11:36:33.983284Z"
    }
   },
   "outputs": [],
   "source": [
    "# cell_test_batch = next(iter(cell_test_gen))\n",
    "\n",
    "# cell_test_pred = cell_test_net(cell_test_batch[0])\n",
    "# cell_test_pred_np = cell_test_pred.cpu().data.numpy()\n",
    "\n",
    "# cell_test_in_np = cell_test_batch[0].data.cpu().numpy()\n",
    "# cell_test_gold_np = cell_test_batch[1].data.cpu().numpy()"
   ]
  },
  {
   "cell_type": "code",
   "execution_count": 35,
   "metadata": {
    "ExecuteTime": {
     "end_time": "2017-12-15T11:36:34.242578Z",
     "start_time": "2017-12-15T11:36:34.184822Z"
    }
   },
   "outputs": [],
   "source": [
    "# cell_test_cls = 0\n",
    "# cell_err_idx = numpy.where((cell_test_pred_np[:, cell_test_cls] > 0.5) ^ (cell_test_gold_np[:, cell_test_cls] > 0.5))[0]\n",
    "# cell_err_idx"
   ]
  },
  {
   "cell_type": "code",
   "execution_count": 36,
   "metadata": {
    "ExecuteTime": {
     "end_time": "2017-12-15T11:36:34.431334Z",
     "start_time": "2017-12-15T11:36:34.378784Z"
    }
   },
   "outputs": [],
   "source": [
    "# arr_to_img(mask_to_img(cell_test_in_np[9]))"
   ]
  },
  {
   "cell_type": "markdown",
   "metadata": {},
   "source": [
    "#### Results\n",
    "\n",
    "##### model4 + dirty mask\n",
    "\n",
    "\tf1 same_col\tf1 same_row\tloss\tp same_col\tp same_row\tr same_col\tr same_row\n",
    "    mean\t0.989180\t0.994971\t0.080180\t0.993083\t0.996313\t0.986683\t0.994222\n",
    "    std\t0.032286\t0.019886\t0.105167\t0.029898\t0.020164\t0.046321\t0.028774\n",
    "\n",
    "\n",
    "##### model3 + dirty mask\n",
    "\n",
    "full\n",
    "\n",
    "    f1 same_col\tf1 same_row\tloss\tp same_col\tp same_row\tr same_col\tr same_row\n",
    "    count\t1000.000000\t1000.000000\t1.000000e+03\t1000.000000\t1000.000000\t1000.000000\t1000.000000\n",
    "    mean\t0.983340\t0.988110\t1.038302e-01\t0.979040\t0.987869\t0.990500\t0.989878\n",
    "    std\t0.045322\t0.028977\t1.255031e-01\t0.062619\t0.037985\t0.037310\t0.037401\n",
    "\n",
    "prior\n",
    "\n",
    "\tf1 same_col\tf1 same_row\tloss\tp same_col\tp same_row\tr same_col\tr same_row\n",
    "    mean\t0.386867\t0.884495\t0.638011\t0.248800\t1.0\t0.969000\t0.79920\n",
    "    std\t0.137623\t0.067207\t0.042811\t0.106536\t0.0\t0.173404\t0.10493\n",
    "\n",
    "only direction mask\n",
    "\n",
    "    f1 same_col\tf1 same_row\tloss\tp same_col\tp same_row\tr same_col\tr same_row\n",
    "    mean\t0.905572\t0.960554\t0.486082\t0.990928\t0.986694\t0.841598\t0.942228\n",
    "    std\t0.070566\t0.058119\t0.173850\t0.049021\t0.041546\t0.105471\t0.094352\n",
    "\n",
    "direction + cells\n",
    "\n",
    "    f1 same_col\tf1 same_row\tloss\tp same_col\tp same_row\tr same_col\tr same_row\n",
    "    mean\t0.949917\t0.891511\t0.42503\t0.993760\t0.839289\t0.915792\t0.975691\n",
    "    std\t0.059940\t0.100130\t0.13056\t0.031078\t0.157273\t0.096916\t0.060573\n",
    "\n",
    "##### model3 + gold mask\n",
    "\n",
    "full\n",
    "\n",
    "\tf1 same_col\tf1 same_row\tloss\tp same_col\tp same_row\tr same_col\tr same_row\n",
    "    mean\t0.992398\t0.992491\t0.053234\t0.994786\t0.987378\t0.991086\t0.999375\n",
    "    std\t0.026123\t0.033263\t0.102939\t0.023926\t0.051505\t0.038615\t0.008081\n",
    "\n",
    "prior\n",
    "\n",
    "\tf1 same_col\tf1 same_row\tloss\tp same_col\tp same_row\tr same_col\tr same_row\n",
    "    mean\t0.849597\t0.306073\t1.079524\t1.0\t0.187300\t0.743900\t0.959000\n",
    "    std\t0.064837\t0.125518\t0.213037\t0.0\t0.089982\t0.095979\t0.198389\n",
    "\n",
    "only direction mask\n",
    "\n",
    "    f1 same_col\tf1 same_row\tloss\tp same_col\tp same_row\tr same_col\tr same_row\n",
    "    mean\t0.963674\t0.935180\t0.302549\t0.975923\t0.929769\t0.956293\t0.959424\n",
    "    std\t0.054372\t0.110912\t0.334999\t0.049396\t0.141161\t0.080252\t0.090330\n",
    "\n",
    "direction + cells\n",
    "\n",
    "\tf1 same_col\tf1 same_row\tloss\tp same_col\tp same_row\tr same_col\tr same_row\n",
    "    mean\t0.973938\t0.957742\t0.313686\t0.973650\t0.978729\t0.978013\t0.944639\n",
    "    std\t0.051473\t0.067226\t0.437475\t0.058283\t0.069870\t0.064993\t0.089269"
   ]
  },
  {
   "cell_type": "markdown",
   "metadata": {},
   "source": [
    "## Playground"
   ]
  },
  {
   "cell_type": "code",
   "execution_count": 251,
   "metadata": {
    "ExecuteTime": {
     "end_time": "2017-12-18T14:09:17.164834Z",
     "start_time": "2017-12-18T14:09:15.921810Z"
    }
   },
   "outputs": [],
   "source": [
    "def reorder_cells(c1, c2, cells, dim):\n",
    "    b1, b2 = cells[c1], cells[c2]\n",
    "    coord1, coord2 = b1[dim], b2[dim]\n",
    "    coord1o, coord2o = b1[dim+2], b2[dim+2]\n",
    "    if coord1 < coord2:\n",
    "        return c1, c2, coord2 > coord1o\n",
    "    else:\n",
    "        return c2, c1, coord1 > coord2o\n",
    "\n",
    "\n",
    "class SeqIdGen(object):\n",
    "    def __init__(self):\n",
    "        self.next_id = 0\n",
    "\n",
    "    def __call__(self):\n",
    "        res = self.next_id\n",
    "        self.next_id += 1\n",
    "        return res\n",
    "\n",
    "\n",
    "def make_equivalence_classes(neighborhood):\n",
    "    cell2cls = {}\n",
    "    gen_cls_id = SeqIdGen()\n",
    "\n",
    "    refs_by_cell = { c : 0\n",
    "                    for cur_cell, neighs in neighborhood.items()\n",
    "                    for lst in ((cur_cell,), neighs)\n",
    "                    for c in lst }\n",
    "    for cur_cell, neighs in neighborhood.items():\n",
    "        for oc in neighs:\n",
    "            refs_by_cell[oc] += 1\n",
    "    cells_with_no_refs = [c\n",
    "                          for c, refs_n in refs_by_cell.items()\n",
    "                          if refs_n == 0]\n",
    "\n",
    "    for cls_seed in cells_with_no_refs:\n",
    "        cur_queue = collections.deque([(cls_seed, { gen_cls_id() })])\n",
    "\n",
    "        while len(cur_queue) > 0:\n",
    "            cur_cell, cur_cls = cur_queue.popleft()\n",
    "            cell2cls[cur_cell] = cur_cls\n",
    "\n",
    "            cur_neighbors = neighborhood.get(cur_cell, [])\n",
    "            many_neighbors = len(cur_neighbors) > 1\n",
    "            for oc in cur_neighbors:\n",
    "                oc_cls = set(cur_cls)\n",
    "                if many_neighbors:\n",
    "                    oc_cls.add(gen_cls_id())\n",
    "                cur_queue.append((oc, oc_cls))\n",
    "\n",
    "    return cell2cls\n",
    "\n",
    "\n",
    "def reconstruct_table_from_grid(body, cells, grid, cell_idx, intracell_space_classes, prob_threshold=0.5):\n",
    "    row_neighbors = collections.defaultdict(set)\n",
    "    col_neighbors = collections.defaultdict(set)\n",
    "\n",
    "    for (c1, c2), probs in intracell_space_classes.items():\n",
    "        b1 = cells[c1]\n",
    "        b2 = cells[c2]\n",
    "        if probs[STRUCT_SAME_ROWS_I] > prob_threshold:\n",
    "            rc1, rc2, do_not_overlap = reorder_cells(c1, c2, cells, 1) # ensure rc1 is in the left of rc2\n",
    "            if do_not_overlap:\n",
    "                row_neighbors[rc1].add(rc2)\n",
    "        if probs[STRUCT_SAME_COLS_I] > prob_threshold:\n",
    "            cc1, cc2, do_not_overlap = reorder_cells(c1, c2, cells, 0) # ensure cc1 is above of cc2\n",
    "            if do_not_overlap:\n",
    "                col_neighbors[cc1].add(cc2)\n",
    "\n",
    "    cell2rows = make_equivalence_classes(row_neighbors)\n",
    "    cell2cols = make_equivalence_classes(col_neighbors)\n",
    "\n",
    "    rows = collections.defaultdict(set)\n",
    "    for cell_i, cell_rows_idx in cell2rows.items():\n",
    "        for row_i in cell_rows_idx:\n",
    "            rows[row_i].add(cell_i)\n",
    "\n",
    "    cols = collections.defaultdict(set)\n",
    "    for cell_i, cell_cols_idx in cell2cols.items():\n",
    "        for col_i in cell_cols_idx:\n",
    "            cols[col_i].add(cell_i)\n",
    "\n",
    "    row_boxes = [just_box_union([cells[i] for i in row_idx])\n",
    "                 for row_idx in rows.values()]\n",
    "    row_boxes.sort(key=lambda b: b[0])\n",
    "\n",
    "    col_boxes = [just_box_union([cells[i] for i in col_idx])\n",
    "                 for col_idx in cols.values()]\n",
    "    col_boxes.sort(key=lambda b: b[1])\n",
    "    return (body,\n",
    "            cells,\n",
    "            row_boxes,\n",
    "            col_boxes)\n",
    "\n",
    "\n",
    "def get_segm_mask_batch(images, segm_model, cuda=True):\n",
    "    batch_segm_input = npvar(numpy.expand_dims(numpy.array([numpy.array(img).astype('float32')\n",
    "                                                            for img in images]),\n",
    "                                               1) / 255.0,\n",
    "                             cuda)\n",
    "    return segm_model(batch_segm_input).data.cpu().numpy()\n",
    "\n",
    "\n",
    "def parse_tables_from_images(images, det_model, segm_model, cell_model, cuda=True, cell_batch_size=64):\n",
    "    batch_segm_output = get_segm_mask_batch(images, segm_model, cuda)\n",
    "    tables_by_image = []\n",
    "    grids_by_image = []\n",
    "\n",
    "    for one_segm_mask in batch_segm_output:\n",
    "        cur_img_tables = []\n",
    "        cur_img_grids = []\n",
    "\n",
    "        # here should go a loop over all found bodies\n",
    "        body, cells, grid, cell_idx, intracell_relations = table_grid_from_intracell_mask(one_segm_mask)\n",
    "        intracell_relation_keys = list(intracell_relations.keys())\n",
    "        intracell_relation_classes = {}\n",
    "        for batch_start in range(0, len(intracell_relation_keys), cell_batch_size):\n",
    "            batch_rel_keys = intracell_relation_keys[batch_start:batch_start+cell_batch_size]\n",
    "            batch_relations = [(cells[i1], cells[i2], intracell_relations[(i1, i2)])\n",
    "                               for (i1, i2) in batch_rel_keys]\n",
    "\n",
    "            cell_img_inp = npvar(one_segm_mask, cuda).unsqueeze(0)\n",
    "            cell_batch_input = CellRelConvFCNClassifier.make_batch(cell_img_inp,\n",
    "                                                                   [batch_relations])\n",
    "            cell_batch_output = cell_model(cell_batch_input).data.cpu().numpy()\n",
    "            for rel_key, cur_cell_pair_out in zip(batch_rel_keys, cell_batch_output):\n",
    "                intracell_relation_classes[rel_key] = cur_cell_pair_out\n",
    "        cur_img_grids.append((body, cells, grid, cell_idx, intracell_relation_classes))\n",
    "        cur_img_tables.append(reconstruct_table_from_grid(body, cells, grid, cell_idx, intracell_relation_classes))\n",
    "\n",
    "        tables_by_image.append(cur_img_tables)\n",
    "        grids_by_image.append(cur_img_grids)\n",
    "\n",
    "    return tables_by_image, grids_by_image\n",
    "\n",
    "\n",
    "def make_demo_mask_from_parsed_table(img, table_info):\n",
    "    body, cells, rows, cols = table_info\n",
    "    boxes = [(1, body)]\n",
    "    boxes.extend((2, b) for b in cells)\n",
    "    boxes.extend((3, b) for b in rows)\n",
    "    boxes.extend((4, b) for b in cols)\n",
    "    return make_demo_mask(img, boxes)\n",
    "\n",
    "\n",
    "def make_intracell_rels_symmetric(intracell_relation_classes):\n",
    "    src_keys = list(intracell_relation_classes.keys())\n",
    "    sums = collections.defaultdict(lambda: numpy.zeros(2, dtype='float32'))\n",
    "    norms = collections.defaultdict(float)\n",
    "    for (c1, c2), probs in intracell_relation_classes.items():\n",
    "        if c1 > c2:\n",
    "            c1, c2 = c2, c1\n",
    "        symmetric_key = (c1, c2)\n",
    "        sums[symmetric_key] += probs\n",
    "        norms[symmetric_key] += 1\n",
    "    result = {}\n",
    "    for key in src_keys:\n",
    "        c1, c2 = key\n",
    "        if c1 > c2:\n",
    "            c1, c2 = c2, c1\n",
    "        symmetric_key = (c1, c2)\n",
    "        result[key] = sums[symmetric_key] / norms[symmetric_key]\n",
    "    return result"
   ]
  },
  {
   "cell_type": "code",
   "execution_count": 266,
   "metadata": {
    "ExecuteTime": {
     "end_time": "2017-12-18T14:51:01.205097Z",
     "start_time": "2017-12-18T14:51:01.165582Z"
    }
   },
   "outputs": [],
   "source": [
    "test_img_id = val_int_image_ids[10]\n",
    "test_image = load_image_opaque(test_img_id + IN_IMG_SUFFIX, mode='L').crop((0, 0, 800, 400))"
   ]
  },
  {
   "cell_type": "code",
   "execution_count": 267,
   "metadata": {
    "ExecuteTime": {
     "end_time": "2017-12-18T14:51:02.181503Z",
     "start_time": "2017-12-18T14:51:01.330465Z"
    }
   },
   "outputs": [],
   "source": [
    "tables_by_image, grids_by_image = parse_tables_from_images([test_image],\n",
    "                                                           None,\n",
    "                                                           cell_test_base_segm_model,\n",
    "                                                           cell_test_net,\n",
    "                                                           cuda=True,\n",
    "                                                           cell_batch_size=64)"
   ]
  },
  {
   "cell_type": "code",
   "execution_count": 268,
   "metadata": {
    "ExecuteTime": {
     "end_time": "2017-12-18T14:51:02.226102Z",
     "start_time": "2017-12-18T14:51:02.188279Z"
    }
   },
   "outputs": [
    {
     "name": "stdout",
     "output_type": "stream",
     "text": [
      "test_grid_ic_rels 226 [ 0.24455899  0.25907114]\n",
      "test_grid_ic_rels_sym 226 [ 0.24455896  0.25907114]\n"
     ]
    }
   ],
   "source": [
    "test_grid_ic_rels = grids_by_image[0][0][-1]\n",
    "print('test_grid_ic_rels', len(test_grid_ic_rels), numpy.array(list(test_grid_ic_rels.values())).mean(0))\n",
    "test_grid_ic_rels_sym = make_intracell_rels_symmetric(test_grid_ic_rels)\n",
    "print('test_grid_ic_rels_sym', len(test_grid_ic_rels_sym), numpy.array(list(test_grid_ic_rels_sym.values())).mean(0))"
   ]
  },
  {
   "cell_type": "code",
   "execution_count": 269,
   "metadata": {
    "ExecuteTime": {
     "end_time": "2017-12-18T14:51:02.453878Z",
     "start_time": "2017-12-18T14:51:02.228292Z"
    }
   },
   "outputs": [
    {
     "data": {
      "image/png": "[encoded data removed]",
      "text/plain": [
       "<PIL.Image.Image image mode=RGB size=800x400 at 0x7F2919DE0400>"
      ]
     },
     "execution_count": 269,
     "metadata": {},
     "output_type": "execute_result"
    }
   ],
   "source": [
    "def make_demo_mask_from_grid_info(img, grid_info, min_prob=0.5, cells_of_interest=None, print_probs=False):\n",
    "    body, cells, grid, cell_idx, intracell_relation_classes = grid_info\n",
    "    rel_mask = numpy.zeros((3, img.size[1], img.size[0]), dtype='uint8')\n",
    "    for (c1, c2), probs in intracell_relation_classes.items():\n",
    "        if not cells_of_interest is None:\n",
    "            if not (c1 in cells_of_interest or c2 in cells_of_interest):\n",
    "                continue\n",
    "        b1 = cells[c1]\n",
    "        b2 = cells[c2]\n",
    "        for ch_i in range(probs.shape[0]):\n",
    "            if probs[ch_i] < min_prob:\n",
    "                continue\n",
    "            if print_probs:\n",
    "                print(c1, c2, ch_i, probs[ch_i])\n",
    "            draw_intercell_mask(rel_mask[ch_i],\n",
    "                                b1,\n",
    "                                b2,\n",
    "                                'same_row',\n",
    "                                value=int(probs[ch_i]*255))\n",
    "    rel_mask = mask_to_img(rel_mask.astype('float32') / 255.0)\n",
    "\n",
    "    rel_mask_img = arr_to_img(rel_mask)\n",
    "    cells_for_display = cells if cells_of_interest is None else cells_of_interest\n",
    "    base_mask = make_demo_mask(img, [(1, body)] + [(2, c)\n",
    "                                                   for c in cells_for_display])\n",
    "    return Image.blend(rel_mask_img.convert('RGB'), base_mask, 0.5)\n",
    "\n",
    "\n",
    "def get_either(m, k):\n",
    "    r = m.get(k, None)\n",
    "    if r is None:\n",
    "        r = m.get((k[1], k[0]), None)\n",
    "    return r\n",
    "\n",
    "# print(get_either(test_grid_ic_rels, (5, 14)))\n",
    "\n",
    "make_demo_mask_from_grid_info(test_image, grids_by_image[0][0], min_prob=0.5)"
   ]
  },
  {
   "cell_type": "code",
   "execution_count": 270,
   "metadata": {
    "ExecuteTime": {
     "end_time": "2017-12-18T14:51:02.579582Z",
     "start_time": "2017-12-18T14:51:02.456196Z"
    }
   },
   "outputs": [
    {
     "data": {
      "image/png": "[encoded data removed]",
      "text/plain": [
       "<PIL.Image.Image image mode=RGB size=800x400 at 0x7F287284A748>"
      ]
     },
     "execution_count": 270,
     "metadata": {},
     "output_type": "execute_result"
    }
   ],
   "source": [
    "test_image_segm_mask = get_segm_mask_batch([test_image], cell_test_base_segm_model)\n",
    "arr_to_img(mask_to_img(test_image_segm_mask[0]))"
   ]
  },
  {
   "cell_type": "code",
   "execution_count": 271,
   "metadata": {
    "ExecuteTime": {
     "end_time": "2017-12-18T14:51:02.641185Z",
     "start_time": "2017-12-18T14:51:02.581427Z"
    }
   },
   "outputs": [
    {
     "data": {
      "image/png": "[encoded data removed]",
      "text/plain": [
       "<PIL.Image.Image image mode=RGB size=800x400 at 0x7F287284A438>"
      ]
     },
     "execution_count": 271,
     "metadata": {},
     "output_type": "execute_result"
    }
   ],
   "source": [
    "make_demo_mask_from_parsed_table(test_image, tables_by_image[0][0])"
   ]
  },
  {
   "cell_type": "code",
   "execution_count": null,
   "metadata": {},
   "outputs": [],
   "source": []
  }
 ],
 "metadata": {
  "kernelspec": {
   "display_name": "Python 3",
   "language": "python",
   "name": "python3"
  },
  "language_info": {
   "codemirror_mode": {
    "name": "ipython",
    "version": 3
   },
   "file_extension": ".py",
   "mimetype": "text/x-python",
   "name": "python",
   "nbconvert_exporter": "python",
   "pygments_lexer": "ipython3",
   "version": "3.6.0"
  },
  "toc": {
   "colors": {
    "hover_highlight": "#DAA520",
    "running_highlight": "#FF0000",
    "selected_highlight": "#FFD700"
   },
   "moveMenuLeft": true,
   "nav_menu": {
    "height": "138px",
    "width": "252px"
   },
   "navigate_menu": true,
   "number_sections": true,
   "sideBar": true,
   "threshold": 4,
   "toc_cell": false,
   "toc_position": {
    "height": "848px",
    "left": "0px",
    "right": "1708px",
    "top": "111px",
    "width": "212px"
   },
   "toc_section_display": "block",
   "toc_window_display": true
  }
 },
 "nbformat": 4,
 "nbformat_minor": 2
}
