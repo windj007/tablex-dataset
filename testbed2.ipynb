{
 "cells": [
  {
   "cell_type": "markdown",
   "metadata": {},
   "source": [
    "# How to use the models we trained"
   ]
  },
  {
   "cell_type": "code",
   "execution_count": 1,
   "metadata": {
    "ExecuteTime": {
     "end_time": "2017-06-29T09:21:39.406319Z",
     "start_time": "2017-06-29T09:21:39.398523Z"
    },
    "collapsed": true
   },
   "outputs": [],
   "source": [
    "# !pip install -U opencv-python tabula-py"
   ]
  },
  {
   "cell_type": "code",
   "execution_count": 1,
   "metadata": {
    "ExecuteTime": {
     "end_time": "2017-07-01T15:52:16.892871Z",
     "start_time": "2017-07-01T15:52:13.601646Z"
    }
   },
   "outputs": [
    {
     "name": "stdout",
     "output_type": "stream",
     "text": [
      "Populating the interactive namespace from numpy and matplotlib\n"
     ]
    },
    {
     "name": "stderr",
     "output_type": "stream",
     "text": [
      "/root/.pyenv/versions/3.6.0/lib/python3.6/site-packages/IPython/core/magics/pylab.py:160: UserWarning: pylab import has clobbered these variables: ['random']\n",
      "`%matplotlib` prevents importing * from pylab and numpy\n",
      "  \"\\n`%matplotlib` prevents importing * from pylab and numpy\"\n",
      "Using TensorFlow backend.\n"
     ]
    }
   ],
   "source": [
    "%load_ext autoreload\n",
    "%autoreload 2\n",
    "\n",
    "import os, numpy, glob, collections, random, shutil, pandas, time, subprocess, itertools, cv2\n",
    "os.environ[\"CUDA_DEVICE_ORDER\"]=\"PCI_BUS_ID\" # see issue #152\n",
    "os.environ[\"CUDA_VISIBLE_DEVICES\"]= \"\"\n",
    "\n",
    "from PIL import Image\n",
    "from IPython.display import display, SVG\n",
    "from joblib import Parallel, delayed\n",
    "\n",
    "import matplotlib.pyplot as plt\n",
    "%pylab inline\n",
    "\n",
    "from keras import backend as K\n",
    "from keras.models import load_model\n",
    "from keras.objectives import binary_crossentropy\n",
    "\n",
    "import tabula"
   ]
  },
  {
   "cell_type": "code",
   "execution_count": 4,
   "metadata": {
    "ExecuteTime": {
     "end_time": "2017-07-01T15:55:05.658013Z",
     "start_time": "2017-07-01T15:54:56.629239Z"
    }
   },
   "outputs": [
    {
     "name": "stderr",
     "output_type": "stream",
     "text": [
      "/root/.pyenv/versions/3.6.0/lib/python3.6/site-packages/keras/backend/tensorflow_backend.py:2289: UserWarning: Expected no kwargs, you passed 1\n",
      "kwargs passed to function are ignored with Tensorflow backend\n",
      "  warnings.warn('\\n'.join(msg))\n"
     ]
    }
   ],
   "source": [
    "smooth = 1e-12\n",
    "\n",
    "def dice_coef(y_true, y_pred):\n",
    "    intersection = K.sum(y_true * y_pred, axis=[0, 1, 2])\n",
    "    union = K.sum(y_true + y_pred, axis=[0, 1, 2])\n",
    "    dice = (intersection + smooth) / (union - intersection + smooth)\n",
    "    return K.mean(dice)\n",
    "\n",
    "\n",
    "def dice_coef_loss(y_true, y_pred):\n",
    "    return -dice_coef(y_true, y_pred)\n",
    "\n",
    "\n",
    "def dice_ce_loss(y_true, y_pred):\n",
    "    return -K.log(dice_coef(y_true, y_pred)) + binary_crossentropy(y_pred, y_true)\n",
    "\n",
    "# segmentation_model = load_model('./models/contours.h5', custom_objects=dict(dice_coef_loss=dice_coef_loss))\n",
    "segmentation_model = load_model('./models/hbf1.h5',\n",
    "                                custom_objects=dict(dice_coef_loss=dice_coef_loss,\n",
    "                                                    dice_coef=dice_coef,\n",
    "                                                    dice_ce_loss=dice_ce_loss))"
   ]
  },
  {
   "cell_type": "code",
   "execution_count": 42,
   "metadata": {
    "ExecuteTime": {
     "end_time": "2017-07-03T10:24:35.700848Z",
     "start_time": "2017-07-03T10:24:34.597906Z"
    },
    "collapsed": true
   },
   "outputs": [],
   "source": [
    "def arr_to_img(arr):\n",
    "    return Image.fromarray((arr * 255).astype('uint8'))\n",
    "\n",
    "\n",
    "def arr3_to_img(arr):\n",
    "    arr = numpy.rollaxis(arr, 0, 2).reshape((arr.shape[1], arr.shape[0] * arr.shape[2])+arr.shape[3:])\n",
    "    print(arr.shape)\n",
    "    return arr_to_img(arr)\n",
    "\n",
    "\n",
    "def to_grayscale(arr):\n",
    "    return arr.mean(axis=-1)\n",
    "\n",
    "\n",
    "def identity(x):\n",
    "    return x\n",
    "\n",
    "\n",
    "def rgba_to_rgb(image, color=(255, 255, 255)):\n",
    "    image.load()  # needed for split()\n",
    "    background = Image.new('RGB', image.size, color)\n",
    "    background.paste(image, mask=image.split()[3])  # 3 is the alpha channel\n",
    "    return background\n",
    "\n",
    "\n",
    "def la_to_l(image, color=255):\n",
    "    image.load()  # needed for split()\n",
    "    background = Image.new('L', image.size, color)\n",
    "    background.paste(image, mask=image.split()[-1])  # 3 is the alpha channel\n",
    "    return background\n",
    "\n",
    "\n",
    "def load_image_to_array(fname, proc=identity, mode=None):\n",
    "    img = Image.open(fname)\n",
    "    if not mode is None and img.mode != mode:\n",
    "        if img.mode == 'LA':\n",
    "            img = la_to_l(img)\n",
    "        elif img.mode == 'RGBA':\n",
    "            img = rgba_to_rgb(img)\n",
    "        img = img.convert(mode)\n",
    "    return proc(numpy.array(img))\n",
    "\n",
    "\n",
    "def read_images_to_tensor(filenames, n_jobs=20, proc=identity, mode='RGB'):\n",
    "    data = list(Parallel(n_jobs=n_jobs)(delayed(load_image_to_array)(fname, proc=proc, mode=mode)\n",
    "                                        for fname in filenames))\n",
    "    return numpy.stack(data).astype('float32') / 255.0\n",
    "\n",
    "\n",
    "def segment_images(model, image_fnames, output_threshold=0.8, **read_kwargs):\n",
    "    img_data = read_images_to_tensor(image_fnames, **read_kwargs)\n",
    "    return binarize_tensor(model.predict(img_data).reshape(img_data.shape[:-1]),\n",
    "                           threshold=output_threshold)\n",
    "\n",
    "\n",
    "WINDOW_SIZE = (500, 500)\n",
    "STRIDE = (50, 50)\n",
    "OUT_SCALE_TO = (256, 256)\n",
    "OUT_MODE = 'L'\n",
    "ROTATIONS = (0, 90, 180, 270)\n",
    "DENSITY = 72\n",
    "PIXELS_TO_POINTS_FACTOR = 1 # DENSITY / 72.0 # convert does not respect density and resample when converting to png\n",
    "\n",
    "\n",
    "def pdf_to_pages(in_file, out_dir):\n",
    "    subprocess.check_call(['convert', in_file,\n",
    "                           '-density', str(DENSITY),\n",
    "                           '-resample', '{0}x{0}'.format(DENSITY),\n",
    "                           os.path.join(out_dir, '%04d.png')])\n",
    "    return list(glob.glob(os.path.join(out_dir, '*.png')))\n",
    "\n",
    "\n",
    "def augment_image_deterministic(fname, out_dir):\n",
    "    out_i = 0\n",
    "    base_fname = os.path.splitext(os.path.basename(fname))[0]\n",
    "    src_img = Image.open(fname).convert('RGB').convert(OUT_MODE)\n",
    "\n",
    "    offset_gen = itertools.product(range(0,\n",
    "                                         src_img.size[0] - WINDOW_SIZE[0],\n",
    "                                         STRIDE[0]),\n",
    "                                   range(0,\n",
    "                                         src_img.size[1] - WINDOW_SIZE[1],\n",
    "                                         STRIDE[1]))\n",
    "    for x_off, y_off in offset_gen:\n",
    "        new_image = src_img.crop((x_off,\n",
    "                                  y_off,\n",
    "                                  x_off + WINDOW_SIZE[0],\n",
    "                                  y_off + WINDOW_SIZE[1]))\n",
    "        new_image.thumbnail(OUT_SCALE_TO)\n",
    "        for angle in ROTATIONS:\n",
    "            out_fname = os.path.join(out_dir,\n",
    "                                     '_'.join((base_fname,\n",
    "                                               str(out_i))) + '.png')\n",
    "            new_image.rotate(angle).save(out_fname)\n",
    "            yield (x_off, y_off, angle, out_fname)\n",
    "            out_i += 1\n",
    "\n",
    "\n",
    "# Network outputs:\n",
    "# (Footer, Header, Body)\n",
    "\n",
    "\n",
    "def process_page(segm_model, full_image_fname, out_dir, mask_threshold=0.8, min_contour_area=100, read_mode='L', read_proc=identity):\n",
    "    transformations = list(augment_image_deterministic(full_image_fname, out_dir))\n",
    "    transformed_images = numpy.expand_dims(read_images_to_tensor([f for _, _, _, f in transformations], mode=read_mode, proc=read_proc),\n",
    "                                           -1)\n",
    "    partial_masks = segm_model.predict(transformed_images)\n",
    "    page_image = Image.open(full_image_fname).convert('RGB').convert(OUT_MODE)\n",
    "    print(page_image.size)\n",
    "    aggregated_mask = numpy.zeros((page_image.size[1], page_image.size[0], 3),\n",
    "                                  dtype='float32')\n",
    "    norm = numpy.zeros_like(aggregated_mask)\n",
    "    for (x_off, y_off, angle, _), mask_pixels in zip(transformations, partial_masks):\n",
    "        mask_width = min(WINDOW_SIZE[0], aggregated_mask.shape[1] - x_off)\n",
    "        mask_height = min(WINDOW_SIZE[1], aggregated_mask.shape[0] - y_off)\n",
    "\n",
    "        mask = arr_to_img(mask_pixels)\n",
    "        mask = mask.rotate(-angle).resize((mask_width, mask_height), Image.BILINEAR)\n",
    "        mask_pixels = numpy.array(mask)\n",
    "        aggregated_mask[y_off:y_off+mask_pixels.shape[1],\n",
    "                        x_off:x_off+mask_pixels.shape[0]] += mask_pixels\n",
    "        norm[y_off:y_off+mask_pixels.shape[1],\n",
    "             x_off:x_off+mask_pixels.shape[0], :] += 1\n",
    "    aggregated_mask /= norm\n",
    "    aggregated_mask = binarize_tensor(aggregated_mask, mask_threshold * 255.0)\n",
    "\n",
    "    contours = [(channel,\n",
    "                 cv2.findContours((aggregated_mask[:, :, channel]).astype('uint8'),\n",
    "                                  cv2.RETR_LIST,\n",
    "                                  cv2.CHAIN_APPROX_SIMPLE)[1])\n",
    "                for channel in range(3)]\n",
    "    result = []\n",
    "    demo_mask = numpy.zeros(aggregated_mask.shape, dtype='uint8')\n",
    "    for channel, cur_contours in contours:\n",
    "        for cnt in cur_contours:\n",
    "            if cv2.contourArea(cnt) < min_contour_area:\n",
    "                continue\n",
    "            x, y, w, h = cv2.boundingRect(cnt)\n",
    "            result.append((channel, numpy.array([y, x, y+h, x+w]) * PIXELS_TO_POINTS_FACTOR))\n",
    "            color = [0] * 3\n",
    "            color[channel] = 255\n",
    "            cv2.drawContours(demo_mask,\n",
    "                             [numpy.array([(x, y),\n",
    "                                            (x + w, y),\n",
    "                                            (x + w, y + h),\n",
    "                                            (x, y + h)])],\n",
    "                             -1,\n",
    "                             tuple(color),\n",
    "                             cv2.FILLED)\n",
    "\n",
    "    demo_mask = arr_to_img(demo_mask.astype('float32') / 255.0)\n",
    "    print(page_image.size, demo_mask.size)\n",
    "    display(Image.blend(page_image.convert('RGB'), demo_mask, 0.5))\n",
    "    return result"
   ]
  },
  {
   "cell_type": "code",
   "execution_count": 46,
   "metadata": {
    "ExecuteTime": {
     "end_time": "2017-07-03T10:26:43.949470Z",
     "start_time": "2017-07-03T10:26:26.410809Z"
    },
    "scrolled": false
   },
   "outputs": [
    {
     "name": "stderr",
     "output_type": "stream",
     "text": [
      "/root/.pyenv/versions/3.6.0/lib/python3.6/site-packages/PIL/Image.py:885: UserWarning: Palette images with Transparency   expressed in bytes should be converted to RGBA images\n",
      "  'to RGBA images')\n"
     ]
    },
    {
     "name": "stdout",
     "output_type": "stream",
     "text": [
      "(632, 812)\n",
      "(632, 812) (632, 812)\n"
     ]
    },
    {
     "name": "stderr",
     "output_type": "stream",
     "text": [
      "/root/.pyenv/versions/3.6.0/lib/python3.6/site-packages/ipykernel_launcher.py:124: RuntimeWarning: invalid value encountered in true_divide\n",
      "/root/.pyenv/versions/3.6.0/lib/python3.6/site-packages/ipykernel_launcher.py:15: RuntimeWarning: invalid value encountered in greater_equal\n",
      "  from ipykernel import kernelapp as app\n"
     ]
    },
    {
     "data": {
      "image/png": "[encoded data removed]",
      "text/plain": [
       "<PIL.Image.Image image mode=RGB size=632x812 at 0x7FBC56CCBA20>"
      ]
     },
     "metadata": {},
     "output_type": "display_data"
    },
    {
     "data": {
      "text/plain": [
       "[(0, array([687, 131, 748, 504])),\n",
       " (1, array([536, 136, 549, 284])),\n",
       " (2, array([551, 137, 687, 500]))]"
      ]
     },
     "execution_count": 46,
     "metadata": {},
     "output_type": "execute_result"
    }
   ],
   "source": [
    "# page_filenames = pdf_to_pages('/notebook/data/tmp/11427731.pdf', '/notebook/data/tmp/pages')\n",
    "table_coords = process_page(segmentation_model, '/notebook/data/tmp/pages/0004.png', '/notebook/data/tmp/pages/page_buf/',\n",
    "                            mask_threshold=0.5)\n",
    "table_coords"
   ]
  },
  {
   "cell_type": "code",
   "execution_count": null,
   "metadata": {
    "collapsed": true
   },
   "outputs": [],
   "source": []
  }
 ],
 "metadata": {
  "kernelspec": {
   "display_name": "Python 3",
   "language": "python",
   "name": "python3"
  },
  "language_info": {
   "codemirror_mode": {
    "name": "ipython",
    "version": 3
   },
   "file_extension": ".py",
   "mimetype": "text/x-python",
   "name": "python",
   "nbconvert_exporter": "python",
   "pygments_lexer": "ipython3",
   "version": "3.6.0"
  },
  "toc": {
   "colors": {
    "hover_highlight": "#DAA520",
    "running_highlight": "#FF0000",
    "selected_highlight": "#FFD700"
   },
   "moveMenuLeft": true,
   "nav_menu": {
    "height": "30px",
    "width": "252px"
   },
   "navigate_menu": true,
   "number_sections": true,
   "sideBar": true,
   "threshold": 4,
   "toc_cell": false,
   "toc_section_display": "block",
   "toc_window_display": true
  }
 },
 "nbformat": 4,
 "nbformat_minor": 2
}
